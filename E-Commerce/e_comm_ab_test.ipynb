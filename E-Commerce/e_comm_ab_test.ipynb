{
 "cells": [
  {
   "cell_type": "markdown",
   "metadata": {},
   "source": [
    "# Анализ A/B- теста, проведенного для интернет-магазина"
   ]
  },
  {
   "cell_type": "markdown",
   "metadata": {},
   "source": [
    "**Цель исследования** — изучить данные о посетителях и их заказах и проверить предложенные гипотезы с целью увеличения выручки.\n",
    "\n",
    "**Ход исследования**\n",
    "\n",
    "Данные о предложенных гипотезах, а также о посетителях интернет-магазина и заказах получены из следующих файлов:\n",
    "- `/datasets/hypothesis.csv` - 9 гипотез по увеличению выручки интернет-магазина с указанными параметрами Reach, Impact, Confidence, Effort.\n",
    "- `/datasets/orders.csv` - данные о заказах\n",
    "- `/datasets/visitors.csv` - данные о пользователях в группах A и B.\n",
    "\n",
    "Исследование будет включать следующие этапы:\n",
    " 1. [Обзор и подготовка данных.](#info)\n",
    " 2. [Приоритизация гипотез](#hypo)\n",
    " 3. [Анализ А/В- теста](#аbtest)\n",
    " 4. [Решение.](#decision)"
   ]
  },
  {
   "cell_type": "markdown",
   "metadata": {},
   "source": [
    "<a id=\"info\"></a>\n",
    "## Обзор и подготовка данных"
   ]
  },
  {
   "cell_type": "code",
   "execution_count": 1,
   "metadata": {},
   "outputs": [],
   "source": [
    "import pandas as pd\n",
    "import scipy.stats as stats\n",
    "import datetime as dt\n",
    "import numpy as np\n",
    "import matplotlib.pyplot as plt\n",
    "from pandas.plotting import register_matplotlib_converters\n",
    "import warnings\n",
    "register_matplotlib_converters()"
   ]
  },
  {
   "cell_type": "code",
   "execution_count": 2,
   "metadata": {},
   "outputs": [
    {
     "data": {
      "text/html": [
       "<div>\n",
       "<style scoped>\n",
       "    .dataframe tbody tr th:only-of-type {\n",
       "        vertical-align: middle;\n",
       "    }\n",
       "\n",
       "    .dataframe tbody tr th {\n",
       "        vertical-align: top;\n",
       "    }\n",
       "\n",
       "    .dataframe thead th {\n",
       "        text-align: right;\n",
       "    }\n",
       "</style>\n",
       "<table border=\"1\" class=\"dataframe\">\n",
       "  <thead>\n",
       "    <tr style=\"text-align: right;\">\n",
       "      <th></th>\n",
       "      <th>Hypothesis</th>\n",
       "      <th>Reach</th>\n",
       "      <th>Impact</th>\n",
       "      <th>Confidence</th>\n",
       "      <th>Efforts</th>\n",
       "    </tr>\n",
       "  </thead>\n",
       "  <tbody>\n",
       "    <tr>\n",
       "      <th>0</th>\n",
       "      <td>Добавить два новых канала привлечения трафика,...</td>\n",
       "      <td>3</td>\n",
       "      <td>10</td>\n",
       "      <td>8</td>\n",
       "      <td>6</td>\n",
       "    </tr>\n",
       "    <tr>\n",
       "      <th>1</th>\n",
       "      <td>Запустить собственную службу доставки, что сок...</td>\n",
       "      <td>2</td>\n",
       "      <td>5</td>\n",
       "      <td>4</td>\n",
       "      <td>10</td>\n",
       "    </tr>\n",
       "    <tr>\n",
       "      <th>2</th>\n",
       "      <td>Добавить блоки рекомендаций товаров на сайт ин...</td>\n",
       "      <td>8</td>\n",
       "      <td>3</td>\n",
       "      <td>7</td>\n",
       "      <td>3</td>\n",
       "    </tr>\n",
       "    <tr>\n",
       "      <th>3</th>\n",
       "      <td>Изменить структура категорий, что увеличит кон...</td>\n",
       "      <td>8</td>\n",
       "      <td>3</td>\n",
       "      <td>3</td>\n",
       "      <td>8</td>\n",
       "    </tr>\n",
       "    <tr>\n",
       "      <th>4</th>\n",
       "      <td>Изменить цвет фона главной страницы, чтобы уве...</td>\n",
       "      <td>3</td>\n",
       "      <td>1</td>\n",
       "      <td>1</td>\n",
       "      <td>1</td>\n",
       "    </tr>\n",
       "  </tbody>\n",
       "</table>\n",
       "</div>"
      ],
      "text/plain": [
       "                                          Hypothesis  Reach  Impact  \\\n",
       "0  Добавить два новых канала привлечения трафика,...      3      10   \n",
       "1  Запустить собственную службу доставки, что сок...      2       5   \n",
       "2  Добавить блоки рекомендаций товаров на сайт ин...      8       3   \n",
       "3  Изменить структура категорий, что увеличит кон...      8       3   \n",
       "4  Изменить цвет фона главной страницы, чтобы уве...      3       1   \n",
       "\n",
       "   Confidence  Efforts  \n",
       "0           8        6  \n",
       "1           4       10  \n",
       "2           7        3  \n",
       "3           3        8  \n",
       "4           1        1  "
      ]
     },
     "metadata": {},
     "output_type": "display_data"
    },
    {
     "name": "stdout",
     "output_type": "stream",
     "text": [
      "\n"
     ]
    },
    {
     "data": {
      "text/html": [
       "<div>\n",
       "<style scoped>\n",
       "    .dataframe tbody tr th:only-of-type {\n",
       "        vertical-align: middle;\n",
       "    }\n",
       "\n",
       "    .dataframe tbody tr th {\n",
       "        vertical-align: top;\n",
       "    }\n",
       "\n",
       "    .dataframe thead th {\n",
       "        text-align: right;\n",
       "    }\n",
       "</style>\n",
       "<table border=\"1\" class=\"dataframe\">\n",
       "  <thead>\n",
       "    <tr style=\"text-align: right;\">\n",
       "      <th></th>\n",
       "      <th>transactionId</th>\n",
       "      <th>visitorId</th>\n",
       "      <th>date</th>\n",
       "      <th>revenue</th>\n",
       "      <th>group</th>\n",
       "    </tr>\n",
       "  </thead>\n",
       "  <tbody>\n",
       "    <tr>\n",
       "      <th>0</th>\n",
       "      <td>3667963787</td>\n",
       "      <td>3312258926</td>\n",
       "      <td>2019-08-15</td>\n",
       "      <td>1650</td>\n",
       "      <td>B</td>\n",
       "    </tr>\n",
       "    <tr>\n",
       "      <th>1</th>\n",
       "      <td>2804400009</td>\n",
       "      <td>3642806036</td>\n",
       "      <td>2019-08-15</td>\n",
       "      <td>730</td>\n",
       "      <td>B</td>\n",
       "    </tr>\n",
       "    <tr>\n",
       "      <th>2</th>\n",
       "      <td>2961555356</td>\n",
       "      <td>4069496402</td>\n",
       "      <td>2019-08-15</td>\n",
       "      <td>400</td>\n",
       "      <td>A</td>\n",
       "    </tr>\n",
       "    <tr>\n",
       "      <th>3</th>\n",
       "      <td>3797467345</td>\n",
       "      <td>1196621759</td>\n",
       "      <td>2019-08-15</td>\n",
       "      <td>9759</td>\n",
       "      <td>B</td>\n",
       "    </tr>\n",
       "    <tr>\n",
       "      <th>4</th>\n",
       "      <td>2282983706</td>\n",
       "      <td>2322279887</td>\n",
       "      <td>2019-08-15</td>\n",
       "      <td>2308</td>\n",
       "      <td>B</td>\n",
       "    </tr>\n",
       "  </tbody>\n",
       "</table>\n",
       "</div>"
      ],
      "text/plain": [
       "   transactionId   visitorId        date  revenue group\n",
       "0     3667963787  3312258926  2019-08-15     1650     B\n",
       "1     2804400009  3642806036  2019-08-15      730     B\n",
       "2     2961555356  4069496402  2019-08-15      400     A\n",
       "3     3797467345  1196621759  2019-08-15     9759     B\n",
       "4     2282983706  2322279887  2019-08-15     2308     B"
      ]
     },
     "metadata": {},
     "output_type": "display_data"
    },
    {
     "name": "stdout",
     "output_type": "stream",
     "text": [
      "\n"
     ]
    },
    {
     "data": {
      "text/html": [
       "<div>\n",
       "<style scoped>\n",
       "    .dataframe tbody tr th:only-of-type {\n",
       "        vertical-align: middle;\n",
       "    }\n",
       "\n",
       "    .dataframe tbody tr th {\n",
       "        vertical-align: top;\n",
       "    }\n",
       "\n",
       "    .dataframe thead th {\n",
       "        text-align: right;\n",
       "    }\n",
       "</style>\n",
       "<table border=\"1\" class=\"dataframe\">\n",
       "  <thead>\n",
       "    <tr style=\"text-align: right;\">\n",
       "      <th></th>\n",
       "      <th>date</th>\n",
       "      <th>group</th>\n",
       "      <th>visitors</th>\n",
       "    </tr>\n",
       "  </thead>\n",
       "  <tbody>\n",
       "    <tr>\n",
       "      <th>0</th>\n",
       "      <td>2019-08-01</td>\n",
       "      <td>A</td>\n",
       "      <td>719</td>\n",
       "    </tr>\n",
       "    <tr>\n",
       "      <th>1</th>\n",
       "      <td>2019-08-02</td>\n",
       "      <td>A</td>\n",
       "      <td>619</td>\n",
       "    </tr>\n",
       "    <tr>\n",
       "      <th>2</th>\n",
       "      <td>2019-08-03</td>\n",
       "      <td>A</td>\n",
       "      <td>507</td>\n",
       "    </tr>\n",
       "    <tr>\n",
       "      <th>3</th>\n",
       "      <td>2019-08-04</td>\n",
       "      <td>A</td>\n",
       "      <td>717</td>\n",
       "    </tr>\n",
       "    <tr>\n",
       "      <th>4</th>\n",
       "      <td>2019-08-05</td>\n",
       "      <td>A</td>\n",
       "      <td>756</td>\n",
       "    </tr>\n",
       "  </tbody>\n",
       "</table>\n",
       "</div>"
      ],
      "text/plain": [
       "         date group  visitors\n",
       "0  2019-08-01     A       719\n",
       "1  2019-08-02     A       619\n",
       "2  2019-08-03     A       507\n",
       "3  2019-08-04     A       717\n",
       "4  2019-08-05     A       756"
      ]
     },
     "metadata": {},
     "output_type": "display_data"
    },
    {
     "name": "stdout",
     "output_type": "stream",
     "text": [
      "\n"
     ]
    }
   ],
   "source": [
    "hypothesis, orders, visitors = (\n",
    "        pd.read_csv('/datasets/hypothesis.csv'),  \n",
    "        pd.read_csv('/datasets/orders.csv'), \n",
    "        pd.read_csv('/datasets/visitors.csv'),  \n",
    "    )\n",
    "\n",
    "display(hypothesis.head(5))\n",
    "print()\n",
    "display(orders.head(5))\n",
    "print()\n",
    "display(visitors.head(5))\n",
    "print()"
   ]
  },
  {
   "cell_type": "markdown",
   "metadata": {},
   "source": [
    "Структура hypothesis.csv:\n",
    "- Hypothesis — краткое описание гипотезы;\n",
    "- Reach — охват пользователей по 10-балльной шкале;\n",
    "- Impact — влияние на пользователей по 10-балльной шкале;\n",
    "- Confidence — уверенность в гипотезе по 10-балльной шкале;\n",
    "- Efforts — затраты ресурсов на проверку гипотезы по 10-балльной шкале. Чем больше значение Efforts, тем дороже проверка гипотезы.\n",
    "\n",
    "Структура orders.csv:\n",
    "- transactionId — идентификатор заказа;\n",
    "- visitorId — идентификатор пользователя, совершившего заказ;\n",
    "- date — дата, когда был совершён заказ;\n",
    "- revenue — выручка заказа;\n",
    "- group — группа A/B-теста, в которую попал заказ.\n",
    "\n",
    "Структура visitors.csv:\n",
    "- date — дата;\n",
    "- group — группа A/B-теста;\n",
    "- visitors — количество пользователей в указанную дату в указанной группе A/B-теста."
   ]
  },
  {
   "cell_type": "markdown",
   "metadata": {},
   "source": [
    "Приведем названия столбцов к нижнему регистру."
   ]
  },
  {
   "cell_type": "code",
   "execution_count": 3,
   "metadata": {},
   "outputs": [],
   "source": [
    "hypothesis.columns = hypothesis.columns.str.lower()\n",
    "orders.columns = orders.columns.str.lower()"
   ]
  },
  {
   "cell_type": "markdown",
   "metadata": {},
   "source": [
    "Переименуем некоторые столбцы."
   ]
  },
  {
   "cell_type": "code",
   "execution_count": 4,
   "metadata": {},
   "outputs": [],
   "source": [
    "orders = orders.rename(columns={'transactionid':'transaction_id', 'visitorid':'visitor_id'})"
   ]
  },
  {
   "cell_type": "code",
   "execution_count": 5,
   "metadata": {},
   "outputs": [
    {
     "name": "stdout",
     "output_type": "stream",
     "text": [
      "<class 'pandas.core.frame.DataFrame'>\n",
      "RangeIndex: 9 entries, 0 to 8\n",
      "Data columns (total 5 columns):\n",
      " #   Column      Non-Null Count  Dtype \n",
      "---  ------      --------------  ----- \n",
      " 0   hypothesis  9 non-null      object\n",
      " 1   reach       9 non-null      int64 \n",
      " 2   impact      9 non-null      int64 \n",
      " 3   confidence  9 non-null      int64 \n",
      " 4   efforts     9 non-null      int64 \n",
      "dtypes: int64(4), object(1)\n",
      "memory usage: 488.0+ bytes\n",
      "None\n",
      "\n",
      "<class 'pandas.core.frame.DataFrame'>\n",
      "RangeIndex: 1197 entries, 0 to 1196\n",
      "Data columns (total 5 columns):\n",
      " #   Column          Non-Null Count  Dtype \n",
      "---  ------          --------------  ----- \n",
      " 0   transaction_id  1197 non-null   int64 \n",
      " 1   visitor_id      1197 non-null   int64 \n",
      " 2   date            1197 non-null   object\n",
      " 3   revenue         1197 non-null   int64 \n",
      " 4   group           1197 non-null   object\n",
      "dtypes: int64(3), object(2)\n",
      "memory usage: 46.9+ KB\n",
      "None\n",
      "\n",
      "<class 'pandas.core.frame.DataFrame'>\n",
      "RangeIndex: 62 entries, 0 to 61\n",
      "Data columns (total 3 columns):\n",
      " #   Column    Non-Null Count  Dtype \n",
      "---  ------    --------------  ----- \n",
      " 0   date      62 non-null     object\n",
      " 1   group     62 non-null     object\n",
      " 2   visitors  62 non-null     int64 \n",
      "dtypes: int64(1), object(2)\n",
      "memory usage: 1.6+ KB\n",
      "None\n",
      "\n"
     ]
    }
   ],
   "source": [
    "print(hypothesis.info())\n",
    "print()\n",
    "print(orders.info())\n",
    "print()\n",
    "print(visitors.info())\n",
    "print()"
   ]
  },
  {
   "cell_type": "code",
   "execution_count": 6,
   "metadata": {},
   "outputs": [
    {
     "name": "stdout",
     "output_type": "stream",
     "text": [
      "hypothesis    0\n",
      "reach         0\n",
      "impact        0\n",
      "confidence    0\n",
      "efforts       0\n",
      "dtype: int64\n",
      "\n",
      "transaction_id    0\n",
      "visitor_id        0\n",
      "date              0\n",
      "revenue           0\n",
      "group             0\n",
      "dtype: int64\n",
      "\n",
      "date        0\n",
      "group       0\n",
      "visitors    0\n",
      "dtype: int64\n",
      "\n"
     ]
    }
   ],
   "source": [
    "print(hypothesis.isna().sum())\n",
    "print()\n",
    "print(orders.isna().sum())\n",
    "print()\n",
    "print(visitors.isna().sum())\n",
    "print()"
   ]
  },
  {
   "cell_type": "markdown",
   "metadata": {},
   "source": [
    "Пропуски в данных отсутствуют, проверим наличие дубликатов."
   ]
  },
  {
   "cell_type": "code",
   "execution_count": 7,
   "metadata": {},
   "outputs": [
    {
     "name": "stdout",
     "output_type": "stream",
     "text": [
      "0\n",
      "\n",
      "0\n",
      "\n",
      "0\n",
      "\n"
     ]
    }
   ],
   "source": [
    "print(hypothesis.duplicated().sum())\n",
    "print()\n",
    "print(orders.duplicated().sum())\n",
    "print()\n",
    "print(visitors.duplicated().sum())\n",
    "print()"
   ]
  },
  {
   "cell_type": "markdown",
   "metadata": {},
   "source": [
    "Мы привели названия столбцов и типы данных к общепринятым и корректным.\n",
    "\n",
    "Проверка данных показала отсутствие пропусков и дубликатов. Данные готовы для дальнейшего анализа."
   ]
  },
  {
   "cell_type": "markdown",
   "metadata": {},
   "source": [
    "<a id=\"hypo\"></a>\n",
    "## Приоритизация гипотез"
   ]
  },
  {
   "cell_type": "markdown",
   "metadata": {},
   "source": [
    "Мы имеем в наличии 9 разных гипотез. Чтобы максимизировать ожидаемый рост выручки интернет-магазина, приоритизируем сформулированные гипотезы методами ICE/RICE."
   ]
  },
  {
   "cell_type": "code",
   "execution_count": 8,
   "metadata": {},
   "outputs": [
    {
     "data": {
      "text/html": [
       "<div>\n",
       "<style scoped>\n",
       "    .dataframe tbody tr th:only-of-type {\n",
       "        vertical-align: middle;\n",
       "    }\n",
       "\n",
       "    .dataframe tbody tr th {\n",
       "        vertical-align: top;\n",
       "    }\n",
       "\n",
       "    .dataframe thead th {\n",
       "        text-align: right;\n",
       "    }\n",
       "</style>\n",
       "<table border=\"1\" class=\"dataframe\">\n",
       "  <thead>\n",
       "    <tr style=\"text-align: right;\">\n",
       "      <th></th>\n",
       "      <th>hypothesis</th>\n",
       "      <th>reach</th>\n",
       "      <th>impact</th>\n",
       "      <th>confidence</th>\n",
       "      <th>efforts</th>\n",
       "    </tr>\n",
       "  </thead>\n",
       "  <tbody>\n",
       "    <tr>\n",
       "      <th>0</th>\n",
       "      <td>Добавить два новых канала привлечения трафика, что позволит привлекать на 30% больше пользователей</td>\n",
       "      <td>3</td>\n",
       "      <td>10</td>\n",
       "      <td>8</td>\n",
       "      <td>6</td>\n",
       "    </tr>\n",
       "    <tr>\n",
       "      <th>1</th>\n",
       "      <td>Запустить собственную службу доставки, что сократит срок доставки заказов</td>\n",
       "      <td>2</td>\n",
       "      <td>5</td>\n",
       "      <td>4</td>\n",
       "      <td>10</td>\n",
       "    </tr>\n",
       "    <tr>\n",
       "      <th>2</th>\n",
       "      <td>Добавить блоки рекомендаций товаров на сайт интернет магазина, чтобы повысить конверсию и средний чек заказа</td>\n",
       "      <td>8</td>\n",
       "      <td>3</td>\n",
       "      <td>7</td>\n",
       "      <td>3</td>\n",
       "    </tr>\n",
       "    <tr>\n",
       "      <th>3</th>\n",
       "      <td>Изменить структура категорий, что увеличит конверсию, т.к. пользователи быстрее найдут нужный товар</td>\n",
       "      <td>8</td>\n",
       "      <td>3</td>\n",
       "      <td>3</td>\n",
       "      <td>8</td>\n",
       "    </tr>\n",
       "    <tr>\n",
       "      <th>4</th>\n",
       "      <td>Изменить цвет фона главной страницы, чтобы увеличить вовлеченность пользователей</td>\n",
       "      <td>3</td>\n",
       "      <td>1</td>\n",
       "      <td>1</td>\n",
       "      <td>1</td>\n",
       "    </tr>\n",
       "    <tr>\n",
       "      <th>5</th>\n",
       "      <td>Добавить страницу отзывов клиентов о магазине, что позволит увеличить количество заказов</td>\n",
       "      <td>3</td>\n",
       "      <td>2</td>\n",
       "      <td>2</td>\n",
       "      <td>3</td>\n",
       "    </tr>\n",
       "    <tr>\n",
       "      <th>6</th>\n",
       "      <td>Показать на главной странице баннеры с актуальными акциями и распродажами, чтобы увеличить конверсию</td>\n",
       "      <td>5</td>\n",
       "      <td>3</td>\n",
       "      <td>8</td>\n",
       "      <td>3</td>\n",
       "    </tr>\n",
       "    <tr>\n",
       "      <th>7</th>\n",
       "      <td>Добавить форму подписки на все основные страницы, чтобы собрать базу клиентов для email-рассылок</td>\n",
       "      <td>10</td>\n",
       "      <td>7</td>\n",
       "      <td>8</td>\n",
       "      <td>5</td>\n",
       "    </tr>\n",
       "    <tr>\n",
       "      <th>8</th>\n",
       "      <td>Запустить акцию, дающую скидку на товар в день рождения</td>\n",
       "      <td>1</td>\n",
       "      <td>9</td>\n",
       "      <td>9</td>\n",
       "      <td>5</td>\n",
       "    </tr>\n",
       "  </tbody>\n",
       "</table>\n",
       "</div>"
      ],
      "text/plain": [
       "                                                                                                     hypothesis  \\\n",
       "0            Добавить два новых канала привлечения трафика, что позволит привлекать на 30% больше пользователей   \n",
       "1                                     Запустить собственную службу доставки, что сократит срок доставки заказов   \n",
       "2  Добавить блоки рекомендаций товаров на сайт интернет магазина, чтобы повысить конверсию и средний чек заказа   \n",
       "3           Изменить структура категорий, что увеличит конверсию, т.к. пользователи быстрее найдут нужный товар   \n",
       "4                              Изменить цвет фона главной страницы, чтобы увеличить вовлеченность пользователей   \n",
       "5                      Добавить страницу отзывов клиентов о магазине, что позволит увеличить количество заказов   \n",
       "6          Показать на главной странице баннеры с актуальными акциями и распродажами, чтобы увеличить конверсию   \n",
       "7              Добавить форму подписки на все основные страницы, чтобы собрать базу клиентов для email-рассылок   \n",
       "8                                                       Запустить акцию, дающую скидку на товар в день рождения   \n",
       "\n",
       "   reach  impact  confidence  efforts  \n",
       "0      3      10           8        6  \n",
       "1      2       5           4       10  \n",
       "2      8       3           7        3  \n",
       "3      8       3           3        8  \n",
       "4      3       1           1        1  \n",
       "5      3       2           2        3  \n",
       "6      5       3           8        3  \n",
       "7     10       7           8        5  \n",
       "8      1       9           9        5  "
      ]
     },
     "metadata": {},
     "output_type": "display_data"
    }
   ],
   "source": [
    "pd.set_option('display.max_colwidth', None)\n",
    "display(hypothesis)"
   ]
  },
  {
   "cell_type": "code",
   "execution_count": 9,
   "metadata": {},
   "outputs": [
    {
     "data": {
      "text/html": [
       "<div>\n",
       "<style scoped>\n",
       "    .dataframe tbody tr th:only-of-type {\n",
       "        vertical-align: middle;\n",
       "    }\n",
       "\n",
       "    .dataframe tbody tr th {\n",
       "        vertical-align: top;\n",
       "    }\n",
       "\n",
       "    .dataframe thead th {\n",
       "        text-align: right;\n",
       "    }\n",
       "</style>\n",
       "<table border=\"1\" class=\"dataframe\">\n",
       "  <thead>\n",
       "    <tr style=\"text-align: right;\">\n",
       "      <th></th>\n",
       "      <th>hypothesis</th>\n",
       "      <th>ICE</th>\n",
       "    </tr>\n",
       "  </thead>\n",
       "  <tbody>\n",
       "    <tr>\n",
       "      <th>8</th>\n",
       "      <td>Запустить акцию, дающую скидку на товар в день рождения</td>\n",
       "      <td>16.20</td>\n",
       "    </tr>\n",
       "    <tr>\n",
       "      <th>0</th>\n",
       "      <td>Добавить два новых канала привлечения трафика, что позволит привлекать на 30% больше пользователей</td>\n",
       "      <td>13.33</td>\n",
       "    </tr>\n",
       "    <tr>\n",
       "      <th>7</th>\n",
       "      <td>Добавить форму подписки на все основные страницы, чтобы собрать базу клиентов для email-рассылок</td>\n",
       "      <td>11.20</td>\n",
       "    </tr>\n",
       "    <tr>\n",
       "      <th>6</th>\n",
       "      <td>Показать на главной странице баннеры с актуальными акциями и распродажами, чтобы увеличить конверсию</td>\n",
       "      <td>8.00</td>\n",
       "    </tr>\n",
       "    <tr>\n",
       "      <th>2</th>\n",
       "      <td>Добавить блоки рекомендаций товаров на сайт интернет магазина, чтобы повысить конверсию и средний чек заказа</td>\n",
       "      <td>7.00</td>\n",
       "    </tr>\n",
       "    <tr>\n",
       "      <th>1</th>\n",
       "      <td>Запустить собственную службу доставки, что сократит срок доставки заказов</td>\n",
       "      <td>2.00</td>\n",
       "    </tr>\n",
       "    <tr>\n",
       "      <th>5</th>\n",
       "      <td>Добавить страницу отзывов клиентов о магазине, что позволит увеличить количество заказов</td>\n",
       "      <td>1.33</td>\n",
       "    </tr>\n",
       "    <tr>\n",
       "      <th>3</th>\n",
       "      <td>Изменить структура категорий, что увеличит конверсию, т.к. пользователи быстрее найдут нужный товар</td>\n",
       "      <td>1.12</td>\n",
       "    </tr>\n",
       "    <tr>\n",
       "      <th>4</th>\n",
       "      <td>Изменить цвет фона главной страницы, чтобы увеличить вовлеченность пользователей</td>\n",
       "      <td>1.00</td>\n",
       "    </tr>\n",
       "  </tbody>\n",
       "</table>\n",
       "</div>"
      ],
      "text/plain": [
       "                                                                                                     hypothesis  \\\n",
       "8                                                       Запустить акцию, дающую скидку на товар в день рождения   \n",
       "0            Добавить два новых канала привлечения трафика, что позволит привлекать на 30% больше пользователей   \n",
       "7              Добавить форму подписки на все основные страницы, чтобы собрать базу клиентов для email-рассылок   \n",
       "6          Показать на главной странице баннеры с актуальными акциями и распродажами, чтобы увеличить конверсию   \n",
       "2  Добавить блоки рекомендаций товаров на сайт интернет магазина, чтобы повысить конверсию и средний чек заказа   \n",
       "1                                     Запустить собственную службу доставки, что сократит срок доставки заказов   \n",
       "5                      Добавить страницу отзывов клиентов о магазине, что позволит увеличить количество заказов   \n",
       "3           Изменить структура категорий, что увеличит конверсию, т.к. пользователи быстрее найдут нужный товар   \n",
       "4                              Изменить цвет фона главной страницы, чтобы увеличить вовлеченность пользователей   \n",
       "\n",
       "     ICE  \n",
       "8  16.20  \n",
       "0  13.33  \n",
       "7  11.20  \n",
       "6   8.00  \n",
       "2   7.00  \n",
       "1   2.00  \n",
       "5   1.33  \n",
       "3   1.12  \n",
       "4   1.00  "
      ]
     },
     "metadata": {},
     "output_type": "display_data"
    }
   ],
   "source": [
    "hypothesis['ICE'] = round((hypothesis['impact']*hypothesis['confidence'])/hypothesis['efforts'], 2)\n",
    "display(hypothesis[['hypothesis', 'ICE']].sort_values(by='ICE', ascending=False))"
   ]
  },
  {
   "cell_type": "code",
   "execution_count": 10,
   "metadata": {},
   "outputs": [
    {
     "data": {
      "text/html": [
       "<div>\n",
       "<style scoped>\n",
       "    .dataframe tbody tr th:only-of-type {\n",
       "        vertical-align: middle;\n",
       "    }\n",
       "\n",
       "    .dataframe tbody tr th {\n",
       "        vertical-align: top;\n",
       "    }\n",
       "\n",
       "    .dataframe thead th {\n",
       "        text-align: right;\n",
       "    }\n",
       "</style>\n",
       "<table border=\"1\" class=\"dataframe\">\n",
       "  <thead>\n",
       "    <tr style=\"text-align: right;\">\n",
       "      <th></th>\n",
       "      <th>hypothesis</th>\n",
       "      <th>RICE</th>\n",
       "    </tr>\n",
       "  </thead>\n",
       "  <tbody>\n",
       "    <tr>\n",
       "      <th>7</th>\n",
       "      <td>Добавить форму подписки на все основные страницы, чтобы собрать базу клиентов для email-рассылок</td>\n",
       "      <td>112.0</td>\n",
       "    </tr>\n",
       "    <tr>\n",
       "      <th>2</th>\n",
       "      <td>Добавить блоки рекомендаций товаров на сайт интернет магазина, чтобы повысить конверсию и средний чек заказа</td>\n",
       "      <td>56.0</td>\n",
       "    </tr>\n",
       "    <tr>\n",
       "      <th>0</th>\n",
       "      <td>Добавить два новых канала привлечения трафика, что позволит привлекать на 30% больше пользователей</td>\n",
       "      <td>40.0</td>\n",
       "    </tr>\n",
       "    <tr>\n",
       "      <th>6</th>\n",
       "      <td>Показать на главной странице баннеры с актуальными акциями и распродажами, чтобы увеличить конверсию</td>\n",
       "      <td>40.0</td>\n",
       "    </tr>\n",
       "    <tr>\n",
       "      <th>8</th>\n",
       "      <td>Запустить акцию, дающую скидку на товар в день рождения</td>\n",
       "      <td>16.2</td>\n",
       "    </tr>\n",
       "    <tr>\n",
       "      <th>3</th>\n",
       "      <td>Изменить структура категорий, что увеличит конверсию, т.к. пользователи быстрее найдут нужный товар</td>\n",
       "      <td>9.0</td>\n",
       "    </tr>\n",
       "    <tr>\n",
       "      <th>1</th>\n",
       "      <td>Запустить собственную службу доставки, что сократит срок доставки заказов</td>\n",
       "      <td>4.0</td>\n",
       "    </tr>\n",
       "    <tr>\n",
       "      <th>5</th>\n",
       "      <td>Добавить страницу отзывов клиентов о магазине, что позволит увеличить количество заказов</td>\n",
       "      <td>4.0</td>\n",
       "    </tr>\n",
       "    <tr>\n",
       "      <th>4</th>\n",
       "      <td>Изменить цвет фона главной страницы, чтобы увеличить вовлеченность пользователей</td>\n",
       "      <td>3.0</td>\n",
       "    </tr>\n",
       "  </tbody>\n",
       "</table>\n",
       "</div>"
      ],
      "text/plain": [
       "                                                                                                     hypothesis  \\\n",
       "7              Добавить форму подписки на все основные страницы, чтобы собрать базу клиентов для email-рассылок   \n",
       "2  Добавить блоки рекомендаций товаров на сайт интернет магазина, чтобы повысить конверсию и средний чек заказа   \n",
       "0            Добавить два новых канала привлечения трафика, что позволит привлекать на 30% больше пользователей   \n",
       "6          Показать на главной странице баннеры с актуальными акциями и распродажами, чтобы увеличить конверсию   \n",
       "8                                                       Запустить акцию, дающую скидку на товар в день рождения   \n",
       "3           Изменить структура категорий, что увеличит конверсию, т.к. пользователи быстрее найдут нужный товар   \n",
       "1                                     Запустить собственную службу доставки, что сократит срок доставки заказов   \n",
       "5                      Добавить страницу отзывов клиентов о магазине, что позволит увеличить количество заказов   \n",
       "4                              Изменить цвет фона главной страницы, чтобы увеличить вовлеченность пользователей   \n",
       "\n",
       "    RICE  \n",
       "7  112.0  \n",
       "2   56.0  \n",
       "0   40.0  \n",
       "6   40.0  \n",
       "8   16.2  \n",
       "3    9.0  \n",
       "1    4.0  \n",
       "5    4.0  \n",
       "4    3.0  "
      ]
     },
     "metadata": {},
     "output_type": "display_data"
    }
   ],
   "source": [
    "hypothesis['RICE'] = (hypothesis['reach']*hypothesis['impact']*hypothesis['confidence'])/hypothesis['efforts']\n",
    "display(hypothesis[['hypothesis', 'RICE']].sort_values(by='RICE', ascending=False))"
   ]
  },
  {
   "cell_type": "markdown",
   "metadata": {},
   "source": [
    "Наиболее перспективные гипотезы по ICE - 8, 0 и 7. А по RICE - 7, 2, 0 и 6.\n",
    "\n",
    "Гипотеза 7 - \"Добавить форму подписки на все основные страницы, чтобы собрать базу клиентов для email-рассылок\" - вырвалась на первое место, т.к. имеет максимальный охват поьльзователей. А у гипотезы 0 - \"Добавить два новых канала привлечения трафика, что позволит привлекать на 30% больше пользователей\" - ключевую роль сыграло самое высокое влияние изменения на пользователей."
   ]
  },
  {
   "cell_type": "markdown",
   "metadata": {},
   "source": [
    "<a id=\"abtest\"></a>\n",
    "## Анализ А/В-теста"
   ]
  },
  {
   "cell_type": "markdown",
   "metadata": {},
   "source": [
    "### График кумулятивной выручки по группам"
   ]
  },
  {
   "cell_type": "code",
   "execution_count": 11,
   "metadata": {},
   "outputs": [],
   "source": [
    "dates_groups = orders[['date', 'group']].drop_duplicates()"
   ]
  },
  {
   "cell_type": "code",
   "execution_count": 12,
   "metadata": {},
   "outputs": [
    {
     "data": {
      "image/png": "[encoded data removed]",
      "text/plain": [
       "<Figure size 1440x504 with 1 Axes>"
      ]
     },
     "metadata": {
      "needs_background": "light"
     },
     "output_type": "display_data"
    }
   ],
   "source": [
    "orders_aggregated = dates_groups.apply(\n",
    "    lambda x: orders[\n",
    "        np.logical_and(\n",
    "            orders['date'] <= x['date'], orders['group'] == x['group']\n",
    "        )\n",
    "    ].agg(\n",
    "        {\n",
    "            'date': 'max',\n",
    "            'group': 'max',\n",
    "            'transaction_id': 'nunique',\n",
    "            'visitor_id': 'nunique',\n",
    "            'revenue': 'sum',\n",
    "        }\n",
    "    ),\n",
    "    axis=1,\n",
    ").sort_values(by=['date', 'group'])\n",
    "\n",
    "visitors_aggregated = dates_groups.apply(\n",
    "    lambda x: visitors[\n",
    "        np.logical_and(\n",
    "            visitors['date'] <= x['date'], visitors['group'] == x['group']\n",
    "        )\n",
    "    ].agg({'date': 'max', 'group': 'max', 'visitors': 'sum'}),\n",
    "    axis=1,\n",
    ").sort_values(by=['date', 'group'])\n",
    "\n",
    "cumulative_data = orders_aggregated.merge(\n",
    "    visitors_aggregated, left_on=['date', 'group'], right_on=['date', 'group']\n",
    ")\n",
    "cumulative_data.columns = [\n",
    "    'date',\n",
    "    'group',\n",
    "    'orders',\n",
    "    'buyers',\n",
    "    'revenue',\n",
    "    'visitors',\n",
    "]\n",
    "\n",
    "cumulative_revenue_a = cumulative_data[cumulative_data['group']=='A'][['date','revenue', 'orders']]\n",
    "cumulative_revenue_b = cumulative_data[cumulative_data['group']=='B'][['date','revenue', 'orders']]\n",
    "\n",
    "plt.figure(figsize=(20, 7))\n",
    "plt.plot(cumulative_revenue_a['date'], cumulative_revenue_a['revenue'], label='A')\n",
    "plt.plot(cumulative_revenue_b['date'], cumulative_revenue_b['revenue'], label='B')\n",
    "plt.title('Кумулятивная выручка по группам', fontsize=20)\n",
    "plt.xlabel('Дата', fontsize=15)\n",
    "plt.ylabel('Выручка', fontsize=15)\n",
    "plt.xticks(rotation = 90)\n",
    "plt.legend();"
   ]
  },
  {
   "cell_type": "markdown",
   "metadata": {},
   "source": [
    "Выручка почти равномерно увеличивалась до середины теста. Затем сегмент В резко вырвался вперед и продолжал лидировать. Скорее всего присутствуют выбросы в виде роста числа заказов или появлении очень дорогих заказов."
   ]
  },
  {
   "cell_type": "markdown",
   "metadata": {},
   "source": [
    "### График кумулятивного среднего чека по группам"
   ]
  },
  {
   "cell_type": "code",
   "execution_count": 13,
   "metadata": {},
   "outputs": [
    {
     "data": {
      "image/png": "[encoded data removed]",
      "text/plain": [
       "<Figure size 1440x504 with 1 Axes>"
      ]
     },
     "metadata": {
      "needs_background": "light"
     },
     "output_type": "display_data"
    }
   ],
   "source": [
    "plt.figure(figsize=(20, 7))\n",
    "plt.plot(cumulative_revenue_a['date'], cumulative_revenue_a['revenue']/cumulative_revenue_a['orders'], label='A')\n",
    "plt.plot(cumulative_revenue_b['date'], cumulative_revenue_b['revenue']/cumulative_revenue_b['orders'], label='B')\n",
    "plt.title('Кумулятивный средний чек по группам', fontsize=20)\n",
    "plt.xlabel('Дата', fontsize=15)\n",
    "plt.ylabel('Средний чек', fontsize=15)\n",
    "plt.xticks(rotation = 90)\n",
    "plt.legend();"
   ]
  },
  {
   "cell_type": "markdown",
   "metadata": {},
   "source": [
    "Кумулятивное значение среднего чека по сегментам сильно колеблется. Необходим анализ выбросов, которые могут так сильно искажать результаты."
   ]
  },
  {
   "cell_type": "markdown",
   "metadata": {},
   "source": [
    "### График относительного изменения кумулятивного среднего чека группы B к группе A"
   ]
  },
  {
   "cell_type": "code",
   "execution_count": 14,
   "metadata": {},
   "outputs": [
    {
     "data": {
      "image/png": "[encoded data removed]",
      "text/plain": [
       "<Figure size 1440x504 with 1 Axes>"
      ]
     },
     "metadata": {
      "needs_background": "light"
     },
     "output_type": "display_data"
    }
   ],
   "source": [
    "merged_cumulative_revenue = cumulative_revenue_a.merge(cumulative_revenue_b, left_on='date', right_on='date', how='left', suffixes=['A', 'B'])\n",
    "\n",
    "plt.figure(figsize=(20, 7))\n",
    "plt.plot(merged_cumulative_revenue['date'], (merged_cumulative_revenue['revenueB']/merged_cumulative_revenue['ordersB'])/(merged_cumulative_revenue['revenueA']/merged_cumulative_revenue['ordersA'])-1)\n",
    "plt.title('Различие среднего чека между группами', fontsize=20)\n",
    "plt.xlabel('Дата', fontsize=15)\n",
    "plt.xticks(rotation = 90)\n",
    "plt.axhline(y=0, color='black', linestyle='--');"
   ]
  },
  {
   "cell_type": "markdown",
   "metadata": {},
   "source": [
    "В нескольких точках график различия между сегментами значительно и резко «скачет». Вероятно, тогда и были совершены аномальные заказы."
   ]
  },
  {
   "cell_type": "markdown",
   "metadata": {},
   "source": [
    "### График кумулятивного среднего количества заказов по группам"
   ]
  },
  {
   "cell_type": "code",
   "execution_count": 15,
   "metadata": {},
   "outputs": [
    {
     "data": {
      "image/png": "[encoded data removed]",
      "text/plain": [
       "<Figure size 1440x504 with 1 Axes>"
      ]
     },
     "metadata": {
      "needs_background": "light"
     },
     "output_type": "display_data"
    }
   ],
   "source": [
    "cumulative_data['mean'] = cumulative_data['orders']/cumulative_data['visitors']\n",
    "cumulative_data_a = cumulative_data[cumulative_data['group']=='A']\n",
    "cumulative_data_b = cumulative_data[cumulative_data['group']=='B']\n",
    "\n",
    "plt.figure(figsize=(20, 7))\n",
    "plt.plot(cumulative_data_a['date'], cumulative_data_a['mean'], label='A')\n",
    "plt.plot(cumulative_data_b['date'], cumulative_data_b['mean'], label='B')\n",
    "plt.title('Кумулятивное среднее количество заказов по группам', fontsize=20)\n",
    "plt.xlabel('Дата', fontsize=15)\n",
    "plt.ylabel('Заказы', fontsize=15)\n",
    "plt.xticks(rotation = 90)\n",
    "plt.axis([\"2019-08-01\", '2019-08-31', 0, 0.05])\n",
    "plt.legend();"
   ]
  },
  {
   "cell_type": "markdown",
   "metadata": {},
   "source": [
    "Сначала лидировал сегмент А, но затем вперед вырвался сегмент В и остался лидером, зафиксировавшись примерно у одного значения."
   ]
  },
  {
   "cell_type": "markdown",
   "metadata": {},
   "source": [
    "### График относительного изменения кумулятивного среднего количества заказов группы B к группе A"
   ]
  },
  {
   "cell_type": "code",
   "execution_count": 16,
   "metadata": {},
   "outputs": [
    {
     "data": {
      "image/png": "[encoded data removed]",
      "text/plain": [
       "<Figure size 1440x504 with 1 Axes>"
      ]
     },
     "metadata": {
      "needs_background": "light"
     },
     "output_type": "display_data"
    }
   ],
   "source": [
    "merged_cumulative_mean = cumulative_data_a[['date','mean']].merge(cumulative_data_b[['date','mean']], left_on='date', right_on='date', how='left', suffixes=['A', 'B'])\n",
    "plt.figure(figsize=(20, 7))\n",
    "plt.plot(merged_cumulative_mean['date'], merged_cumulative_mean['meanB']/merged_cumulative_mean['meanA']-1, label=\"Относительный прирост среднего количества заказов группы B относительно группы A\")\n",
    "plt.legend()\n",
    "plt.title('Различие количества заказов между группами', fontsize=20)\n",
    "plt.xlabel('Дата', fontsize=15)\n",
    "plt.xticks(rotation = 90)\n",
    "plt.axhline(y=0, color='black', linestyle='--')\n",
    "plt.axhline(y=0.1, color='grey', linestyle='--')\n",
    "plt.axis([\"2019-08-01\", '2019-08-31', -0.2, 0.3]);"
   ]
  },
  {
   "cell_type": "markdown",
   "metadata": {},
   "source": [
    "В начале группа В проигрывала, но после резкого роста становилась все лучше и лучше группы А, либо зафикисировалась около прироста в 10%."
   ]
  },
  {
   "cell_type": "markdown",
   "metadata": {},
   "source": [
    "### Точечный график количества заказов по пользователям"
   ]
  },
  {
   "cell_type": "code",
   "execution_count": 17,
   "metadata": {},
   "outputs": [
    {
     "name": "stdout",
     "output_type": "stream",
     "text": [
      "         user_id  orders\n",
      "1023  4256040402      11\n",
      "591   2458001652      11\n",
      "569   2378935119       9\n",
      "487   2038680547       8\n",
      "44     199603092       5\n",
      "744   3062433592       5\n",
      "55     237748145       5\n",
      "917   3803269165       5\n",
      "299   1230306981       5\n",
      "897   3717692402       5\n"
     ]
    }
   ],
   "source": [
    "orders_by_users = (\n",
    "    orders.groupby('visitor_id', as_index=False)\n",
    "    .agg({'transaction_id': 'nunique'})\n",
    ")\n",
    "orders_by_users.columns = ['user_id', 'orders']\n",
    "print(orders_by_users.sort_values(by='orders', ascending=False).head(10)) "
   ]
  },
  {
   "cell_type": "code",
   "execution_count": 18,
   "metadata": {},
   "outputs": [
    {
     "data": {
      "image/png": "[encoded data removed]",
      "text/plain": [
       "<Figure size 432x288 with 1 Axes>"
      ]
     },
     "metadata": {
      "needs_background": "light"
     },
     "output_type": "display_data"
    }
   ],
   "source": [
    "x_values = pd.Series(range(0,len(orders_by_users)))\n",
    "\n",
    "plt.scatter(x_values, orders_by_users['orders'])\n",
    "plt.title('Количество заказов по пользователям', fontsize=15)\n",
    "plt.xlabel('Пользователи', fontsize=10)\n",
    "plt.ylabel('Заказы', fontsize=10);"
   ]
  },
  {
   "cell_type": "markdown",
   "metadata": {},
   "source": [
    "На графике видно много пользователей с 2-3 заказами. Пока их точная доля не ясна, нельзя сказать, что это аномалии."
   ]
  },
  {
   "cell_type": "markdown",
   "metadata": {},
   "source": [
    "### 95-й и 99-й перцентили количества заказов на пользователя"
   ]
  },
  {
   "cell_type": "code",
   "execution_count": 19,
   "metadata": {},
   "outputs": [
    {
     "name": "stdout",
     "output_type": "stream",
     "text": [
      "[2. 4.]\n"
     ]
    }
   ],
   "source": [
    "print(np.percentile(orders_by_users['orders'], [95, 99])) "
   ]
  },
  {
   "cell_type": "markdown",
   "metadata": {},
   "source": [
    "Не более 5% пользователей оформляли больше чем 2 заказа, и 1% пользователей заказывали более 4 раз.\n",
    "Разумно выбрать 2 заказа на одного пользователя за верхнюю границу числа заказов, и отсеять аномальных пользователей по ней. "
   ]
  },
  {
   "cell_type": "markdown",
   "metadata": {},
   "source": [
    "### Точечный график стоимостей заказов"
   ]
  },
  {
   "cell_type": "code",
   "execution_count": 20,
   "metadata": {},
   "outputs": [
    {
     "name": "stdout",
     "output_type": "stream",
     "text": [
      "      transaction_id  visitor_id        date  revenue group\n",
      "425        590470918  1920142716  2019-08-19  1294500     B\n",
      "1196      3936777065  2108080724  2019-08-15   202740     B\n",
      "858        192721366  1316129916  2019-08-27    93940     A\n",
      "1136       666610489  1307669133  2019-08-13    92550     A\n",
      "744       3668308183   888512513  2019-08-27    86620     B\n",
      "682       1216533772  4266935830  2019-08-29    78990     B\n",
      "662       1811671147  4266935830  2019-08-29    78990     A\n",
      "743       3603576309  4133034833  2019-08-09    67990     A\n",
      "1103      1348774318  1164614297  2019-08-12    66350     A\n",
      "1099       316924019   148427295  2019-08-12    65710     A\n"
     ]
    }
   ],
   "source": [
    "print(orders.sort_values(by='revenue', ascending=False).head(10))"
   ]
  },
  {
   "cell_type": "code",
   "execution_count": 21,
   "metadata": {},
   "outputs": [
    {
     "data": {
      "image/png": "[encoded data removed]",
      "text/plain": [
       "<Figure size 432x288 with 1 Axes>"
      ]
     },
     "metadata": {
      "needs_background": "light"
     },
     "output_type": "display_data"
    }
   ],
   "source": [
    "x_values = pd.Series(range(0,len(orders['revenue'])))\n",
    "plt.scatter(x_values, orders['revenue'])\n",
    "plt.title('Стоимость заказов по пользователям', fontsize=15)\n",
    "plt.xlabel('Пользователи', fontsize=10)\n",
    "plt.ylabel('Стоимость', fontsize=10);"
   ]
  },
  {
   "cell_type": "code",
   "execution_count": 22,
   "metadata": {},
   "outputs": [
    {
     "data": {
      "image/png": "[encoded data removed]",
      "text/plain": [
       "<Figure size 432x288 with 1 Axes>"
      ]
     },
     "metadata": {
      "needs_background": "light"
     },
     "output_type": "display_data"
    }
   ],
   "source": [
    "x_values = pd.Series(range(0,len(orders['revenue'])))\n",
    "plt.scatter(x_values, orders['revenue'])\n",
    "plt.ylim([0, 100000])\n",
    "plt.title('Стоимость заказов по пользователям', fontsize=15)\n",
    "plt.xlabel('Пользователи', fontsize=10)\n",
    "plt.ylabel('Стоимость', fontsize=10);"
   ]
  },
  {
   "cell_type": "markdown",
   "metadata": {},
   "source": [
    "На первом графике четко выделяются 2 очень дорогих заказа. Основная масса заказов не дороже 100 000. При ближайшем рассмотрении (на втором графике) видно, что редкие заказы бывают дороже 40 000. Необходимо более точно посмотреть крайние значения."
   ]
  },
  {
   "cell_type": "markdown",
   "metadata": {},
   "source": [
    "### 95-й и 99-й перцентили стоимости заказов"
   ]
  },
  {
   "cell_type": "code",
   "execution_count": 23,
   "metadata": {},
   "outputs": [
    {
     "name": "stdout",
     "output_type": "stream",
     "text": [
      "[28000.  58233.2]\n"
     ]
    }
   ],
   "source": [
    "print(np.percentile(orders['revenue'], [95, 99])) "
   ]
  },
  {
   "cell_type": "markdown",
   "metadata": {},
   "source": [
    "Не более 5% заказов дороже 28 000 и не более 1% дороже 58 234 рублей. Выберем сумму заказа в 50 000 за верхнюю границу и отсеим аномальные заказы по ней. "
   ]
  },
  {
   "cell_type": "markdown",
   "metadata": {},
   "source": [
    "### Статистическая значимость различий в среднем количестве заказов между группами по «сырым» данным"
   ]
  },
  {
   "cell_type": "markdown",
   "metadata": {},
   "source": [
    "Сформулируем гипотезы. Нулевая: различий в среднем количестве заказов между группами нет. Альтернативная: различия в среднем между группами есть."
   ]
  },
  {
   "cell_type": "code",
   "execution_count": 24,
   "metadata": {},
   "outputs": [],
   "source": [
    "orders_by_users_a = (\n",
    "    orders[orders['group'] == 'A']\n",
    "    .groupby('visitor_id', as_index=False)\n",
    "    .agg({'transaction_id': pd.Series.nunique})\n",
    ")\n",
    "orders_by_users_a.columns = ['user_id', 'orders']\n",
    "\n",
    "orders_by_users_b = (\n",
    "    orders[orders['group'] == 'B']\n",
    "    .groupby('visitor_id', as_index=False)\n",
    "    .agg({'transaction_id': pd.Series.nunique})\n",
    ")\n",
    "orders_by_users_b.columns = ['user_id', 'orders'] "
   ]
  },
  {
   "cell_type": "code",
   "execution_count": 25,
   "metadata": {},
   "outputs": [
    {
     "name": "stdout",
     "output_type": "stream",
     "text": [
      "P-value: 0.017\n",
      "Различие в среднем количестве заказов: 0.138\n"
     ]
    }
   ],
   "source": [
    "sample_a = pd.concat([orders_by_users_a['orders'],pd.Series(0, index=np.arange(visitors[visitors['group'] == 'A']['visitors'].sum() - len(orders_by_users_a['orders'])), name='orders')],axis=0)\n",
    "sample_b = pd.concat([orders_by_users_b['orders'],pd.Series(0, index=np.arange(visitors[visitors['group'] == 'B']['visitors'].sum() - len(orders_by_users_b['orders'])), name='orders')],axis=0)\n",
    "\n",
    "print('P-value:', \"{0:.3f}\".format(stats.mannwhitneyu(sample_a, sample_b)[1]))\n",
    "print('Различие в среднем количестве заказов:', \"{0:.3f}\".format(sample_b.mean() / sample_a.mean() - 1))"
   ]
  },
  {
   "cell_type": "markdown",
   "metadata": {},
   "source": [
    "P-value значительно меньше 0.05, поэтому нулевую гипотезу отвергаем. Анализ \"сырых данных\" сообщает, что в среднем количестве заказов между группами есть статистически значимые различия. Относительный прирост среднего группы В к группе А равен 13.8%."
   ]
  },
  {
   "cell_type": "markdown",
   "metadata": {},
   "source": [
    "### Статистическая значимость различий в среднем чеке заказа между группами по «сырым» данным"
   ]
  },
  {
   "cell_type": "markdown",
   "metadata": {},
   "source": [
    "Нулевая гипотеза: различий в среднем чеке между группами нет. Альтернативная гипотеза: различия в среднем чеке между группами есть."
   ]
  },
  {
   "cell_type": "code",
   "execution_count": 26,
   "metadata": {},
   "outputs": [
    {
     "name": "stdout",
     "output_type": "stream",
     "text": [
      "P-value: 0.729\n",
      "Различие в среднем чеке: 0.259\n"
     ]
    }
   ],
   "source": [
    "print('P-value:', '{0:.3f}'.format(stats.mannwhitneyu(orders[orders['group']=='A']['revenue'], orders[orders['group']=='B']['revenue'])[1]))\n",
    "print('Различие в среднем чеке:', '{0:.3f}'.format(orders[orders['group']=='B']['revenue'].mean()/orders[orders['group']=='A']['revenue'].mean()-1))"
   ]
  },
  {
   "cell_type": "markdown",
   "metadata": {},
   "source": [
    "P-value значительно больше 0.05. Значит, причин отвергать нулевую гипотезу и считать, что в среднем чеке есть различия, нет. Относительное различие среднего чека между сегментами составляет 25.9%."
   ]
  },
  {
   "cell_type": "markdown",
   "metadata": {},
   "source": [
    "### Статистическая значимость различий в среднем количестве заказов между группами по «очищенным» данным"
   ]
  },
  {
   "cell_type": "markdown",
   "metadata": {},
   "source": [
    "Примем за аномальных пользователей тех, кто совершил от 3 заказов или совершил заказ дороже 50 000 рублей. Так мы уберём 5% пользователей с наибольшим числом заказов и от 1% до 5% пользователей с дорогими заказами."
   ]
  },
  {
   "cell_type": "code",
   "execution_count": 27,
   "metadata": {},
   "outputs": [
    {
     "name": "stdout",
     "output_type": "stream",
     "text": [
      "1099    148427295\n",
      "18      199603092\n",
      "23      237748145\n",
      "1137    759473111\n",
      "949     887908475\n",
      "dtype: int64\n",
      "26\n"
     ]
    }
   ],
   "source": [
    "users_with_many_orders = pd.concat(\n",
    "    [\n",
    "        orders_by_users_a[orders_by_users_a['orders'] > 3]['user_id'],\n",
    "        orders_by_users_b[orders_by_users_b['orders'] > 3]['user_id'],\n",
    "    ],\n",
    "    axis=0,\n",
    ")\n",
    "users_with_expensive_orders = orders[orders['revenue'] > 50000]['visitor_id']\n",
    "abnormal_users = (\n",
    "    pd.concat([users_with_many_orders, users_with_expensive_orders], axis=0)\n",
    "    .drop_duplicates()\n",
    "    .sort_values()\n",
    ")\n",
    "print(abnormal_users.head(5))\n",
    "print(abnormal_users.shape[0])"
   ]
  },
  {
   "cell_type": "markdown",
   "metadata": {},
   "source": [
    "Всего 26 аномалий."
   ]
  },
  {
   "cell_type": "code",
   "execution_count": 28,
   "metadata": {},
   "outputs": [
    {
     "name": "stdout",
     "output_type": "stream",
     "text": [
      "P-value: 0.011\n",
      "Различие в среднем количестве заказов: 0.158\n"
     ]
    }
   ],
   "source": [
    "sample_a_filtered = pd.concat(\n",
    "    [\n",
    "        orders_by_users_a[\n",
    "            np.logical_not(orders_by_users_a['user_id'].isin(abnormal_users))\n",
    "        ]['orders'],\n",
    "        pd.Series(\n",
    "            0,\n",
    "            index=np.arange(\n",
    "                visitors[visitors['group'] == 'A']['visitors'].sum() - len(orders_by_users_a['orders'])\n",
    "            ),\n",
    "            name='orders',\n",
    "        ),\n",
    "    ],\n",
    "    axis=0,\n",
    ")\n",
    "\n",
    "sample_b_filtered = pd.concat(\n",
    "    [\n",
    "        orders_by_users_b[\n",
    "            np.logical_not(orders_by_users_b['user_id'].isin(abnormal_users))\n",
    "        ]['orders'],\n",
    "        pd.Series(\n",
    "            0,\n",
    "            index=np.arange(\n",
    "                visitors[visitors['group'] == 'B']['visitors'].sum() - len(orders_by_users_b['orders'])\n",
    "            ),\n",
    "            name='orders',\n",
    "        ),\n",
    "    ],\n",
    "    axis=0,\n",
    ")\n",
    "\n",
    "print('P-value:', '{0:.3f}'.format(stats.mannwhitneyu(sample_a_filtered, sample_b_filtered)[1]))\n",
    "print('Различие в среднем количестве заказов:', '{0:.3f}'.format(sample_b_filtered.mean()/sample_a_filtered.mean()-1)) "
   ]
  },
  {
   "cell_type": "markdown",
   "metadata": {},
   "source": [
    "Результаты по среднему количеству заказов практически не изменились. Как и в случае с сырыми данными, статистическая значимость достигнута. Группа В значительно лучше группы А."
   ]
  },
  {
   "cell_type": "markdown",
   "metadata": {},
   "source": [
    "### Статистическая значимость различий в среднем чеке заказа между группами по «очищенным» данным"
   ]
  },
  {
   "cell_type": "code",
   "execution_count": 29,
   "metadata": {},
   "outputs": [
    {
     "name": "stdout",
     "output_type": "stream",
     "text": [
      "P-value: 0.819\n",
      "Различие в среднем чеке: 0.024\n"
     ]
    }
   ],
   "source": [
    "print('P-value:', \n",
    "    '{0:.3f}'.format(\n",
    "        stats.mannwhitneyu(\n",
    "            orders[\n",
    "                np.logical_and(\n",
    "                    orders['group'] == 'A',\n",
    "                    np.logical_not(orders['visitor_id'].isin(abnormal_users)),\n",
    "                )\n",
    "            ]['revenue'],\n",
    "            orders[\n",
    "                np.logical_and(\n",
    "                    orders['group'] == 'B',\n",
    "                    np.logical_not(orders['visitor_id'].isin(abnormal_users)),\n",
    "                )\n",
    "            ]['revenue'],\n",
    "        )[1]\n",
    "    )\n",
    ")\n",
    "\n",
    "print('Различие в среднем чеке:', \n",
    "    \"{0:.3f}\".format(\n",
    "        orders[\n",
    "            np.logical_and(\n",
    "                orders['group'] == 'B',\n",
    "                np.logical_not(orders['visitor_id'].isin(abnormal_users)),\n",
    "            )\n",
    "        ]['revenue'].mean()\n",
    "        / orders[\n",
    "            np.logical_and(\n",
    "                orders['group'] == 'A',\n",
    "                np.logical_not(orders['visitor_id'].isin(abnormal_users)),\n",
    "            )\n",
    "        ]['revenue'].mean()\n",
    "        - 1\n",
    "    )\n",
    ")"
   ]
  },
  {
   "cell_type": "markdown",
   "metadata": {},
   "source": [
    "P-value увеличился, а разница между сегментами сократилась с 25% до 2%. После удаления шумов стало еще лучше видно отсутствие значимых различий в среднем чеке."
   ]
  },
  {
   "cell_type": "markdown",
   "metadata": {},
   "source": [
    "<a id=\"decision\"></a>\n",
    "### Решение"
   ]
  },
  {
   "cell_type": "markdown",
   "metadata": {},
   "source": [
    "Имеющиеся факты:\n",
    "- Нет статистически значимого различия по среднему количеству заказов между группами ни по «сырым», ни по данным после фильтрации аномалий;\n",
    "- Нет статистически значимого различия по среднему чеку между группами ни по «сырым», ни по данным после фильтрации аномалий. После удаления аномалий разница в чеке сократилась до 2%, что при таком высоком уровне значимости не является значимым;\n",
    "- График различия среднего чека группы B к группе A колеблется. Сделать из этого графика определённые выводы нельзя;\n",
    "- График различия среднего количества заказов группы B к группе A сообщает, что результаты группы B лучше группы A: имеют незначительную тенденцию к росту, либо зафиксировались около среднего значения.\n",
    "\n",
    "**Исходя из фактов выше стоит остановить тест и зафиксировать победу группы В**: средний чек группы В мало отличается, но количество заказов растет или остается на уровне прироста в 10%, что в итоге приведет к увеличению выручки."
   ]
  }
 ],
 "metadata": {
  "ExecuteTimeLog": [
   {
    "duration": 402,
    "start_time": "2022-11-15T07:10:38.018Z"
   },
   {
    "duration": 247,
    "start_time": "2022-11-15T07:10:39.251Z"
   },
   {
    "duration": 4,
    "start_time": "2022-11-15T07:23:46.455Z"
   },
   {
    "duration": 3,
    "start_time": "2022-11-15T07:23:48.350Z"
   },
   {
    "duration": 25,
    "start_time": "2022-11-15T07:23:49.038Z"
   },
   {
    "duration": 8,
    "start_time": "2022-11-15T07:24:29.043Z"
   },
   {
    "duration": 60,
    "start_time": "2022-11-15T07:25:13.633Z"
   },
   {
    "duration": 7,
    "start_time": "2022-11-15T07:26:28.133Z"
   },
   {
    "duration": 8,
    "start_time": "2022-11-15T07:33:27.964Z"
   },
   {
    "duration": 9,
    "start_time": "2022-11-15T07:33:41.835Z"
   },
   {
    "duration": 10,
    "start_time": "2022-11-15T07:34:38.347Z"
   },
   {
    "duration": 9,
    "start_time": "2022-11-15T07:39:07.206Z"
   },
   {
    "duration": 9,
    "start_time": "2022-11-15T07:39:11.451Z"
   },
   {
    "duration": 9,
    "start_time": "2022-11-15T07:50:02.760Z"
   },
   {
    "duration": 406,
    "start_time": "2022-11-15T07:50:26.903Z"
   },
   {
    "duration": 101,
    "start_time": "2022-11-15T07:50:27.311Z"
   },
   {
    "duration": 3,
    "start_time": "2022-11-15T07:50:27.414Z"
   },
   {
    "duration": 23,
    "start_time": "2022-11-15T07:50:27.419Z"
   },
   {
    "duration": 24,
    "start_time": "2022-11-15T07:50:27.444Z"
   },
   {
    "duration": 8,
    "start_time": "2022-11-15T07:50:27.470Z"
   },
   {
    "duration": 14,
    "start_time": "2022-11-15T07:50:27.479Z"
   },
   {
    "duration": 10,
    "start_time": "2022-11-15T07:50:27.495Z"
   },
   {
    "duration": 14,
    "start_time": "2022-11-15T07:50:27.507Z"
   },
   {
    "duration": 11,
    "start_time": "2022-11-15T07:50:27.530Z"
   },
   {
    "duration": 397,
    "start_time": "2022-11-15T11:41:43.592Z"
   },
   {
    "duration": 9,
    "start_time": "2022-11-15T11:43:49.403Z"
   },
   {
    "duration": 84,
    "start_time": "2022-11-15T11:48:06.616Z"
   },
   {
    "duration": 6,
    "start_time": "2022-11-15T11:48:14.904Z"
   },
   {
    "duration": 560,
    "start_time": "2022-11-15T11:48:16.911Z"
   },
   {
    "duration": 557,
    "start_time": "2022-11-15T11:48:22.319Z"
   },
   {
    "duration": 563,
    "start_time": "2022-11-15T11:54:26.918Z"
   },
   {
    "duration": 6,
    "start_time": "2022-11-15T11:56:43.770Z"
   },
   {
    "duration": 509,
    "start_time": "2022-11-15T11:56:44.885Z"
   },
   {
    "duration": 249,
    "start_time": "2022-11-15T12:03:54.617Z"
   },
   {
    "duration": 240,
    "start_time": "2022-11-15T12:04:00.361Z"
   },
   {
    "duration": 238,
    "start_time": "2022-11-15T12:04:13.399Z"
   },
   {
    "duration": 1365,
    "start_time": "2022-11-15T12:09:55.849Z"
   },
   {
    "duration": 370,
    "start_time": "2022-11-15T12:10:23.065Z"
   },
   {
    "duration": 314,
    "start_time": "2022-11-15T12:10:38.455Z"
   },
   {
    "duration": 1144,
    "start_time": "2022-11-15T12:21:23.010Z"
   },
   {
    "duration": 297,
    "start_time": "2022-11-15T12:21:34.647Z"
   },
   {
    "duration": 344,
    "start_time": "2022-11-15T12:21:50.615Z"
   },
   {
    "duration": 229,
    "start_time": "2022-11-15T12:24:25.016Z"
   },
   {
    "duration": 252,
    "start_time": "2022-11-15T12:24:35.151Z"
   },
   {
    "duration": 248,
    "start_time": "2022-11-15T12:24:44.034Z"
   },
   {
    "duration": 252,
    "start_time": "2022-11-15T12:24:52.948Z"
   },
   {
    "duration": 245,
    "start_time": "2022-11-15T12:25:00.532Z"
   },
   {
    "duration": 247,
    "start_time": "2022-11-15T12:25:09.755Z"
   },
   {
    "duration": 345,
    "start_time": "2022-11-15T12:50:20.557Z"
   },
   {
    "duration": 378,
    "start_time": "2022-11-15T12:50:29.892Z"
   },
   {
    "duration": 745,
    "start_time": "2022-11-15T19:34:53.858Z"
   },
   {
    "duration": 257,
    "start_time": "2022-11-15T19:34:54.605Z"
   },
   {
    "duration": 4,
    "start_time": "2022-11-15T19:34:54.863Z"
   },
   {
    "duration": 9,
    "start_time": "2022-11-15T19:34:54.869Z"
   },
   {
    "duration": 26,
    "start_time": "2022-11-15T19:34:54.879Z"
   },
   {
    "duration": 7,
    "start_time": "2022-11-15T19:34:54.906Z"
   },
   {
    "duration": 8,
    "start_time": "2022-11-15T19:34:54.914Z"
   },
   {
    "duration": 34,
    "start_time": "2022-11-15T19:34:54.923Z"
   },
   {
    "duration": 31,
    "start_time": "2022-11-15T19:34:54.959Z"
   },
   {
    "duration": 10,
    "start_time": "2022-11-15T19:34:54.993Z"
   },
   {
    "duration": 35,
    "start_time": "2022-11-15T19:34:55.004Z"
   },
   {
    "duration": 473,
    "start_time": "2022-11-15T19:34:55.040Z"
   },
   {
    "duration": 284,
    "start_time": "2022-11-15T19:34:55.515Z"
   },
   {
    "duration": 378,
    "start_time": "2022-11-15T19:34:55.801Z"
   },
   {
    "duration": 275,
    "start_time": "2022-11-15T19:34:56.180Z"
   },
   {
    "duration": 349,
    "start_time": "2022-11-15T19:34:56.457Z"
   },
   {
    "duration": 338,
    "start_time": "2022-11-15T19:36:00.688Z"
   },
   {
    "duration": 370,
    "start_time": "2022-11-15T19:36:08.786Z"
   },
   {
    "duration": 215,
    "start_time": "2022-11-15T19:36:33.939Z"
   },
   {
    "duration": 433,
    "start_time": "2022-11-15T19:37:02.384Z"
   },
   {
    "duration": 271,
    "start_time": "2022-11-15T19:37:26.333Z"
   },
   {
    "duration": 414,
    "start_time": "2022-11-15T19:37:37.070Z"
   },
   {
    "duration": 282,
    "start_time": "2022-11-15T19:37:43.372Z"
   },
   {
    "duration": 576,
    "start_time": "2022-11-15T19:37:53.173Z"
   },
   {
    "duration": 375,
    "start_time": "2022-11-15T19:38:31.542Z"
   },
   {
    "duration": 393,
    "start_time": "2022-11-15T19:44:36.317Z"
   },
   {
    "duration": 421,
    "start_time": "2022-11-15T19:44:48.951Z"
   },
   {
    "duration": 422,
    "start_time": "2022-11-15T19:44:58.680Z"
   },
   {
    "duration": 391,
    "start_time": "2022-11-15T19:45:13.444Z"
   },
   {
    "duration": 111,
    "start_time": "2022-11-15T19:50:27.651Z"
   },
   {
    "duration": 6,
    "start_time": "2022-11-15T19:55:57.183Z"
   },
   {
    "duration": 9,
    "start_time": "2022-11-15T19:56:23.748Z"
   },
   {
    "duration": 128,
    "start_time": "2022-11-15T19:57:16.816Z"
   },
   {
    "duration": 4,
    "start_time": "2022-11-15T20:01:20.408Z"
   },
   {
    "duration": 111,
    "start_time": "2022-11-15T20:05:18.375Z"
   },
   {
    "duration": 6,
    "start_time": "2022-11-15T20:09:23.567Z"
   },
   {
    "duration": 4,
    "start_time": "2022-11-15T20:11:48.093Z"
   },
   {
    "duration": 3,
    "start_time": "2022-11-15T20:20:43.940Z"
   },
   {
    "duration": 458,
    "start_time": "2022-11-15T20:20:49.833Z"
   },
   {
    "duration": 157,
    "start_time": "2022-11-15T20:23:31.042Z"
   },
   {
    "duration": 124,
    "start_time": "2022-11-15T20:23:39.834Z"
   },
   {
    "duration": 146,
    "start_time": "2022-11-15T20:30:39.967Z"
   },
   {
    "duration": 821,
    "start_time": "2022-11-15T20:31:43.922Z"
   },
   {
    "duration": 776,
    "start_time": "2022-11-15T20:32:01.433Z"
   },
   {
    "duration": 129,
    "start_time": "2022-11-15T20:35:59.032Z"
   },
   {
    "duration": 4,
    "start_time": "2022-11-15T20:37:51.295Z"
   },
   {
    "duration": 8,
    "start_time": "2022-11-15T20:39:28.574Z"
   },
   {
    "duration": 33,
    "start_time": "2022-11-15T20:43:27.911Z"
   },
   {
    "duration": 12,
    "start_time": "2022-11-15T20:51:41.883Z"
   },
   {
    "duration": 808,
    "start_time": "2022-11-15T21:11:40.737Z"
   },
   {
    "duration": 856,
    "start_time": "2022-11-15T21:11:58.182Z"
   },
   {
    "duration": 10,
    "start_time": "2022-11-15T21:14:29.033Z"
   },
   {
    "duration": 35,
    "start_time": "2022-11-15T21:20:33.932Z"
   },
   {
    "duration": 731,
    "start_time": "2022-11-15T21:30:53.077Z"
   },
   {
    "duration": 12,
    "start_time": "2022-11-15T21:31:17.854Z"
   },
   {
    "duration": 8,
    "start_time": "2022-11-15T21:34:39.609Z"
   },
   {
    "duration": 27,
    "start_time": "2022-11-15T21:34:58.412Z"
   },
   {
    "duration": 12,
    "start_time": "2022-11-15T21:35:18.416Z"
   },
   {
    "duration": 1063,
    "start_time": "2022-11-15T22:14:33.306Z"
   },
   {
    "duration": 95,
    "start_time": "2022-11-15T22:14:34.371Z"
   },
   {
    "duration": 4,
    "start_time": "2022-11-15T22:14:34.468Z"
   },
   {
    "duration": 6,
    "start_time": "2022-11-15T22:14:34.474Z"
   },
   {
    "duration": 29,
    "start_time": "2022-11-15T22:14:34.481Z"
   },
   {
    "duration": 7,
    "start_time": "2022-11-15T22:14:34.512Z"
   },
   {
    "duration": 10,
    "start_time": "2022-11-15T22:14:34.521Z"
   },
   {
    "duration": 9,
    "start_time": "2022-11-15T22:14:34.532Z"
   },
   {
    "duration": 13,
    "start_time": "2022-11-15T22:14:34.542Z"
   },
   {
    "duration": 11,
    "start_time": "2022-11-15T22:14:34.558Z"
   },
   {
    "duration": 25,
    "start_time": "2022-11-15T22:14:34.571Z"
   },
   {
    "duration": 540,
    "start_time": "2022-11-15T22:14:34.598Z"
   },
   {
    "duration": 298,
    "start_time": "2022-11-15T22:14:35.140Z"
   },
   {
    "duration": 410,
    "start_time": "2022-11-15T22:14:35.440Z"
   },
   {
    "duration": 266,
    "start_time": "2022-11-15T22:14:35.851Z"
   },
   {
    "duration": 375,
    "start_time": "2022-11-15T22:14:36.121Z"
   },
   {
    "duration": 9,
    "start_time": "2022-11-15T22:14:36.498Z"
   },
   {
    "duration": 111,
    "start_time": "2022-11-15T22:14:36.522Z"
   },
   {
    "duration": 5,
    "start_time": "2022-11-15T22:14:36.635Z"
   },
   {
    "duration": 9,
    "start_time": "2022-11-15T22:14:36.641Z"
   },
   {
    "duration": 131,
    "start_time": "2022-11-15T22:14:36.651Z"
   },
   {
    "duration": 4,
    "start_time": "2022-11-15T22:14:36.784Z"
   },
   {
    "duration": 151,
    "start_time": "2022-11-15T22:14:36.790Z"
   },
   {
    "duration": 26,
    "start_time": "2022-11-15T22:14:36.943Z"
   },
   {
    "duration": 10,
    "start_time": "2022-11-15T22:14:36.970Z"
   },
   {
    "duration": 12,
    "start_time": "2022-11-15T22:14:36.981Z"
   },
   {
    "duration": 44,
    "start_time": "2022-11-15T22:14:36.994Z"
   },
   {
    "duration": 11,
    "start_time": "2022-11-15T22:14:37.041Z"
   },
   {
    "duration": 1074,
    "start_time": "2022-11-16T12:02:32.368Z"
   },
   {
    "duration": 260,
    "start_time": "2022-11-16T12:02:33.444Z"
   },
   {
    "duration": 4,
    "start_time": "2022-11-16T12:02:33.706Z"
   },
   {
    "duration": 34,
    "start_time": "2022-11-16T12:02:33.712Z"
   },
   {
    "duration": 51,
    "start_time": "2022-11-16T12:02:33.748Z"
   },
   {
    "duration": 40,
    "start_time": "2022-11-16T12:02:33.801Z"
   },
   {
    "duration": 29,
    "start_time": "2022-11-16T12:02:33.843Z"
   },
   {
    "duration": 23,
    "start_time": "2022-11-16T12:02:33.874Z"
   },
   {
    "duration": 44,
    "start_time": "2022-11-16T12:02:33.899Z"
   },
   {
    "duration": 14,
    "start_time": "2022-11-16T12:02:33.946Z"
   },
   {
    "duration": 30,
    "start_time": "2022-11-16T12:02:33.962Z"
   },
   {
    "duration": 591,
    "start_time": "2022-11-16T12:02:33.994Z"
   },
   {
    "duration": 463,
    "start_time": "2022-11-16T12:02:34.587Z"
   },
   {
    "duration": 437,
    "start_time": "2022-11-16T12:02:35.054Z"
   },
   {
    "duration": 306,
    "start_time": "2022-11-16T12:02:35.493Z"
   },
   {
    "duration": 444,
    "start_time": "2022-11-16T12:02:35.801Z"
   },
   {
    "duration": 9,
    "start_time": "2022-11-16T12:02:36.254Z"
   },
   {
    "duration": 134,
    "start_time": "2022-11-16T12:02:36.265Z"
   },
   {
    "duration": 5,
    "start_time": "2022-11-16T12:02:36.400Z"
   },
   {
    "duration": 40,
    "start_time": "2022-11-16T12:02:36.406Z"
   },
   {
    "duration": 142,
    "start_time": "2022-11-16T12:02:36.447Z"
   },
   {
    "duration": 4,
    "start_time": "2022-11-16T12:02:36.591Z"
   },
   {
    "duration": 160,
    "start_time": "2022-11-16T12:02:36.597Z"
   },
   {
    "duration": 26,
    "start_time": "2022-11-16T12:02:36.758Z"
   },
   {
    "duration": 10,
    "start_time": "2022-11-16T12:02:36.785Z"
   },
   {
    "duration": 18,
    "start_time": "2022-11-16T12:02:36.796Z"
   },
   {
    "duration": 55,
    "start_time": "2022-11-16T12:02:36.816Z"
   },
   {
    "duration": 17,
    "start_time": "2022-11-16T12:02:36.873Z"
   },
   {
    "duration": 82,
    "start_time": "2022-11-16T19:20:58.323Z"
   },
   {
    "duration": 44,
    "start_time": "2022-11-16T19:23:49.342Z"
   },
   {
    "duration": 1285,
    "start_time": "2022-11-16T19:24:01.722Z"
   },
   {
    "duration": 201,
    "start_time": "2022-11-16T19:24:03.009Z"
   },
   {
    "duration": 4,
    "start_time": "2022-11-16T19:24:03.212Z"
   },
   {
    "duration": 8,
    "start_time": "2022-11-16T19:24:03.218Z"
   },
   {
    "duration": 30,
    "start_time": "2022-11-16T19:24:03.228Z"
   },
   {
    "duration": 35,
    "start_time": "2022-11-16T19:24:03.260Z"
   },
   {
    "duration": 17,
    "start_time": "2022-11-16T19:24:03.296Z"
   },
   {
    "duration": 18,
    "start_time": "2022-11-16T19:24:03.315Z"
   },
   {
    "duration": 16,
    "start_time": "2022-11-16T19:24:03.335Z"
   },
   {
    "duration": 27,
    "start_time": "2022-11-16T19:24:03.354Z"
   },
   {
    "duration": 14,
    "start_time": "2022-11-16T19:24:03.382Z"
   },
   {
    "duration": 593,
    "start_time": "2022-11-16T19:24:03.398Z"
   },
   {
    "duration": 441,
    "start_time": "2022-11-16T19:24:03.993Z"
   },
   {
    "duration": 492,
    "start_time": "2022-11-16T19:24:04.435Z"
   },
   {
    "duration": 312,
    "start_time": "2022-11-16T19:24:04.929Z"
   },
   {
    "duration": 450,
    "start_time": "2022-11-16T19:24:05.243Z"
   },
   {
    "duration": 9,
    "start_time": "2022-11-16T19:24:05.695Z"
   },
   {
    "duration": 157,
    "start_time": "2022-11-16T19:24:05.706Z"
   },
   {
    "duration": 5,
    "start_time": "2022-11-16T19:24:05.865Z"
   },
   {
    "duration": 29,
    "start_time": "2022-11-16T19:24:05.872Z"
   },
   {
    "duration": 133,
    "start_time": "2022-11-16T19:24:05.904Z"
   },
   {
    "duration": 3,
    "start_time": "2022-11-16T19:24:06.039Z"
   },
   {
    "duration": 167,
    "start_time": "2022-11-16T19:24:06.044Z"
   },
   {
    "duration": 27,
    "start_time": "2022-11-16T19:24:06.213Z"
   },
   {
    "duration": 23,
    "start_time": "2022-11-16T19:24:06.242Z"
   },
   {
    "duration": 24,
    "start_time": "2022-11-16T19:24:06.267Z"
   },
   {
    "duration": 54,
    "start_time": "2022-11-16T19:24:06.292Z"
   },
   {
    "duration": 14,
    "start_time": "2022-11-16T19:24:06.349Z"
   },
   {
    "duration": 545,
    "start_time": "2022-11-16T19:39:02.784Z"
   },
   {
    "duration": 619,
    "start_time": "2022-11-16T19:40:18.931Z"
   },
   {
    "duration": 591,
    "start_time": "2022-11-16T19:40:34.161Z"
   },
   {
    "duration": 531,
    "start_time": "2022-11-16T19:40:42.725Z"
   },
   {
    "duration": 300,
    "start_time": "2022-11-16T19:44:47.260Z"
   },
   {
    "duration": 430,
    "start_time": "2022-11-16T19:47:47.763Z"
   },
   {
    "duration": 390,
    "start_time": "2022-11-16T19:48:28.232Z"
   },
   {
    "duration": 327,
    "start_time": "2022-11-16T19:49:18.806Z"
   },
   {
    "duration": 424,
    "start_time": "2022-11-16T19:50:38.604Z"
   },
   {
    "duration": 217,
    "start_time": "2022-11-16T19:52:37.209Z"
   },
   {
    "duration": 86,
    "start_time": "2022-11-16T19:54:33.205Z"
   },
   {
    "duration": 202,
    "start_time": "2022-11-16T19:54:37.688Z"
   },
   {
    "duration": 102,
    "start_time": "2022-11-16T19:56:13.158Z"
   },
   {
    "duration": 104,
    "start_time": "2022-11-16T19:56:41.272Z"
   },
   {
    "duration": 117,
    "start_time": "2022-11-16T19:58:29.853Z"
   },
   {
    "duration": 135,
    "start_time": "2022-11-16T19:58:49.778Z"
   },
   {
    "duration": 117,
    "start_time": "2022-11-16T19:59:14.785Z"
   },
   {
    "duration": 122,
    "start_time": "2022-11-16T19:59:27.330Z"
   },
   {
    "duration": 134,
    "start_time": "2022-11-16T19:59:35.033Z"
   },
   {
    "duration": 130,
    "start_time": "2022-11-16T19:59:49.477Z"
   },
   {
    "duration": 125,
    "start_time": "2022-11-16T20:00:02.478Z"
   },
   {
    "duration": 154,
    "start_time": "2022-11-16T20:02:34.196Z"
   },
   {
    "duration": 118,
    "start_time": "2022-11-16T20:02:48.156Z"
   },
   {
    "duration": 217,
    "start_time": "2022-11-16T20:04:28.468Z"
   },
   {
    "duration": 143,
    "start_time": "2022-11-16T20:04:35.684Z"
   },
   {
    "duration": 29,
    "start_time": "2022-11-16T20:13:57.132Z"
   },
   {
    "duration": 11,
    "start_time": "2022-11-16T20:21:56.474Z"
   },
   {
    "duration": 14,
    "start_time": "2022-11-16T20:27:26.192Z"
   },
   {
    "duration": 17,
    "start_time": "2022-11-16T20:27:57.761Z"
   },
   {
    "duration": 11,
    "start_time": "2022-11-16T20:28:14.255Z"
   },
   {
    "duration": 10,
    "start_time": "2022-11-16T20:28:18.435Z"
   },
   {
    "duration": 9,
    "start_time": "2022-11-16T20:29:47.446Z"
   },
   {
    "duration": 27,
    "start_time": "2022-11-16T20:31:17.721Z"
   },
   {
    "duration": 12,
    "start_time": "2022-11-16T20:32:09.038Z"
   },
   {
    "duration": 1091,
    "start_time": "2022-11-16T20:58:51.799Z"
   },
   {
    "duration": 85,
    "start_time": "2022-11-16T20:58:52.892Z"
   },
   {
    "duration": 3,
    "start_time": "2022-11-16T20:58:52.979Z"
   },
   {
    "duration": 9,
    "start_time": "2022-11-16T20:58:52.984Z"
   },
   {
    "duration": 30,
    "start_time": "2022-11-16T20:58:52.995Z"
   },
   {
    "duration": 8,
    "start_time": "2022-11-16T20:58:53.027Z"
   },
   {
    "duration": 10,
    "start_time": "2022-11-16T20:58:53.037Z"
   },
   {
    "duration": 12,
    "start_time": "2022-11-16T20:58:53.049Z"
   },
   {
    "duration": 15,
    "start_time": "2022-11-16T20:58:53.063Z"
   },
   {
    "duration": 44,
    "start_time": "2022-11-16T20:58:53.081Z"
   },
   {
    "duration": 6,
    "start_time": "2022-11-16T20:58:53.128Z"
   },
   {
    "duration": 577,
    "start_time": "2022-11-16T20:58:53.136Z"
   },
   {
    "duration": 312,
    "start_time": "2022-11-16T20:58:53.714Z"
   },
   {
    "duration": 419,
    "start_time": "2022-11-16T20:58:54.029Z"
   },
   {
    "duration": 313,
    "start_time": "2022-11-16T20:58:54.450Z"
   },
   {
    "duration": 440,
    "start_time": "2022-11-16T20:58:54.764Z"
   },
   {
    "duration": 19,
    "start_time": "2022-11-16T20:58:55.206Z"
   },
   {
    "duration": 115,
    "start_time": "2022-11-16T20:58:55.227Z"
   },
   {
    "duration": 4,
    "start_time": "2022-11-16T20:58:55.343Z"
   },
   {
    "duration": 9,
    "start_time": "2022-11-16T20:58:55.349Z"
   },
   {
    "duration": 149,
    "start_time": "2022-11-16T20:58:55.360Z"
   },
   {
    "duration": 146,
    "start_time": "2022-11-16T20:58:55.511Z"
   },
   {
    "duration": 4,
    "start_time": "2022-11-16T20:58:55.659Z"
   },
   {
    "duration": 159,
    "start_time": "2022-11-16T20:58:55.665Z"
   },
   {
    "duration": 32,
    "start_time": "2022-11-16T20:58:55.826Z"
   },
   {
    "duration": 15,
    "start_time": "2022-11-16T20:58:55.860Z"
   },
   {
    "duration": 12,
    "start_time": "2022-11-16T20:58:55.880Z"
   },
   {
    "duration": 69,
    "start_time": "2022-11-16T20:58:55.893Z"
   },
   {
    "duration": 13,
    "start_time": "2022-11-16T20:58:55.964Z"
   }
  ],
  "kernelspec": {
   "display_name": "Python 3",
   "language": "python",
   "name": "python3"
  },
  "language_info": {
   "codemirror_mode": {
    "name": "ipython",
    "version": 3
   },
   "file_extension": ".py",
   "mimetype": "text/x-python",
   "name": "python",
   "nbconvert_exporter": "python",
   "pygments_lexer": "ipython3",
   "version": "3.7.0"
  },
  "toc": {
   "base_numbering": 1,
   "nav_menu": {},
   "number_sections": true,
   "sideBar": true,
   "skip_h1_title": true,
   "title_cell": "Table of Contents",
   "title_sidebar": "Contents",
   "toc_cell": false,
   "toc_position": {
    "height": "calc(100% - 180px)",
    "left": "10px",
    "top": "150px",
    "width": "165px"
   },
   "toc_section_display": true,
   "toc_window_display": true
  }
 },
 "nbformat": 4,
 "nbformat_minor": 2
}
