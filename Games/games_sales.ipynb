{
 "cells": [
  {
   "cell_type": "markdown",
   "metadata": {},
   "source": [
    "# Исследование данных о продаже компьютерных игр"
   ]
  },
  {
   "cell_type": "markdown",
   "metadata": {},
   "source": [
    "**Цель исследования** — выполнить предобработку данных и изучить их, чтобы выявить определяющие успешность игры закономерности и спланировать дальнейшие рекламные кампании.\n",
    "\n",
    "**Ход исследования**\n",
    "\n",
    "Исторические данные до 2016 года о продажах игр, оценках пользователей и экспертов, жанрах и платформах мы получили из файла `/datasets/games.csv`. Данные за 2016 год могут быть неполными.\n",
    "\n",
    "Исследование будет включать следующие этапы:\n",
    " 1. [Обзор данных.](#info)\n",
    " 2. [Предобработка данных](#preprocessing): изучим пропуски, проверим типы данных, устраним неявные дубликаты, а также редкие и выбивающиеся значения. \n",
    " 3. [Исследовательский анализ данных.](#eda)\n",
    " 4. [Составим портрет пользователя для каждого региона.](#portrait)\n",
    " 5. [Проверим гипотезы.](#hypotheses)"
   ]
  },
  {
   "cell_type": "markdown",
   "metadata": {},
   "source": [
    "<a id=\"info\"></a>\n",
    "## Общая информация"
   ]
  },
  {
   "cell_type": "code",
   "execution_count": 2,
   "metadata": {},
   "outputs": [],
   "source": [
    "#импортируем необходимые библиотеки\n",
    "import pandas as pd\n",
    "import matplotlib.pyplot as plt\n",
    "import numpy as np\n",
    "import seaborn as sns\n",
    "from scipy import stats as st"
   ]
  },
  {
   "cell_type": "code",
   "execution_count": 3,
   "metadata": {},
   "outputs": [],
   "source": [
    "data = pd.read_csv('/datasets/games.csv', sep=',')"
   ]
  },
  {
   "cell_type": "code",
   "execution_count": 4,
   "metadata": {},
   "outputs": [
    {
     "data": {
      "text/html": [
       "<div>\n",
       "<style scoped>\n",
       "    .dataframe tbody tr th:only-of-type {\n",
       "        vertical-align: middle;\n",
       "    }\n",
       "\n",
       "    .dataframe tbody tr th {\n",
       "        vertical-align: top;\n",
       "    }\n",
       "\n",
       "    .dataframe thead th {\n",
       "        text-align: right;\n",
       "    }\n",
       "</style>\n",
       "<table border=\"1\" class=\"dataframe\">\n",
       "  <thead>\n",
       "    <tr style=\"text-align: right;\">\n",
       "      <th></th>\n",
       "      <th>Name</th>\n",
       "      <th>Platform</th>\n",
       "      <th>Year_of_Release</th>\n",
       "      <th>Genre</th>\n",
       "      <th>NA_sales</th>\n",
       "      <th>EU_sales</th>\n",
       "      <th>JP_sales</th>\n",
       "      <th>Other_sales</th>\n",
       "      <th>Critic_Score</th>\n",
       "      <th>User_Score</th>\n",
       "      <th>Rating</th>\n",
       "    </tr>\n",
       "  </thead>\n",
       "  <tbody>\n",
       "    <tr>\n",
       "      <th>0</th>\n",
       "      <td>Wii Sports</td>\n",
       "      <td>Wii</td>\n",
       "      <td>2006.0</td>\n",
       "      <td>Sports</td>\n",
       "      <td>41.36</td>\n",
       "      <td>28.96</td>\n",
       "      <td>3.77</td>\n",
       "      <td>8.45</td>\n",
       "      <td>76.0</td>\n",
       "      <td>8</td>\n",
       "      <td>E</td>\n",
       "    </tr>\n",
       "    <tr>\n",
       "      <th>1</th>\n",
       "      <td>Super Mario Bros.</td>\n",
       "      <td>NES</td>\n",
       "      <td>1985.0</td>\n",
       "      <td>Platform</td>\n",
       "      <td>29.08</td>\n",
       "      <td>3.58</td>\n",
       "      <td>6.81</td>\n",
       "      <td>0.77</td>\n",
       "      <td>NaN</td>\n",
       "      <td>NaN</td>\n",
       "      <td>NaN</td>\n",
       "    </tr>\n",
       "    <tr>\n",
       "      <th>2</th>\n",
       "      <td>Mario Kart Wii</td>\n",
       "      <td>Wii</td>\n",
       "      <td>2008.0</td>\n",
       "      <td>Racing</td>\n",
       "      <td>15.68</td>\n",
       "      <td>12.76</td>\n",
       "      <td>3.79</td>\n",
       "      <td>3.29</td>\n",
       "      <td>82.0</td>\n",
       "      <td>8.3</td>\n",
       "      <td>E</td>\n",
       "    </tr>\n",
       "    <tr>\n",
       "      <th>3</th>\n",
       "      <td>Wii Sports Resort</td>\n",
       "      <td>Wii</td>\n",
       "      <td>2009.0</td>\n",
       "      <td>Sports</td>\n",
       "      <td>15.61</td>\n",
       "      <td>10.93</td>\n",
       "      <td>3.28</td>\n",
       "      <td>2.95</td>\n",
       "      <td>80.0</td>\n",
       "      <td>8</td>\n",
       "      <td>E</td>\n",
       "    </tr>\n",
       "    <tr>\n",
       "      <th>4</th>\n",
       "      <td>Pokemon Red/Pokemon Blue</td>\n",
       "      <td>GB</td>\n",
       "      <td>1996.0</td>\n",
       "      <td>Role-Playing</td>\n",
       "      <td>11.27</td>\n",
       "      <td>8.89</td>\n",
       "      <td>10.22</td>\n",
       "      <td>1.00</td>\n",
       "      <td>NaN</td>\n",
       "      <td>NaN</td>\n",
       "      <td>NaN</td>\n",
       "    </tr>\n",
       "    <tr>\n",
       "      <th>5</th>\n",
       "      <td>Tetris</td>\n",
       "      <td>GB</td>\n",
       "      <td>1989.0</td>\n",
       "      <td>Puzzle</td>\n",
       "      <td>23.20</td>\n",
       "      <td>2.26</td>\n",
       "      <td>4.22</td>\n",
       "      <td>0.58</td>\n",
       "      <td>NaN</td>\n",
       "      <td>NaN</td>\n",
       "      <td>NaN</td>\n",
       "    </tr>\n",
       "    <tr>\n",
       "      <th>6</th>\n",
       "      <td>New Super Mario Bros.</td>\n",
       "      <td>DS</td>\n",
       "      <td>2006.0</td>\n",
       "      <td>Platform</td>\n",
       "      <td>11.28</td>\n",
       "      <td>9.14</td>\n",
       "      <td>6.50</td>\n",
       "      <td>2.88</td>\n",
       "      <td>89.0</td>\n",
       "      <td>8.5</td>\n",
       "      <td>E</td>\n",
       "    </tr>\n",
       "    <tr>\n",
       "      <th>7</th>\n",
       "      <td>Wii Play</td>\n",
       "      <td>Wii</td>\n",
       "      <td>2006.0</td>\n",
       "      <td>Misc</td>\n",
       "      <td>13.96</td>\n",
       "      <td>9.18</td>\n",
       "      <td>2.93</td>\n",
       "      <td>2.84</td>\n",
       "      <td>58.0</td>\n",
       "      <td>6.6</td>\n",
       "      <td>E</td>\n",
       "    </tr>\n",
       "    <tr>\n",
       "      <th>8</th>\n",
       "      <td>New Super Mario Bros. Wii</td>\n",
       "      <td>Wii</td>\n",
       "      <td>2009.0</td>\n",
       "      <td>Platform</td>\n",
       "      <td>14.44</td>\n",
       "      <td>6.94</td>\n",
       "      <td>4.70</td>\n",
       "      <td>2.24</td>\n",
       "      <td>87.0</td>\n",
       "      <td>8.4</td>\n",
       "      <td>E</td>\n",
       "    </tr>\n",
       "    <tr>\n",
       "      <th>9</th>\n",
       "      <td>Duck Hunt</td>\n",
       "      <td>NES</td>\n",
       "      <td>1984.0</td>\n",
       "      <td>Shooter</td>\n",
       "      <td>26.93</td>\n",
       "      <td>0.63</td>\n",
       "      <td>0.28</td>\n",
       "      <td>0.47</td>\n",
       "      <td>NaN</td>\n",
       "      <td>NaN</td>\n",
       "      <td>NaN</td>\n",
       "    </tr>\n",
       "  </tbody>\n",
       "</table>\n",
       "</div>"
      ],
      "text/plain": [
       "                        Name Platform  Year_of_Release         Genre  \\\n",
       "0                 Wii Sports      Wii           2006.0        Sports   \n",
       "1          Super Mario Bros.      NES           1985.0      Platform   \n",
       "2             Mario Kart Wii      Wii           2008.0        Racing   \n",
       "3          Wii Sports Resort      Wii           2009.0        Sports   \n",
       "4   Pokemon Red/Pokemon Blue       GB           1996.0  Role-Playing   \n",
       "5                     Tetris       GB           1989.0        Puzzle   \n",
       "6      New Super Mario Bros.       DS           2006.0      Platform   \n",
       "7                   Wii Play      Wii           2006.0          Misc   \n",
       "8  New Super Mario Bros. Wii      Wii           2009.0      Platform   \n",
       "9                  Duck Hunt      NES           1984.0       Shooter   \n",
       "\n",
       "   NA_sales  EU_sales  JP_sales  Other_sales  Critic_Score User_Score Rating  \n",
       "0     41.36     28.96      3.77         8.45          76.0          8      E  \n",
       "1     29.08      3.58      6.81         0.77           NaN        NaN    NaN  \n",
       "2     15.68     12.76      3.79         3.29          82.0        8.3      E  \n",
       "3     15.61     10.93      3.28         2.95          80.0          8      E  \n",
       "4     11.27      8.89     10.22         1.00           NaN        NaN    NaN  \n",
       "5     23.20      2.26      4.22         0.58           NaN        NaN    NaN  \n",
       "6     11.28      9.14      6.50         2.88          89.0        8.5      E  \n",
       "7     13.96      9.18      2.93         2.84          58.0        6.6      E  \n",
       "8     14.44      6.94      4.70         2.24          87.0        8.4      E  \n",
       "9     26.93      0.63      0.28         0.47           NaN        NaN    NaN  "
      ]
     },
     "execution_count": 4,
     "metadata": {},
     "output_type": "execute_result"
    }
   ],
   "source": [
    "#посмотрим на первые 10 строк датафрейма\n",
    "data.head(10)"
   ]
  },
  {
   "cell_type": "code",
   "execution_count": 5,
   "metadata": {},
   "outputs": [
    {
     "name": "stdout",
     "output_type": "stream",
     "text": [
      "<class 'pandas.core.frame.DataFrame'>\n",
      "RangeIndex: 16715 entries, 0 to 16714\n",
      "Data columns (total 11 columns):\n",
      " #   Column           Non-Null Count  Dtype  \n",
      "---  ------           --------------  -----  \n",
      " 0   Name             16713 non-null  object \n",
      " 1   Platform         16715 non-null  object \n",
      " 2   Year_of_Release  16446 non-null  float64\n",
      " 3   Genre            16713 non-null  object \n",
      " 4   NA_sales         16715 non-null  float64\n",
      " 5   EU_sales         16715 non-null  float64\n",
      " 6   JP_sales         16715 non-null  float64\n",
      " 7   Other_sales      16715 non-null  float64\n",
      " 8   Critic_Score     8137 non-null   float64\n",
      " 9   User_Score       10014 non-null  object \n",
      " 10  Rating           9949 non-null   object \n",
      "dtypes: float64(6), object(5)\n",
      "memory usage: 1.4+ MB\n"
     ]
    }
   ],
   "source": [
    "#изучим общую информацию\n",
    "data.info()"
   ]
  },
  {
   "cell_type": "markdown",
   "metadata": {},
   "source": [
    "В таблице 11 столбцов. В столбцах присутствуют различные типы данных — object и float64.\n",
    "\n",
    "Согласно документации к данным:\n",
    "\n",
    "- Name — название игры\n",
    "- Platform — платформа\n",
    "- Year_of_Release — год выпуска\n",
    "- Genre — жанр игры\n",
    "- NA_sales — продажи в Северной Америке (миллионы проданных копий)\n",
    "- EU_sales — продажи в Европе (миллионы проданных копий)\n",
    "- JP_sales — продажи в Японии (миллионы проданных копий)\n",
    "- Other_sales — продажи в других странах (миллионы проданных копий)\n",
    "- Critic_Score — оценка критиков (максимум 100)\n",
    "- User_Score — оценка пользователей (максимум 10)\n",
    "- Rating — рейтинг от организации ESRB (англ. Entertainment Software Rating Board). Эта ассоциация определяет рейтинг компьютерных игр и присваивает им подходящую возрастную категорию.\n",
    "\n",
    "Количество значений в столбцах различается. Значит, в данных есть пропущенные значения."
   ]
  },
  {
   "cell_type": "markdown",
   "metadata": {},
   "source": [
    "<a id=\"preprocessing\"></a>\n",
    "## Предобработка данных"
   ]
  },
  {
   "cell_type": "markdown",
   "metadata": {},
   "source": [
    "### Обработка столбцов и типов данных"
   ]
  },
  {
   "cell_type": "markdown",
   "metadata": {},
   "source": [
    "Приведем названия столбцов к нижнему регистру."
   ]
  },
  {
   "cell_type": "code",
   "execution_count": 6,
   "metadata": {},
   "outputs": [],
   "source": [
    "data.columns = data.columns.str.lower()"
   ]
  },
  {
   "cell_type": "code",
   "execution_count": 7,
   "metadata": {},
   "outputs": [
    {
     "name": "stdout",
     "output_type": "stream",
     "text": [
      "<class 'pandas.core.frame.DataFrame'>\n",
      "RangeIndex: 16715 entries, 0 to 16714\n",
      "Data columns (total 11 columns):\n",
      " #   Column           Non-Null Count  Dtype  \n",
      "---  ------           --------------  -----  \n",
      " 0   name             16713 non-null  object \n",
      " 1   platform         16715 non-null  object \n",
      " 2   year_of_release  16446 non-null  float64\n",
      " 3   genre            16713 non-null  object \n",
      " 4   na_sales         16715 non-null  float64\n",
      " 5   eu_sales         16715 non-null  float64\n",
      " 6   jp_sales         16715 non-null  float64\n",
      " 7   other_sales      16715 non-null  float64\n",
      " 8   critic_score     8137 non-null   float64\n",
      " 9   user_score       10014 non-null  object \n",
      " 10  rating           9949 non-null   object \n",
      "dtypes: float64(6), object(5)\n",
      "memory usage: 1.4+ MB\n"
     ]
    }
   ],
   "source": [
    "data.info()"
   ]
  },
  {
   "cell_type": "markdown",
   "metadata": {},
   "source": [
    "Исправим некорректные типы данных."
   ]
  },
  {
   "cell_type": "markdown",
   "metadata": {},
   "source": [
    "Столбец с данными об оценке пользователей логично представить в виде дробных чисел. Посмотрим на значения в столбце."
   ]
  },
  {
   "cell_type": "code",
   "execution_count": 8,
   "metadata": {},
   "outputs": [
    {
     "data": {
      "text/plain": [
       "array(['8', nan, '8.3', '8.5', '6.6', '8.4', '8.6', '7.7', '6.3', '7.4',\n",
       "       '8.2', '9', '7.9', '8.1', '8.7', '7.1', '3.4', '5.3', '4.8', '3.2',\n",
       "       '8.9', '6.4', '7.8', '7.5', '2.6', '7.2', '9.2', '7', '7.3', '4.3',\n",
       "       '7.6', '5.7', '5', '9.1', '6.5', 'tbd', '8.8', '6.9', '9.4', '6.8',\n",
       "       '6.1', '6.7', '5.4', '4', '4.9', '4.5', '9.3', '6.2', '4.2', '6',\n",
       "       '3.7', '4.1', '5.8', '5.6', '5.5', '4.4', '4.6', '5.9', '3.9',\n",
       "       '3.1', '2.9', '5.2', '3.3', '4.7', '5.1', '3.5', '2.5', '1.9', '3',\n",
       "       '2.7', '2.2', '2', '9.5', '2.1', '3.6', '2.8', '1.8', '3.8', '0',\n",
       "       '1.6', '9.6', '2.4', '1.7', '1.1', '0.3', '1.5', '0.7', '1.2',\n",
       "       '2.3', '0.5', '1.3', '0.2', '0.6', '1.4', '0.9', '1', '9.7'],\n",
       "      dtype=object)"
      ]
     },
     "execution_count": 8,
     "metadata": {},
     "output_type": "execute_result"
    }
   ],
   "source": [
    "data['user_score'].unique()"
   ]
  },
  {
   "cell_type": "markdown",
   "metadata": {},
   "source": [
    "Среди оценок присутствует отметка 'tbd' - 'to be determined'. Это означает, что оценка еще не известна, но, возможно, скоро появится. Для перевода значений столбца в нужный тип необходимо заменить 'tbd'. Заменим эти отметки пропусками."
   ]
  },
  {
   "cell_type": "code",
   "execution_count": 9,
   "metadata": {},
   "outputs": [],
   "source": [
    "data['user_score'] = pd.to_numeric(data['user_score'], errors='coerce')"
   ]
  },
  {
   "cell_type": "markdown",
   "metadata": {},
   "source": [
    "### Обработка пропусков"
   ]
  },
  {
   "cell_type": "code",
   "execution_count": 10,
   "metadata": {},
   "outputs": [
    {
     "name": "stdout",
     "output_type": "stream",
     "text": [
      "Collecting missingno\n",
      "  Downloading missingno-0.5.1-py3-none-any.whl (8.7 kB)\n",
      "Requirement already satisfied: numpy in /opt/conda/lib/python3.9/site-packages (from missingno) (1.21.1)\n",
      "Requirement already satisfied: scipy in /opt/conda/lib/python3.9/site-packages (from missingno) (1.9.1)\n",
      "Requirement already satisfied: seaborn in /opt/conda/lib/python3.9/site-packages (from missingno) (0.11.1)\n",
      "Requirement already satisfied: matplotlib in /opt/conda/lib/python3.9/site-packages (from missingno) (3.3.4)\n",
      "Requirement already satisfied: kiwisolver>=1.0.1 in /opt/conda/lib/python3.9/site-packages (from matplotlib->missingno) (1.4.4)\n",
      "Requirement already satisfied: python-dateutil>=2.1 in /opt/conda/lib/python3.9/site-packages (from matplotlib->missingno) (2.8.1)\n",
      "Requirement already satisfied: pillow>=6.2.0 in /opt/conda/lib/python3.9/site-packages (from matplotlib->missingno) (8.4.0)\n",
      "Requirement already satisfied: cycler>=0.10 in /opt/conda/lib/python3.9/site-packages (from matplotlib->missingno) (0.11.0)\n",
      "Requirement already satisfied: pyparsing!=2.0.4,!=2.1.2,!=2.1.6,>=2.0.3 in /opt/conda/lib/python3.9/site-packages (from matplotlib->missingno) (2.4.7)\n",
      "Requirement already satisfied: six>=1.5 in /opt/conda/lib/python3.9/site-packages (from python-dateutil>=2.1->matplotlib->missingno) (1.16.0)\n",
      "Requirement already satisfied: pandas>=0.23 in /opt/conda/lib/python3.9/site-packages (from seaborn->missingno) (1.2.4)\n",
      "Requirement already satisfied: pytz>=2017.3 in /opt/conda/lib/python3.9/site-packages (from pandas>=0.23->seaborn->missingno) (2021.1)\n",
      "Installing collected packages: missingno\n",
      "Successfully installed missingno-0.5.1\n"
     ]
    }
   ],
   "source": [
    "#установим пакет missingno для визуализации пропусков\n",
    "!pip install missingno\n",
    " \n",
    "import missingno as msno"
   ]
  },
  {
   "cell_type": "code",
   "execution_count": 11,
   "metadata": {},
   "outputs": [
    {
     "data": {
      "image/png": "[encoded data removed]",
      "text/plain": [
       "<Figure size 1800x720 with 2 Axes>"
      ]
     },
     "metadata": {
      "needs_background": "light"
     },
     "output_type": "display_data"
    }
   ],
   "source": [
    "msno.matrix(data, labels=True);"
   ]
  },
  {
   "cell_type": "markdown",
   "metadata": {},
   "source": [
    "На графике наглядно видно, что есть несколько пропусков в столбце с годом выпуска. Много значений пропущено в столбцах с оценками критиков и пользователей, а также с рейтингом ESRB."
   ]
  },
  {
   "cell_type": "code",
   "execution_count": 13,
   "metadata": {},
   "outputs": [
    {
     "data": {
      "text/plain": [
       "name                  2\n",
       "platform              0\n",
       "year_of_release     269\n",
       "genre                 2\n",
       "na_sales              0\n",
       "eu_sales              0\n",
       "jp_sales              0\n",
       "other_sales           0\n",
       "critic_score       8578\n",
       "user_score         9125\n",
       "rating             6766\n",
       "dtype: int64"
      ]
     },
     "execution_count": 13,
     "metadata": {},
     "output_type": "execute_result"
    }
   ],
   "source": [
    "data.isna().sum()"
   ]
  },
  {
   "cell_type": "markdown",
   "metadata": {},
   "source": [
    "Избавимся от строк с отсутствующим названием и жанром."
   ]
  },
  {
   "cell_type": "code",
   "execution_count": 14,
   "metadata": {},
   "outputs": [],
   "source": [
    "data = data.dropna(subset=['name', 'genre'])"
   ]
  },
  {
   "cell_type": "markdown",
   "metadata": {},
   "source": [
    "Это оказались одни и те же строки."
   ]
  },
  {
   "cell_type": "markdown",
   "metadata": {},
   "source": [
    "В столбце с рейтингом ESRB слишком много пропусков - это может повлиять на дальнейшее исследование. Заменим пустые значения на Unknown."
   ]
  },
  {
   "cell_type": "code",
   "execution_count": 15,
   "metadata": {},
   "outputs": [],
   "source": [
    "data['rating'] = data['rating'].fillna('Unknown')"
   ]
  },
  {
   "cell_type": "code",
   "execution_count": 16,
   "metadata": {},
   "outputs": [
    {
     "name": "stdout",
     "output_type": "stream",
     "text": [
      "<class 'pandas.core.frame.DataFrame'>\n",
      "Int64Index: 16713 entries, 0 to 16714\n",
      "Data columns (total 11 columns):\n",
      " #   Column           Non-Null Count  Dtype  \n",
      "---  ------           --------------  -----  \n",
      " 0   name             16713 non-null  object \n",
      " 1   platform         16713 non-null  object \n",
      " 2   year_of_release  16444 non-null  float64\n",
      " 3   genre            16713 non-null  object \n",
      " 4   na_sales         16713 non-null  float64\n",
      " 5   eu_sales         16713 non-null  float64\n",
      " 6   jp_sales         16713 non-null  float64\n",
      " 7   other_sales      16713 non-null  float64\n",
      " 8   critic_score     8137 non-null   float64\n",
      " 9   user_score       7590 non-null   float64\n",
      " 10  rating           16713 non-null  object \n",
      "dtypes: float64(7), object(4)\n",
      "memory usage: 1.5+ MB\n"
     ]
    }
   ],
   "source": [
    "data.info()"
   ]
  },
  {
   "cell_type": "code",
   "execution_count": 17,
   "metadata": {},
   "outputs": [
    {
     "data": {
      "text/plain": [
       "1980.0       9\n",
       "1981.0      46\n",
       "1982.0      36\n",
       "1983.0      17\n",
       "1984.0      14\n",
       "1985.0      14\n",
       "1986.0      21\n",
       "1987.0      16\n",
       "1988.0      15\n",
       "1989.0      17\n",
       "1990.0      16\n",
       "1991.0      41\n",
       "1992.0      43\n",
       "1993.0      60\n",
       "1994.0     121\n",
       "1995.0     219\n",
       "1996.0     263\n",
       "1997.0     289\n",
       "1998.0     379\n",
       "1999.0     338\n",
       "2000.0     350\n",
       "2001.0     482\n",
       "2002.0     829\n",
       "2003.0     775\n",
       "2004.0     762\n",
       "2005.0     939\n",
       "2006.0    1006\n",
       "2007.0    1197\n",
       "2008.0    1427\n",
       "2009.0    1426\n",
       "2010.0    1255\n",
       "2011.0    1136\n",
       "2012.0     653\n",
       "2013.0     544\n",
       "2014.0     581\n",
       "2015.0     606\n",
       "2016.0     502\n",
       "Name: year_of_release, dtype: int64"
      ]
     },
     "execution_count": 17,
     "metadata": {},
     "output_type": "execute_result"
    }
   ],
   "source": [
    "data['year_of_release'].value_counts().sort_index(ascending=True)"
   ]
  },
  {
   "cell_type": "markdown",
   "metadata": {},
   "source": [
    "Данные собраны за период с 1980 по 2016 год. Заменим пропуски в столбце с годом выпуска на 1900. Информация о годе выпуска записана в формате float64, заменим тип данных на datetime."
   ]
  },
  {
   "cell_type": "code",
   "execution_count": 18,
   "metadata": {},
   "outputs": [],
   "source": [
    "data['year_of_release'] = data['year_of_release'].fillna(1900)\n",
    "data['year_of_release'] = pd.to_datetime(data['year_of_release'], format='%Y').dt.year"
   ]
  },
  {
   "cell_type": "markdown",
   "metadata": {},
   "source": [
    "Т.к. данные для датафрейма были собраны из открытых источников, то пропущенные значения в оценке игры пользоватлеями и критиками могут быть вызваны отстутсвием или недостаточным количеством информации. Для избежания искажения дальнейшего исследования оставим пропуски без изменений. \n",
    "\n",
    "Рейтинг ESRB может быть пропущен по той причине, что его просто нет для данной игры. ESRB работает на территории США и Канады. Для полноты данных, возможно, стоило учесть рейтинги европейской, японской и других систем оценок. Заполнять эти пропуски какими-либо значениями будет некорректно."
   ]
  },
  {
   "cell_type": "markdown",
   "metadata": {},
   "source": [
    "### Суммарные продажи"
   ]
  },
  {
   "cell_type": "code",
   "execution_count": 19,
   "metadata": {},
   "outputs": [],
   "source": [
    "#посчитаем суммарные продажи во всех регионах и запишим их в новый столбец sum_sales\n",
    "data['sum_sales'] = data['na_sales']+data['eu_sales']+data['jp_sales']+data['other_sales']"
   ]
  },
  {
   "cell_type": "markdown",
   "metadata": {},
   "source": [
    "<a id=\"eda\"></a>\n",
    "## Исследовательский анализ данных"
   ]
  },
  {
   "cell_type": "markdown",
   "metadata": {},
   "source": [
    "### Выбор актуального периода для анализа"
   ]
  },
  {
   "cell_type": "markdown",
   "metadata": {},
   "source": [
    "Посмотрим, сколько игр выпускалось в разные годы. "
   ]
  },
  {
   "cell_type": "code",
   "execution_count": 20,
   "metadata": {},
   "outputs": [
    {
     "data": {
      "image/png": "[encoded data removed]",
      "text/plain": [
       "<Figure size 1080x360 with 1 Axes>"
      ]
     },
     "metadata": {
      "needs_background": "light"
     },
     "output_type": "display_data"
    }
   ],
   "source": [
    "(\n",
    "    data.pivot_table(index='year_of_release', values='name', aggfunc='count')\\\n",
    "    .plot(xlim=(1980, 2016), grid=True, figsize=(15, 5))\n",
    ");"
   ]
  },
  {
   "cell_type": "markdown",
   "metadata": {},
   "source": [
    "На графике видны всплески в 1998 и 2002 годах, но настоящий прорыв был в 2008-2009 годах, когда количество игр увеличилось почти в полтора раза по сравнению с прошлыми годами. Дальнейший спад в производстве игр, скорее всего, вызван последствиями экономического кризиса, пришедшегося как раз на эти годы (2008-2009), и реорганизацией всей индустрии. По этой причине для анализа и определения тенденций на игровом рынке лучше брать отрезок времени после 2009 года, хорошо отображающий новые условия и период восстановления после кризиса."
   ]
  },
  {
   "cell_type": "markdown",
   "metadata": {},
   "source": [
    "Посмотрим на количество проданных игр на разных платформах по годам."
   ]
  },
  {
   "cell_type": "code",
   "execution_count": 22,
   "metadata": {},
   "outputs": [
    {
     "data": {
      "image/png": "[encoded data removed]",
      "text/plain": [
       "<Figure size 1440x576 with 2 Axes>"
      ]
     },
     "metadata": {
      "needs_background": "light"
     },
     "output_type": "display_data"
    }
   ],
   "source": [
    "platform_sales_by_years = data.pivot_table(index='platform', columns = 'year_of_release', values='sum_sales', aggfunc='sum')\n",
    "plt.figure(figsize = (20, 8))\n",
    "sns.heatmap(platform_sales_by_years, cmap='RdYlGn', linewidth=0.01, linecolor='black');"
   ]
  },
  {
   "cell_type": "markdown",
   "metadata": {},
   "source": [
    "Лидерами продаж за все года являются DS и Wii от Nintendo, 4 версии PS и X360. \n",
    "\n",
    "Интересен жизненный цикл PS - с выпуском новой версии сокращаются продажи игр для предыдущей платформы. Срок службы платформы - около 10 лет. При этом новая выпускается через 6-7 лет после выпуска прошлой. На графике у PS4 еще не так заметен рост продаж, это вызвано небольшим промежутком времени с момента выпука до сбора информации для исследования и малым количеством данных.\n",
    "\n",
    "Для всех платформ характерно постепенное увеличение количества продаж, но не для Wii. Эта платформа сразу покорила мир, показав быстрый старт продаж с более 125 млн копий в год. Спад в продажах начинается с момента запуска наследницы - WiiU, которая на момент сбора данных не смогла повторить успех своей предшественницы."
   ]
  },
  {
   "cell_type": "markdown",
   "metadata": {},
   "source": [
    "Для дальнейшего анализа возьмем данные за 2012-2016 года."
   ]
  },
  {
   "cell_type": "code",
   "execution_count": 23,
   "metadata": {
    "scrolled": true
   },
   "outputs": [
    {
     "data": {
      "text/html": [
       "<div>\n",
       "<style scoped>\n",
       "    .dataframe tbody tr th:only-of-type {\n",
       "        vertical-align: middle;\n",
       "    }\n",
       "\n",
       "    .dataframe tbody tr th {\n",
       "        vertical-align: top;\n",
       "    }\n",
       "\n",
       "    .dataframe thead th {\n",
       "        text-align: right;\n",
       "    }\n",
       "</style>\n",
       "<table border=\"1\" class=\"dataframe\">\n",
       "  <thead>\n",
       "    <tr style=\"text-align: right;\">\n",
       "      <th></th>\n",
       "      <th>name</th>\n",
       "      <th>platform</th>\n",
       "      <th>year_of_release</th>\n",
       "      <th>genre</th>\n",
       "      <th>na_sales</th>\n",
       "      <th>eu_sales</th>\n",
       "      <th>jp_sales</th>\n",
       "      <th>other_sales</th>\n",
       "      <th>critic_score</th>\n",
       "      <th>user_score</th>\n",
       "      <th>rating</th>\n",
       "      <th>sum_sales</th>\n",
       "    </tr>\n",
       "  </thead>\n",
       "  <tbody>\n",
       "    <tr>\n",
       "      <th>16</th>\n",
       "      <td>Grand Theft Auto V</td>\n",
       "      <td>PS3</td>\n",
       "      <td>2013</td>\n",
       "      <td>Action</td>\n",
       "      <td>7.02</td>\n",
       "      <td>9.09</td>\n",
       "      <td>0.98</td>\n",
       "      <td>3.96</td>\n",
       "      <td>97.0</td>\n",
       "      <td>8.2</td>\n",
       "      <td>M</td>\n",
       "      <td>21.05</td>\n",
       "    </tr>\n",
       "    <tr>\n",
       "      <th>23</th>\n",
       "      <td>Grand Theft Auto V</td>\n",
       "      <td>X360</td>\n",
       "      <td>2013</td>\n",
       "      <td>Action</td>\n",
       "      <td>9.66</td>\n",
       "      <td>5.14</td>\n",
       "      <td>0.06</td>\n",
       "      <td>1.41</td>\n",
       "      <td>97.0</td>\n",
       "      <td>8.1</td>\n",
       "      <td>M</td>\n",
       "      <td>16.27</td>\n",
       "    </tr>\n",
       "    <tr>\n",
       "      <th>31</th>\n",
       "      <td>Call of Duty: Black Ops 3</td>\n",
       "      <td>PS4</td>\n",
       "      <td>2015</td>\n",
       "      <td>Shooter</td>\n",
       "      <td>6.03</td>\n",
       "      <td>5.86</td>\n",
       "      <td>0.36</td>\n",
       "      <td>2.38</td>\n",
       "      <td>NaN</td>\n",
       "      <td>NaN</td>\n",
       "      <td>Unknown</td>\n",
       "      <td>14.63</td>\n",
       "    </tr>\n",
       "    <tr>\n",
       "      <th>33</th>\n",
       "      <td>Pokemon X/Pokemon Y</td>\n",
       "      <td>3DS</td>\n",
       "      <td>2013</td>\n",
       "      <td>Role-Playing</td>\n",
       "      <td>5.28</td>\n",
       "      <td>4.19</td>\n",
       "      <td>4.35</td>\n",
       "      <td>0.78</td>\n",
       "      <td>NaN</td>\n",
       "      <td>NaN</td>\n",
       "      <td>Unknown</td>\n",
       "      <td>14.60</td>\n",
       "    </tr>\n",
       "    <tr>\n",
       "      <th>34</th>\n",
       "      <td>Call of Duty: Black Ops II</td>\n",
       "      <td>PS3</td>\n",
       "      <td>2012</td>\n",
       "      <td>Shooter</td>\n",
       "      <td>4.99</td>\n",
       "      <td>5.73</td>\n",
       "      <td>0.65</td>\n",
       "      <td>2.42</td>\n",
       "      <td>83.0</td>\n",
       "      <td>5.3</td>\n",
       "      <td>M</td>\n",
       "      <td>13.79</td>\n",
       "    </tr>\n",
       "    <tr>\n",
       "      <th>35</th>\n",
       "      <td>Call of Duty: Black Ops II</td>\n",
       "      <td>X360</td>\n",
       "      <td>2012</td>\n",
       "      <td>Shooter</td>\n",
       "      <td>8.25</td>\n",
       "      <td>4.24</td>\n",
       "      <td>0.07</td>\n",
       "      <td>1.12</td>\n",
       "      <td>83.0</td>\n",
       "      <td>4.8</td>\n",
       "      <td>M</td>\n",
       "      <td>13.68</td>\n",
       "    </tr>\n",
       "    <tr>\n",
       "      <th>42</th>\n",
       "      <td>Grand Theft Auto V</td>\n",
       "      <td>PS4</td>\n",
       "      <td>2014</td>\n",
       "      <td>Action</td>\n",
       "      <td>3.96</td>\n",
       "      <td>6.31</td>\n",
       "      <td>0.38</td>\n",
       "      <td>1.97</td>\n",
       "      <td>97.0</td>\n",
       "      <td>8.3</td>\n",
       "      <td>M</td>\n",
       "      <td>12.62</td>\n",
       "    </tr>\n",
       "    <tr>\n",
       "      <th>47</th>\n",
       "      <td>Pokemon Omega Ruby/Pokemon Alpha Sapphire</td>\n",
       "      <td>3DS</td>\n",
       "      <td>2014</td>\n",
       "      <td>Role-Playing</td>\n",
       "      <td>4.35</td>\n",
       "      <td>3.49</td>\n",
       "      <td>3.10</td>\n",
       "      <td>0.74</td>\n",
       "      <td>NaN</td>\n",
       "      <td>NaN</td>\n",
       "      <td>Unknown</td>\n",
       "      <td>11.68</td>\n",
       "    </tr>\n",
       "    <tr>\n",
       "      <th>60</th>\n",
       "      <td>Call of Duty: Ghosts</td>\n",
       "      <td>X360</td>\n",
       "      <td>2013</td>\n",
       "      <td>Shooter</td>\n",
       "      <td>6.73</td>\n",
       "      <td>2.56</td>\n",
       "      <td>0.04</td>\n",
       "      <td>0.91</td>\n",
       "      <td>73.0</td>\n",
       "      <td>2.6</td>\n",
       "      <td>M</td>\n",
       "      <td>10.24</td>\n",
       "    </tr>\n",
       "    <tr>\n",
       "      <th>62</th>\n",
       "      <td>New Super Mario Bros. 2</td>\n",
       "      <td>3DS</td>\n",
       "      <td>2012</td>\n",
       "      <td>Platform</td>\n",
       "      <td>3.66</td>\n",
       "      <td>3.14</td>\n",
       "      <td>2.47</td>\n",
       "      <td>0.63</td>\n",
       "      <td>78.0</td>\n",
       "      <td>7.2</td>\n",
       "      <td>E</td>\n",
       "      <td>9.90</td>\n",
       "    </tr>\n",
       "  </tbody>\n",
       "</table>\n",
       "</div>"
      ],
      "text/plain": [
       "                                         name platform  year_of_release  \\\n",
       "16                         Grand Theft Auto V      PS3             2013   \n",
       "23                         Grand Theft Auto V     X360             2013   \n",
       "31                  Call of Duty: Black Ops 3      PS4             2015   \n",
       "33                        Pokemon X/Pokemon Y      3DS             2013   \n",
       "34                 Call of Duty: Black Ops II      PS3             2012   \n",
       "35                 Call of Duty: Black Ops II     X360             2012   \n",
       "42                         Grand Theft Auto V      PS4             2014   \n",
       "47  Pokemon Omega Ruby/Pokemon Alpha Sapphire      3DS             2014   \n",
       "60                       Call of Duty: Ghosts     X360             2013   \n",
       "62                    New Super Mario Bros. 2      3DS             2012   \n",
       "\n",
       "           genre  na_sales  eu_sales  jp_sales  other_sales  critic_score  \\\n",
       "16        Action      7.02      9.09      0.98         3.96          97.0   \n",
       "23        Action      9.66      5.14      0.06         1.41          97.0   \n",
       "31       Shooter      6.03      5.86      0.36         2.38           NaN   \n",
       "33  Role-Playing      5.28      4.19      4.35         0.78           NaN   \n",
       "34       Shooter      4.99      5.73      0.65         2.42          83.0   \n",
       "35       Shooter      8.25      4.24      0.07         1.12          83.0   \n",
       "42        Action      3.96      6.31      0.38         1.97          97.0   \n",
       "47  Role-Playing      4.35      3.49      3.10         0.74           NaN   \n",
       "60       Shooter      6.73      2.56      0.04         0.91          73.0   \n",
       "62      Platform      3.66      3.14      2.47         0.63          78.0   \n",
       "\n",
       "    user_score   rating  sum_sales  \n",
       "16         8.2        M      21.05  \n",
       "23         8.1        M      16.27  \n",
       "31         NaN  Unknown      14.63  \n",
       "33         NaN  Unknown      14.60  \n",
       "34         5.3        M      13.79  \n",
       "35         4.8        M      13.68  \n",
       "42         8.3        M      12.62  \n",
       "47         NaN  Unknown      11.68  \n",
       "60         2.6        M      10.24  \n",
       "62         7.2        E       9.90  "
      ]
     },
     "execution_count": 23,
     "metadata": {},
     "output_type": "execute_result"
    }
   ],
   "source": [
    "actual_data = data.query('2012<=year_of_release<=2016')\n",
    "actual_data.head(10)"
   ]
  },
  {
   "cell_type": "markdown",
   "metadata": {},
   "source": [
    "### Платформы-лидеры"
   ]
  },
  {
   "cell_type": "markdown",
   "metadata": {},
   "source": [
    "Посмотрим на прибыльность платформ в новом отрезке времени."
   ]
  },
  {
   "cell_type": "code",
   "execution_count": 24,
   "metadata": {},
   "outputs": [
    {
     "data": {
      "text/html": [
       "<div>\n",
       "<style scoped>\n",
       "    .dataframe tbody tr th:only-of-type {\n",
       "        vertical-align: middle;\n",
       "    }\n",
       "\n",
       "    .dataframe tbody tr th {\n",
       "        vertical-align: top;\n",
       "    }\n",
       "\n",
       "    .dataframe thead th {\n",
       "        text-align: right;\n",
       "    }\n",
       "</style>\n",
       "<table border=\"1\" class=\"dataframe\">\n",
       "  <thead>\n",
       "    <tr style=\"text-align: right;\">\n",
       "      <th>platform</th>\n",
       "      <th>3DS</th>\n",
       "      <th>DS</th>\n",
       "      <th>PC</th>\n",
       "      <th>PS3</th>\n",
       "      <th>PS4</th>\n",
       "      <th>PSP</th>\n",
       "      <th>PSV</th>\n",
       "      <th>Wii</th>\n",
       "      <th>WiiU</th>\n",
       "      <th>X360</th>\n",
       "      <th>XOne</th>\n",
       "    </tr>\n",
       "    <tr>\n",
       "      <th>year_of_release</th>\n",
       "      <th></th>\n",
       "      <th></th>\n",
       "      <th></th>\n",
       "      <th></th>\n",
       "      <th></th>\n",
       "      <th></th>\n",
       "      <th></th>\n",
       "      <th></th>\n",
       "      <th></th>\n",
       "      <th></th>\n",
       "      <th></th>\n",
       "    </tr>\n",
       "  </thead>\n",
       "  <tbody>\n",
       "    <tr>\n",
       "      <th>2012</th>\n",
       "      <td>51.36</td>\n",
       "      <td>11.01</td>\n",
       "      <td>23.22</td>\n",
       "      <td>107.36</td>\n",
       "      <td>NaN</td>\n",
       "      <td>7.69</td>\n",
       "      <td>16.19</td>\n",
       "      <td>21.71</td>\n",
       "      <td>17.56</td>\n",
       "      <td>99.74</td>\n",
       "      <td>NaN</td>\n",
       "    </tr>\n",
       "    <tr>\n",
       "      <th>2013</th>\n",
       "      <td>56.57</td>\n",
       "      <td>1.54</td>\n",
       "      <td>12.38</td>\n",
       "      <td>113.25</td>\n",
       "      <td>25.99</td>\n",
       "      <td>3.14</td>\n",
       "      <td>10.59</td>\n",
       "      <td>8.59</td>\n",
       "      <td>21.65</td>\n",
       "      <td>88.58</td>\n",
       "      <td>18.96</td>\n",
       "    </tr>\n",
       "    <tr>\n",
       "      <th>2014</th>\n",
       "      <td>43.76</td>\n",
       "      <td>NaN</td>\n",
       "      <td>13.28</td>\n",
       "      <td>47.76</td>\n",
       "      <td>100.00</td>\n",
       "      <td>0.24</td>\n",
       "      <td>11.90</td>\n",
       "      <td>3.75</td>\n",
       "      <td>22.03</td>\n",
       "      <td>34.74</td>\n",
       "      <td>54.07</td>\n",
       "    </tr>\n",
       "    <tr>\n",
       "      <th>2015</th>\n",
       "      <td>27.78</td>\n",
       "      <td>NaN</td>\n",
       "      <td>8.52</td>\n",
       "      <td>16.82</td>\n",
       "      <td>118.90</td>\n",
       "      <td>0.12</td>\n",
       "      <td>6.25</td>\n",
       "      <td>1.14</td>\n",
       "      <td>16.35</td>\n",
       "      <td>11.96</td>\n",
       "      <td>60.14</td>\n",
       "    </tr>\n",
       "    <tr>\n",
       "      <th>2016</th>\n",
       "      <td>15.14</td>\n",
       "      <td>NaN</td>\n",
       "      <td>5.25</td>\n",
       "      <td>3.60</td>\n",
       "      <td>69.25</td>\n",
       "      <td>NaN</td>\n",
       "      <td>4.25</td>\n",
       "      <td>0.18</td>\n",
       "      <td>4.60</td>\n",
       "      <td>1.52</td>\n",
       "      <td>26.15</td>\n",
       "    </tr>\n",
       "  </tbody>\n",
       "</table>\n",
       "</div>"
      ],
      "text/plain": [
       "platform           3DS     DS     PC     PS3     PS4   PSP    PSV    Wii  \\\n",
       "year_of_release                                                            \n",
       "2012             51.36  11.01  23.22  107.36     NaN  7.69  16.19  21.71   \n",
       "2013             56.57   1.54  12.38  113.25   25.99  3.14  10.59   8.59   \n",
       "2014             43.76    NaN  13.28   47.76  100.00  0.24  11.90   3.75   \n",
       "2015             27.78    NaN   8.52   16.82  118.90  0.12   6.25   1.14   \n",
       "2016             15.14    NaN   5.25    3.60   69.25   NaN   4.25   0.18   \n",
       "\n",
       "platform          WiiU   X360   XOne  \n",
       "year_of_release                       \n",
       "2012             17.56  99.74    NaN  \n",
       "2013             21.65  88.58  18.96  \n",
       "2014             22.03  34.74  54.07  \n",
       "2015             16.35  11.96  60.14  \n",
       "2016              4.60   1.52  26.15  "
      ]
     },
     "execution_count": 24,
     "metadata": {},
     "output_type": "execute_result"
    }
   ],
   "source": [
    "actual_platform_sales_by_years = actual_data.pivot_table(index='year_of_release', columns = 'platform', values='sum_sales', aggfunc='sum')\n",
    "actual_platform_sales_by_years"
   ]
  },
  {
   "cell_type": "code",
   "execution_count": 25,
   "metadata": {},
   "outputs": [
    {
     "data": {
      "image/png": "[encoded data removed]",
      "text/plain": [
       "<Figure size 2250x900 with 1 Axes>"
      ]
     },
     "metadata": {
      "needs_background": "light"
     },
     "output_type": "display_data"
    }
   ],
   "source": [
    "import matplotlib.ticker as ticker\n",
    "fig, ax = plt.subplots(figsize=(15, 6), dpi=150)\n",
    "\n",
    "actual_platform_sales_by_years.plot(cmap='tab20', grid=True, ax=ax)\n",
    "\n",
    "ax.xaxis.set_major_locator(ticker.MultipleLocator(1))\n",
    "ax.xaxis.set_minor_locator(ticker.MultipleLocator(1))"
   ]
  },
  {
   "cell_type": "markdown",
   "metadata": {},
   "source": [
    "Высокий уровень продаж показывали PS3 и X360, но после 2013 года пошли на убыль. В тот же год запускаются и набирают популярность их преемники - PS4 и XOne. Остальные платформы последних лет стабильно держатся примерно на одном уровне."
   ]
  },
  {
   "cell_type": "code",
   "execution_count": 26,
   "metadata": {},
   "outputs": [
    {
     "data": {
      "image/png": "[encoded data removed]",
      "text/plain": [
       "<Figure size 1440x576 with 1 Axes>"
      ]
     },
     "metadata": {
      "needs_background": "light"
     },
     "output_type": "display_data"
    }
   ],
   "source": [
    "plt.figure(figsize = (20, 8))\n",
    "plt.ylim([0, 2])\n",
    "sns.boxplot(data = actual_data, x='platform', y='sum_sales');"
   ]
  },
  {
   "cell_type": "markdown",
   "metadata": {},
   "source": [
    "На графике видно, что к указанным ранее лидерам можно добавить еще платформы WiiU и Wii. "
   ]
  },
  {
   "cell_type": "markdown",
   "metadata": {},
   "source": [
    "### Зависимость продаж от отзывов"
   ]
  },
  {
   "cell_type": "markdown",
   "metadata": {},
   "source": [
    "Посмотрим, как влияют на уровень продаж отзывы пользователей и критиков на примере платформы X360."
   ]
  },
  {
   "cell_type": "code",
   "execution_count": 28,
   "metadata": {},
   "outputs": [],
   "source": [
    "actual_data_x360 = actual_data.query('platform==\"X360\"')"
   ]
  },
  {
   "cell_type": "code",
   "execution_count": 29,
   "metadata": {},
   "outputs": [
    {
     "data": {
      "image/png": "[encoded data removed]",
      "text/plain": [
       "<Figure size 1080x360 with 1 Axes>"
      ]
     },
     "metadata": {
      "needs_background": "light"
     },
     "output_type": "display_data"
    }
   ],
   "source": [
    "#построим график отношения продаж к оценке критиков\n",
    "actual_data_x360.plot(x='critic_score', y='sum_sales', kind='scatter', grid=True, figsize=(15, 5));"
   ]
  },
  {
   "cell_type": "code",
   "execution_count": 30,
   "metadata": {},
   "outputs": [
    {
     "data": {
      "text/plain": [
       "0.3605734888507336"
      ]
     },
     "execution_count": 30,
     "metadata": {},
     "output_type": "execute_result"
    }
   ],
   "source": [
    "#посмотрим корреляцию этих двух показателей\n",
    "actual_data_x360['critic_score'].corr(actual_data_x360['sum_sales'])"
   ]
  },
  {
   "cell_type": "code",
   "execution_count": 31,
   "metadata": {},
   "outputs": [
    {
     "data": {
      "image/png": "[encoded data removed]",
      "text/plain": [
       "<Figure size 1080x360 with 1 Axes>"
      ]
     },
     "metadata": {
      "needs_background": "light"
     },
     "output_type": "display_data"
    }
   ],
   "source": [
    "#построим график отношения продаж к оценке пользователей\n",
    "actual_data_x360.plot(x='user_score', y='sum_sales', kind='scatter', grid=True, figsize=(15, 5));"
   ]
  },
  {
   "cell_type": "code",
   "execution_count": 32,
   "metadata": {},
   "outputs": [
    {
     "data": {
      "text/plain": [
       "0.006163978646213326"
      ]
     },
     "execution_count": 32,
     "metadata": {},
     "output_type": "execute_result"
    }
   ],
   "source": [
    "#посмотрим корреляцию этих двух показателей\n",
    "actual_data_x360['user_score'].corr(actual_data_x360['sum_sales'])"
   ]
  },
  {
   "cell_type": "markdown",
   "metadata": {},
   "source": [
    "По графикам видно, что игры с более высоким рейтингом среди критиков и других пользователей продаются чаще. Стоит отметить, что оценке критиков доверяют больше - среди игр с оценкой меньше 70 баллов нет выбросов. А вот на отзывы других игроков покупатели не так сильно ориетируются - некоторые игры \"выстреливали\" и с рейтингом около 4 баллов по 10-бальной шкале.\n",
    "\n",
    "Корреляция в 0.36 в первом случае говорит о наличии слабой линейной связи между уровнем продаж и оценками критиков. В случае с оценками пользователей связь практически отсутствует."
   ]
  },
  {
   "cell_type": "markdown",
   "metadata": {},
   "source": [
    "Проверим эти выводы на продажах игр на других популярных платформах."
   ]
  },
  {
   "cell_type": "code",
   "execution_count": 33,
   "metadata": {},
   "outputs": [
    {
     "data": {
      "image/png": "[encoded data removed]",
      "text/plain": [
       "<Figure size 576x360 with 1 Axes>"
      ]
     },
     "metadata": {
      "needs_background": "light"
     },
     "output_type": "display_data"
    },
    {
     "data": {
      "image/png": "[encoded data removed]",
      "text/plain": [
       "<Figure size 576x360 with 1 Axes>"
      ]
     },
     "metadata": {
      "needs_background": "light"
     },
     "output_type": "display_data"
    },
    {
     "data": {
      "image/png": "[encoded data removed]",
      "text/plain": [
       "<Figure size 576x360 with 1 Axes>"
      ]
     },
     "metadata": {
      "needs_background": "light"
     },
     "output_type": "display_data"
    },
    {
     "data": {
      "image/png": "[encoded data removed]",
      "text/plain": [
       "<Figure size 576x360 with 1 Axes>"
      ]
     },
     "metadata": {
      "needs_background": "light"
     },
     "output_type": "display_data"
    },
    {
     "data": {
      "image/png": "[encoded data removed]",
      "text/plain": [
       "<Figure size 576x360 with 1 Axes>"
      ]
     },
     "metadata": {
      "needs_background": "light"
     },
     "output_type": "display_data"
    },
    {
     "data": {
      "image/png": "[encoded data removed]",
      "text/plain": [
       "<Figure size 576x360 with 1 Axes>"
      ]
     },
     "metadata": {
      "needs_background": "light"
     },
     "output_type": "display_data"
    },
    {
     "data": {
      "image/png": "[encoded data removed]",
      "text/plain": [
       "<Figure size 576x360 with 1 Axes>"
      ]
     },
     "metadata": {
      "needs_background": "light"
     },
     "output_type": "display_data"
    },
    {
     "data": {
      "image/png": "[encoded data removed]",
      "text/plain": [
       "<Figure size 576x360 with 1 Axes>"
      ]
     },
     "metadata": {
      "needs_background": "light"
     },
     "output_type": "display_data"
    },
    {
     "data": {
      "image/png": "[encoded data removed]",
      "text/plain": [
       "<Figure size 576x360 with 1 Axes>"
      ]
     },
     "metadata": {
      "needs_background": "light"
     },
     "output_type": "display_data"
    },
    {
     "data": {
      "image/png": "[encoded data removed]",
      "text/plain": [
       "<Figure size 576x360 with 1 Axes>"
      ]
     },
     "metadata": {
      "needs_background": "light"
     },
     "output_type": "display_data"
    }
   ],
   "source": [
    "top_platforms = ['PS3', 'PS4', 'XOne', 'WiiU', 'Wii']\n",
    "for p in top_platforms:\n",
    "    actual_data_p = actual_data.query('platform==@p')\n",
    "    actual_data_p.plot(x='user_score', y='sum_sales', kind='scatter', grid=True, figsize=(8, 5), title=p);\n",
    "    actual_data_p.plot(x='critic_score', y='sum_sales', kind='scatter', grid=True, figsize=(8, 5), title=p);"
   ]
  },
  {
   "cell_type": "code",
   "execution_count": 34,
   "metadata": {},
   "outputs": [
    {
     "name": "stdout",
     "output_type": "stream",
     "text": [
      "Коэффициент корреляции продаж и оценки критиков для PS3 0.3314972592629587\n",
      "Коэффициент корреляции продаж и оценки пользователей для PS3 -0.005143522887113828\n",
      "\n",
      "Коэффициент корреляции продаж и оценки критиков для PS4 0.40656790206178095\n",
      "Коэффициент корреляции продаж и оценки пользователей для PS4 -0.031957110204556376\n",
      "\n",
      "Коэффициент корреляции продаж и оценки критиков для XOne 0.4169983280084017\n",
      "Коэффициент корреляции продаж и оценки пользователей для XOne -0.06892505328279414\n",
      "\n",
      "Коэффициент корреляции продаж и оценки критиков для WiiU 0.34837976012017485\n",
      "Коэффициент корреляции продаж и оценки пользователей для WiiU 0.4002190202148617\n",
      "\n",
      "Коэффициент корреляции продаж и оценки критиков для Wii -0.4243413011077494\n",
      "Коэффициент корреляции продаж и оценки пользователей для Wii 0.29619680007479526\n",
      "\n"
     ]
    }
   ],
   "source": [
    "top_platforms = ['PS3', 'PS4', 'XOne', 'WiiU', 'Wii']\n",
    "for p in top_platforms:\n",
    "    actual_data_p = actual_data.query('platform==@p')\n",
    "    print('Коэффициент корреляции продаж и оценки критиков для', p, actual_data_p['critic_score'].corr(actual_data_p['sum_sales']))\n",
    "    print('Коэффициент корреляции продаж и оценки пользователей для', p, actual_data_p['user_score'].corr(actual_data_p['sum_sales']))\n",
    "    print('')"
   ]
  },
  {
   "cell_type": "markdown",
   "metadata": {},
   "source": [
    "Выводы подтвердились. Высокий уровень продаж показывают игры с хорошими оценками. Пользователи \"Wii\" и \"WiiU\" больше доверяют оценкам других игроков, чем фанаты PlayStation и Xbox - те готовы покупать игры даже со средними отзывами."
   ]
  },
  {
   "cell_type": "markdown",
   "metadata": {},
   "source": [
    "### Жанры игры"
   ]
  },
  {
   "cell_type": "markdown",
   "metadata": {},
   "source": [
    "Посмотрим на данные с точки зрения жанра игры."
   ]
  },
  {
   "cell_type": "code",
   "execution_count": 35,
   "metadata": {},
   "outputs": [
    {
     "data": {
      "text/plain": [
       "Action          1031\n",
       "Role-Playing     370\n",
       "Adventure        302\n",
       "Sports           268\n",
       "Shooter          235\n",
       "Misc             192\n",
       "Racing           115\n",
       "Fighting         109\n",
       "Platform          85\n",
       "Simulation        80\n",
       "Strategy          71\n",
       "Puzzle            28\n",
       "Name: genre, dtype: int64"
      ]
     },
     "execution_count": 35,
     "metadata": {},
     "output_type": "execute_result"
    }
   ],
   "source": [
    "#выведем количество выпускаемых игр в разных жанрах\n",
    "actual_data['genre'].value_counts()"
   ]
  },
  {
   "cell_type": "markdown",
   "metadata": {},
   "source": [
    "Лидируют с большим отрывом боевики, на втором месте - РПГ, на третьем - приключенческие игры.\n",
    "\n",
    "Посмотрим, совпадает ли это распределение с продажами игр по жанрам. Изучим медианное значение в каждом жанре."
   ]
  },
  {
   "cell_type": "code",
   "execution_count": 36,
   "metadata": {},
   "outputs": [
    {
     "data": {
      "text/plain": [
       "genre\n",
       "Shooter         0.440\n",
       "Sports          0.240\n",
       "Platform        0.210\n",
       "Role-Playing    0.140\n",
       "Racing          0.140\n",
       "Fighting        0.130\n",
       "Action          0.120\n",
       "Misc            0.120\n",
       "Simulation      0.120\n",
       "Strategy        0.080\n",
       "Puzzle          0.045\n",
       "Adventure       0.030\n",
       "Name: sum_sales, dtype: float64"
      ]
     },
     "execution_count": 36,
     "metadata": {},
     "output_type": "execute_result"
    }
   ],
   "source": [
    "actual_data.groupby('genre')['sum_sales'].median().sort_values(ascending=False)"
   ]
  },
  {
   "cell_type": "markdown",
   "metadata": {},
   "source": [
    "Наибольшим количеством копий продаются шутеры, за ними в тройку лидеров входят платформеры и спортивные симуляторы. Что касается экшенов - их хоть и выпускают значительно больше, чем любых других игр, но по отдельности они приносят совсем небольшой доход."
   ]
  },
  {
   "cell_type": "markdown",
   "metadata": {},
   "source": [
    "<a id=\"portrait\"></a>\n",
    "## Портрет пользователя по регионам"
   ]
  },
  {
   "cell_type": "markdown",
   "metadata": {},
   "source": [
    "Составим на основе данных портрет пользователя для трех регионов - Северной Америки, Европы и Японии."
   ]
  },
  {
   "cell_type": "markdown",
   "metadata": {},
   "source": [
    "### Топовые платформы"
   ]
  },
  {
   "cell_type": "markdown",
   "metadata": {},
   "source": [
    "В первую очередь посмотрим на топ-5 платформ в каждом регионе."
   ]
  },
  {
   "cell_type": "code",
   "execution_count": 37,
   "metadata": {},
   "outputs": [],
   "source": [
    "na_top = pd.DataFrame(actual_data.groupby('platform')['na_sales'].sum().sort_values(ascending=False).head())\n",
    "na_top.columns = ['Северная Америка']"
   ]
  },
  {
   "cell_type": "code",
   "execution_count": 38,
   "metadata": {},
   "outputs": [],
   "source": [
    "eu_top = pd.DataFrame(actual_data.groupby('platform')['eu_sales'].sum().sort_values(ascending=False).head())\n",
    "eu_top.columns = ['Европа']"
   ]
  },
  {
   "cell_type": "code",
   "execution_count": 39,
   "metadata": {},
   "outputs": [],
   "source": [
    "jp_top = pd.DataFrame(actual_data.groupby('platform')['jp_sales'].sum().sort_values(ascending=False).head())\n",
    "jp_top.columns = ['Япония']"
   ]
  },
  {
   "cell_type": "code",
   "execution_count": 40,
   "metadata": {},
   "outputs": [
    {
     "data": {
      "text/html": [
       "<div>\n",
       "<style scoped>\n",
       "    .dataframe tbody tr th:only-of-type {\n",
       "        vertical-align: middle;\n",
       "    }\n",
       "\n",
       "    .dataframe tbody tr th {\n",
       "        vertical-align: top;\n",
       "    }\n",
       "\n",
       "    .dataframe thead th {\n",
       "        text-align: right;\n",
       "    }\n",
       "</style>\n",
       "<table border=\"1\" class=\"dataframe\">\n",
       "  <thead>\n",
       "    <tr style=\"text-align: right;\">\n",
       "      <th></th>\n",
       "      <th>Северная Америка</th>\n",
       "      <th>Европа</th>\n",
       "      <th>Япония</th>\n",
       "    </tr>\n",
       "    <tr>\n",
       "      <th>platform</th>\n",
       "      <th></th>\n",
       "      <th></th>\n",
       "      <th></th>\n",
       "    </tr>\n",
       "  </thead>\n",
       "  <tbody>\n",
       "    <tr>\n",
       "      <th>X360</th>\n",
       "      <td>140.05</td>\n",
       "      <td>74.52</td>\n",
       "      <td>NaN</td>\n",
       "    </tr>\n",
       "    <tr>\n",
       "      <th>PS4</th>\n",
       "      <td>108.74</td>\n",
       "      <td>141.09</td>\n",
       "      <td>15.96</td>\n",
       "    </tr>\n",
       "    <tr>\n",
       "      <th>PS3</th>\n",
       "      <td>103.38</td>\n",
       "      <td>106.86</td>\n",
       "      <td>35.29</td>\n",
       "    </tr>\n",
       "    <tr>\n",
       "      <th>XOne</th>\n",
       "      <td>93.12</td>\n",
       "      <td>51.59</td>\n",
       "      <td>NaN</td>\n",
       "    </tr>\n",
       "    <tr>\n",
       "      <th>3DS</th>\n",
       "      <td>55.31</td>\n",
       "      <td>42.64</td>\n",
       "      <td>87.79</td>\n",
       "    </tr>\n",
       "    <tr>\n",
       "      <th>PSV</th>\n",
       "      <td>NaN</td>\n",
       "      <td>NaN</td>\n",
       "      <td>21.04</td>\n",
       "    </tr>\n",
       "    <tr>\n",
       "      <th>WiiU</th>\n",
       "      <td>NaN</td>\n",
       "      <td>NaN</td>\n",
       "      <td>13.01</td>\n",
       "    </tr>\n",
       "  </tbody>\n",
       "</table>\n",
       "</div>"
      ],
      "text/plain": [
       "          Северная Америка  Европа  Япония\n",
       "platform                                  \n",
       "X360                140.05   74.52     NaN\n",
       "PS4                 108.74  141.09   15.96\n",
       "PS3                 103.38  106.86   35.29\n",
       "XOne                 93.12   51.59     NaN\n",
       "3DS                  55.31   42.64   87.79\n",
       "PSV                    NaN     NaN   21.04\n",
       "WiiU                   NaN     NaN   13.01"
      ]
     },
     "execution_count": 40,
     "metadata": {},
     "output_type": "execute_result"
    }
   ],
   "source": [
    "top_region_platforms = na_top.join([eu_top, jp_top], how='outer')\n",
    "top_region_platforms"
   ]
  },
  {
   "cell_type": "markdown",
   "metadata": {},
   "source": [
    "Топ платформ в Европе и Северной Америке схожи за одним исключением - в Европе вместо XOne в пятерку входит PC. В Америке максимальную прибыль приносит родная консоль Xbox, в то время как европейцы отдают предпочтение японской PlayStation.\n",
    "\n",
    "Интересно распределение платформ в Японии - значительно отличается от других регионов. Здесь более популярными являются портативные консоли. Также надо отметить, что в топ-5 платформ в Японии вошли только консоли местных корпораций - Sony и Nintendo. "
   ]
  },
  {
   "cell_type": "markdown",
   "metadata": {},
   "source": [
    "### Топовые жанры"
   ]
  },
  {
   "cell_type": "markdown",
   "metadata": {},
   "source": [
    "Теперь посмотрим, какие жанры популярны в разных регионах."
   ]
  },
  {
   "cell_type": "code",
   "execution_count": 43,
   "metadata": {},
   "outputs": [],
   "source": [
    "na_genre = pd.DataFrame(actual_data.groupby('genre')['na_sales'].sum().sort_values(ascending=False).head())\n",
    "na_genre.columns = ['Северная Америка']"
   ]
  },
  {
   "cell_type": "code",
   "execution_count": 44,
   "metadata": {},
   "outputs": [],
   "source": [
    "eu_genre = pd.DataFrame(actual_data.groupby('genre')['eu_sales'].sum().sort_values(ascending=False).head())\n",
    "eu_genre.columns = ['Европа']"
   ]
  },
  {
   "cell_type": "code",
   "execution_count": 45,
   "metadata": {},
   "outputs": [],
   "source": [
    "jp_genre = pd.DataFrame(actual_data.groupby('genre')['jp_sales'].sum().sort_values(ascending=False).head())\n",
    "jp_genre.columns = ['Япония']"
   ]
  },
  {
   "cell_type": "code",
   "execution_count": 46,
   "metadata": {},
   "outputs": [
    {
     "data": {
      "text/html": [
       "<div>\n",
       "<style scoped>\n",
       "    .dataframe tbody tr th:only-of-type {\n",
       "        vertical-align: middle;\n",
       "    }\n",
       "\n",
       "    .dataframe tbody tr th {\n",
       "        vertical-align: top;\n",
       "    }\n",
       "\n",
       "    .dataframe thead th {\n",
       "        text-align: right;\n",
       "    }\n",
       "</style>\n",
       "<table border=\"1\" class=\"dataframe\">\n",
       "  <thead>\n",
       "    <tr style=\"text-align: right;\">\n",
       "      <th></th>\n",
       "      <th>Северная Америка</th>\n",
       "      <th>Европа</th>\n",
       "      <th>Япония</th>\n",
       "    </tr>\n",
       "    <tr>\n",
       "      <th>genre</th>\n",
       "      <th></th>\n",
       "      <th></th>\n",
       "      <th></th>\n",
       "    </tr>\n",
       "  </thead>\n",
       "  <tbody>\n",
       "    <tr>\n",
       "      <th>Action</th>\n",
       "      <td>177.84</td>\n",
       "      <td>159.34</td>\n",
       "      <td>52.80</td>\n",
       "    </tr>\n",
       "    <tr>\n",
       "      <th>Shooter</th>\n",
       "      <td>144.77</td>\n",
       "      <td>113.47</td>\n",
       "      <td>NaN</td>\n",
       "    </tr>\n",
       "    <tr>\n",
       "      <th>Sports</th>\n",
       "      <td>81.53</td>\n",
       "      <td>69.09</td>\n",
       "      <td>NaN</td>\n",
       "    </tr>\n",
       "    <tr>\n",
       "      <th>Role-Playing</th>\n",
       "      <td>64.00</td>\n",
       "      <td>48.53</td>\n",
       "      <td>65.44</td>\n",
       "    </tr>\n",
       "    <tr>\n",
       "      <th>Misc</th>\n",
       "      <td>38.19</td>\n",
       "      <td>NaN</td>\n",
       "      <td>12.86</td>\n",
       "    </tr>\n",
       "    <tr>\n",
       "      <th>Racing</th>\n",
       "      <td>NaN</td>\n",
       "      <td>27.29</td>\n",
       "      <td>NaN</td>\n",
       "    </tr>\n",
       "    <tr>\n",
       "      <th>Simulation</th>\n",
       "      <td>NaN</td>\n",
       "      <td>NaN</td>\n",
       "      <td>10.41</td>\n",
       "    </tr>\n",
       "    <tr>\n",
       "      <th>Fighting</th>\n",
       "      <td>NaN</td>\n",
       "      <td>NaN</td>\n",
       "      <td>9.44</td>\n",
       "    </tr>\n",
       "  </tbody>\n",
       "</table>\n",
       "</div>"
      ],
      "text/plain": [
       "              Северная Америка  Европа  Япония\n",
       "genre                                         \n",
       "Action                  177.84  159.34   52.80\n",
       "Shooter                 144.77  113.47     NaN\n",
       "Sports                   81.53   69.09     NaN\n",
       "Role-Playing             64.00   48.53   65.44\n",
       "Misc                     38.19     NaN   12.86\n",
       "Racing                     NaN   27.29     NaN\n",
       "Simulation                 NaN     NaN   10.41\n",
       "Fighting                   NaN     NaN    9.44"
      ]
     },
     "execution_count": 46,
     "metadata": {},
     "output_type": "execute_result"
    }
   ],
   "source": [
    "top_region_genres = na_genre.join([eu_genre, jp_genre], how='outer')\n",
    "top_region_genres"
   ]
  },
  {
   "cell_type": "markdown",
   "metadata": {},
   "source": [
    "Северная Америка и Европа имеют практически одинаковые предпочтения в играх, чего не сказать о японцах. Отличия в культуре и менталитете сказываются и на игровых пристрастиях - здесь на первое место вышли ролевые игры, а также вошли в топ симуляторы и файтинги."
   ]
  },
  {
   "cell_type": "markdown",
   "metadata": {},
   "source": [
    "### Влияние рейтинга ESRB"
   ]
  },
  {
   "cell_type": "markdown",
   "metadata": {},
   "source": [
    "Проверим, влияет ли наличие рейтинга ESRB на продажи игр."
   ]
  },
  {
   "cell_type": "code",
   "execution_count": 47,
   "metadata": {},
   "outputs": [],
   "source": [
    "na_rating = pd.DataFrame(actual_data.groupby('rating')['na_sales'].sum().sort_values(ascending=False))\n",
    "na_rating.columns = ['Северная Америка']"
   ]
  },
  {
   "cell_type": "code",
   "execution_count": 48,
   "metadata": {},
   "outputs": [],
   "source": [
    "eu_rating = pd.DataFrame(actual_data.groupby('rating')['eu_sales'].sum().sort_values(ascending=False))\n",
    "eu_rating.columns = ['Европа']"
   ]
  },
  {
   "cell_type": "code",
   "execution_count": 49,
   "metadata": {},
   "outputs": [],
   "source": [
    "jp_rating = pd.DataFrame(actual_data.groupby('rating')['jp_sales'].sum().sort_values(ascending=False))\n",
    "jp_rating.columns = ['Япония']"
   ]
  },
  {
   "cell_type": "code",
   "execution_count": 50,
   "metadata": {},
   "outputs": [
    {
     "data": {
      "text/html": [
       "<div>\n",
       "<style scoped>\n",
       "    .dataframe tbody tr th:only-of-type {\n",
       "        vertical-align: middle;\n",
       "    }\n",
       "\n",
       "    .dataframe tbody tr th {\n",
       "        vertical-align: top;\n",
       "    }\n",
       "\n",
       "    .dataframe thead th {\n",
       "        text-align: right;\n",
       "    }\n",
       "</style>\n",
       "<table border=\"1\" class=\"dataframe\">\n",
       "  <thead>\n",
       "    <tr style=\"text-align: right;\">\n",
       "      <th></th>\n",
       "      <th>Северная Америка</th>\n",
       "      <th>Европа</th>\n",
       "      <th>Япония</th>\n",
       "    </tr>\n",
       "    <tr>\n",
       "      <th>rating</th>\n",
       "      <th></th>\n",
       "      <th></th>\n",
       "      <th></th>\n",
       "    </tr>\n",
       "  </thead>\n",
       "  <tbody>\n",
       "    <tr>\n",
       "      <th>M</th>\n",
       "      <td>231.57</td>\n",
       "      <td>193.96</td>\n",
       "      <td>21.20</td>\n",
       "    </tr>\n",
       "    <tr>\n",
       "      <th>E</th>\n",
       "      <td>114.37</td>\n",
       "      <td>113.03</td>\n",
       "      <td>28.33</td>\n",
       "    </tr>\n",
       "    <tr>\n",
       "      <th>Unknown</th>\n",
       "      <td>103.31</td>\n",
       "      <td>91.50</td>\n",
       "      <td>108.84</td>\n",
       "    </tr>\n",
       "    <tr>\n",
       "      <th>E10+</th>\n",
       "      <td>75.70</td>\n",
       "      <td>55.37</td>\n",
       "      <td>8.19</td>\n",
       "    </tr>\n",
       "    <tr>\n",
       "      <th>T</th>\n",
       "      <td>66.02</td>\n",
       "      <td>52.96</td>\n",
       "      <td>26.02</td>\n",
       "    </tr>\n",
       "  </tbody>\n",
       "</table>\n",
       "</div>"
      ],
      "text/plain": [
       "         Северная Америка  Европа  Япония\n",
       "rating                                   \n",
       "M                  231.57  193.96   21.20\n",
       "E                  114.37  113.03   28.33\n",
       "Unknown            103.31   91.50  108.84\n",
       "E10+                75.70   55.37    8.19\n",
       "T                   66.02   52.96   26.02"
      ]
     },
     "execution_count": 50,
     "metadata": {},
     "output_type": "execute_result"
    }
   ],
   "source": [
    "total_rating = na_rating.join([eu_rating, jp_rating], how='outer')\n",
    "total_rating"
   ]
  },
  {
   "cell_type": "markdown",
   "metadata": {},
   "source": [
    "В Америке и Европе больше всего продано игр с рейтингом M - Mature (для лиц старше 17 лет), на втором месте игры с отметкой E - Everyone (подходящие для всех). Напомним, что Unknown - это заглушка для пропущенных значений. Игры без рейтинга входят в тройку лидеров по продажам, а в Японии и вовсе стоят на первом месте. Но это не значит, что японцы отдают предпочтение играм без указанной возврастной категории. Скорее всего внутри страны действует своя система оценки, на которую и ориентируются покупатели."
   ]
  },
  {
   "cell_type": "markdown",
   "metadata": {},
   "source": [
    "<a id=\"hypotheses\"></a>\n",
    "## Проверка гипотез"
   ]
  },
  {
   "cell_type": "markdown",
   "metadata": {},
   "source": [
    "### Гипотеза 1"
   ]
  },
  {
   "cell_type": "markdown",
   "metadata": {},
   "source": [
    "Проверим следующую гипотезу:\n",
    "\n",
    "Средние пользовательские рейтинги платформ Xbox One и PC одинаковые.\n",
    "\n",
    "Для проверки гипотезы о равенстве среднего двух генеральных совокупностей по взятым из них выборкам используем специальны t-тест."
   ]
  },
  {
   "cell_type": "code",
   "execution_count": 51,
   "metadata": {},
   "outputs": [
    {
     "name": "stdout",
     "output_type": "stream",
     "text": [
      "p-значение: 0.5535080500643661\n",
      "Не получилось отвергнуть нулевую гипотезу\n"
     ]
    }
   ],
   "source": [
    "#нулевая гипотеза - Средние пользовательские рейтинги платформ Xbox One и PC равны\n",
    "#альтернативная гипотеза - Средние пользовательские рейтинги платформ Xbox One и PC не равны\n",
    "\n",
    "xbox_rate = actual_data.query('platform==\"XOne\" and user_score>=0')['user_score']\n",
    "pc_rate = actual_data.query('platform==\"PC\" and user_score>=0')['user_score']\n",
    "alpha = 0.5\n",
    "results = st.ttest_ind(xbox_rate, pc_rate)\n",
    "print('p-значение:', results.pvalue)\n",
    "\n",
    "if results.pvalue < alpha:\n",
    "    print(\"Отвергаем нулевую гипотезу\")\n",
    "else:\n",
    "    print(\"Не получилось отвергнуть нулевую гипотезу\") "
   ]
  },
  {
   "cell_type": "markdown",
   "metadata": {},
   "source": [
    "Результат теста показал, что действительно пользователи примено одинаково оценивают игры на платформе Xbox One и на PC. Р-значение 99% говорит о практически полном совпадении рейтингов."
   ]
  },
  {
   "cell_type": "markdown",
   "metadata": {},
   "source": [
    "### Гипотеза 2"
   ]
  },
  {
   "cell_type": "markdown",
   "metadata": {},
   "source": [
    "Проверим следующую гипотезу:\n",
    "\n",
    "Средние пользовательские рейтинги жанров Action и Sports разные.\n",
    "\n",
    "Здесь также используем t-тест."
   ]
  },
  {
   "cell_type": "code",
   "execution_count": 52,
   "metadata": {},
   "outputs": [
    {
     "name": "stdout",
     "output_type": "stream",
     "text": [
      "p-значение: 3.7163089460934874e-26\n",
      "Отвергаем нулевую гипотезу\n"
     ]
    }
   ],
   "source": [
    "#нулевая гипотеза - Средние пользовательские рейтинги жанров Action и Sports равны\n",
    "#альтернативная гипотеза - Средние пользовательские рейтинги жанров Action и Sports не равны\n",
    "\n",
    "action_rate = actual_data.query('genre==\"Action\" and user_score>=0')['user_score']\n",
    "sports_rate = actual_data.query('genre==\"Sports\" and user_score>=0')['user_score']\n",
    "alpha = 0.5\n",
    "results = st.ttest_ind(action_rate, sports_rate)\n",
    "print('p-значение:', results.pvalue)\n",
    "\n",
    "if results.pvalue < alpha:\n",
    "    print(\"Отвергаем нулевую гипотезу\")\n",
    "else:\n",
    "    print(\"Не получилось отвергнуть нулевую гипотезу\") "
   ]
  },
  {
   "cell_type": "markdown",
   "metadata": {},
   "source": [
    "Нулевая гипотеза отвергнута по итогам теста. Это означает, что вступает в силу альтернативная гипотеза, подтверждающая наш изначальный вопрос - средние пользовательские рейтинги жанров Action и Sports разные."
   ]
  },
  {
   "cell_type": "markdown",
   "metadata": {},
   "source": [
    "## Общий вывод"
   ]
  },
  {
   "cell_type": "markdown",
   "metadata": {},
   "source": [
    "**В ходе исследования** были изучены 16715 записей о продажах игр до 2016 года, оценках пользователей и экспертов, жанрах и платформах. Были исследованы определяющие успешность игры закономерности.\n",
    "\n",
    "**На этапе предоработки** названия столбцов и типы данных были приведены к общепринятым и корректным. Были обнаружены пропуски в столбцах с оценками критиков и пользователей, а также с рейтингом ESRB. Пропущенный рейтинг был заменен заглушкой \"Unknown\". Отсутствующий год был исправлен на \"1900\".\n",
    "\n",
    "Во время **исследовательского анализа** были изучены топовые платформы, жанры игр, зависимость продаж от оценок. На этапе выбора актуального для анализа временного периода были сделаны **следующие выводы**:\n",
    "- После долгого роста и достижения пика в 2008-2009 годах производство игр пошло на убыль. Скорее всего, причиной тому стал экономический кризис.\n",
    "- Лидерами продаж за все года являются DS и Wii от Nintendo, 4 версии PS и X360.\n",
    "\n",
    "**Для дальнейшего анализа были взяты данные за 2012-2016 гг.** В этот период:\n",
    "- Высокий уровень продаж показывали PS3 и X360, после 2013 года уступив место следующим версиям - PS4 и XOne.\n",
    "- Пользователи полагаются на оценки критиков при выборе игры, и реже доверяют оценкам других игроков.\n",
    "- Больше всего выпускается игр в жанре экшен, однако, среди самых продаваемых лидируют шутеры.\n",
    "\n",
    "На основе данных были составлены **портреты пользователей** для следующих регионов: Северная Америка, Европа и Япония. Изучались такие параметры: выбор платформы, выбор жанра, влияние рейтинга ESRB. **Американцы и европейцы за небольшими исключениями имеют схожие предпочтения в платформах и жанрах. Заметные отличия присутствуют у японской аудитории** - здесь чаще выбирают портативные консоли отечественного производства. Культурные отличия влияют и на выбор любимого жанра - в Японии лидирует РПГ, в то время как два других региона предпочитают шутеры. Игры без рейтинга входят в тройку лидеров по продажам, а в Японии и вовсе стоят на первом месте. Скорее всего внутри страны действует своя система оценки, на которую и ориентируются покупатели.\n",
    "\n",
    "Было проверено **две гипотезы**. Результаты тестов показали следующее:\n",
    "- пользователи примено одинаково оценивают игры на платформе Xbox One и на PC\n",
    "- средние пользовательские рейтинги жанров Action и Sports разные."
   ]
  }
 ],
 "metadata": {
  "ExecuteTimeLog": [
   {
    "duration": 804,
    "start_time": "2022-09-11T21:33:32.519Z"
   },
   {
    "duration": 91,
    "start_time": "2022-09-11T21:34:19.023Z"
   },
   {
    "duration": 11,
    "start_time": "2022-09-11T21:34:44.631Z"
   },
   {
    "duration": 51,
    "start_time": "2022-09-11T21:34:56.033Z"
   },
   {
    "duration": 20,
    "start_time": "2022-09-11T21:34:59.154Z"
   },
   {
    "duration": 16,
    "start_time": "2022-09-11T21:35:16.067Z"
   },
   {
    "duration": 16,
    "start_time": "2022-09-11T21:35:47.330Z"
   },
   {
    "duration": 1067,
    "start_time": "2022-09-11T21:40:17.010Z"
   },
   {
    "duration": 891,
    "start_time": "2022-09-11T21:40:46.726Z"
   },
   {
    "duration": 871,
    "start_time": "2022-09-11T21:41:11.188Z"
   },
   {
    "duration": 856,
    "start_time": "2022-09-11T21:41:22.569Z"
   },
   {
    "duration": 4,
    "start_time": "2022-09-11T21:42:06.357Z"
   },
   {
    "duration": 17,
    "start_time": "2022-09-11T21:42:48.883Z"
   },
   {
    "duration": 14,
    "start_time": "2022-09-11T21:43:05.575Z"
   },
   {
    "duration": 992,
    "start_time": "2022-09-11T21:43:25.995Z"
   },
   {
    "duration": 82,
    "start_time": "2022-09-11T21:51:48.415Z"
   },
   {
    "duration": 10,
    "start_time": "2022-09-11T21:51:56.201Z"
   },
   {
    "duration": 10,
    "start_time": "2022-09-11T21:58:58.960Z"
   },
   {
    "duration": 3,
    "start_time": "2022-09-11T21:59:10.269Z"
   },
   {
    "duration": 8,
    "start_time": "2022-09-11T21:59:16.519Z"
   },
   {
    "duration": 618,
    "start_time": "2022-09-11T21:59:42.751Z"
   },
   {
    "duration": 56,
    "start_time": "2022-09-11T21:59:43.371Z"
   },
   {
    "duration": 19,
    "start_time": "2022-09-11T21:59:43.429Z"
   },
   {
    "duration": 15,
    "start_time": "2022-09-11T21:59:43.449Z"
   },
   {
    "duration": 925,
    "start_time": "2022-09-11T21:59:43.466Z"
   },
   {
    "duration": 71,
    "start_time": "2022-09-11T21:59:44.393Z"
   },
   {
    "duration": 730,
    "start_time": "2022-09-12T20:55:28.162Z"
   },
   {
    "duration": 90,
    "start_time": "2022-09-12T20:55:28.894Z"
   },
   {
    "duration": 21,
    "start_time": "2022-09-12T20:55:28.985Z"
   },
   {
    "duration": 14,
    "start_time": "2022-09-12T20:55:29.008Z"
   },
   {
    "duration": 859,
    "start_time": "2022-09-12T20:55:29.023Z"
   },
   {
    "duration": 86,
    "start_time": "2022-09-12T20:55:29.884Z"
   },
   {
    "duration": 7,
    "start_time": "2022-09-12T20:56:14.253Z"
   },
   {
    "duration": 7,
    "start_time": "2022-09-12T21:02:00.464Z"
   },
   {
    "duration": 7,
    "start_time": "2022-09-12T21:02:11.473Z"
   },
   {
    "duration": 8,
    "start_time": "2022-09-12T21:02:18.303Z"
   },
   {
    "duration": 3,
    "start_time": "2022-09-12T21:03:18.011Z"
   },
   {
    "duration": 14,
    "start_time": "2022-09-12T21:03:32.518Z"
   },
   {
    "duration": 6,
    "start_time": "2022-09-12T21:10:44.701Z"
   },
   {
    "duration": 6,
    "start_time": "2022-09-12T21:11:10.950Z"
   },
   {
    "duration": 9,
    "start_time": "2022-09-12T21:11:17.196Z"
   },
   {
    "duration": 13,
    "start_time": "2022-09-12T21:11:24.698Z"
   },
   {
    "duration": 11,
    "start_time": "2022-09-12T21:13:01.360Z"
   },
   {
    "duration": 13,
    "start_time": "2022-09-12T21:13:06.096Z"
   },
   {
    "duration": 12,
    "start_time": "2022-09-12T21:13:10.226Z"
   },
   {
    "duration": 11,
    "start_time": "2022-09-12T21:13:22.260Z"
   },
   {
    "duration": 5,
    "start_time": "2022-09-12T21:36:52.578Z"
   },
   {
    "duration": 9,
    "start_time": "2022-09-12T22:06:28.610Z"
   },
   {
    "duration": 14,
    "start_time": "2022-09-12T22:06:40.237Z"
   },
   {
    "duration": 5,
    "start_time": "2022-09-12T22:13:42.676Z"
   },
   {
    "duration": 5,
    "start_time": "2022-09-12T22:13:49.998Z"
   },
   {
    "duration": 6,
    "start_time": "2022-09-12T22:14:40.545Z"
   },
   {
    "duration": 5,
    "start_time": "2022-09-12T22:14:54.733Z"
   },
   {
    "duration": 3,
    "start_time": "2022-09-12T22:15:26.050Z"
   },
   {
    "duration": 70,
    "start_time": "2022-09-12T22:42:20.229Z"
   },
   {
    "duration": 9,
    "start_time": "2022-09-12T22:42:45.474Z"
   },
   {
    "duration": 3176,
    "start_time": "2022-09-12T22:43:53.128Z"
   },
   {
    "duration": 785,
    "start_time": "2022-09-12T22:44:28.354Z"
   },
   {
    "duration": 901,
    "start_time": "2022-09-12T22:46:54.793Z"
   },
   {
    "duration": 779,
    "start_time": "2022-09-12T22:48:32.546Z"
   },
   {
    "duration": 59,
    "start_time": "2022-09-12T23:08:37.194Z"
   },
   {
    "duration": 8,
    "start_time": "2022-09-12T23:08:41.108Z"
   },
   {
    "duration": 8,
    "start_time": "2022-09-12T23:08:55.759Z"
   },
   {
    "duration": 4,
    "start_time": "2022-09-12T23:21:46.298Z"
   },
   {
    "duration": 4,
    "start_time": "2022-09-12T23:22:46.011Z"
   },
   {
    "duration": 53,
    "start_time": "2022-09-12T23:32:45.403Z"
   },
   {
    "duration": 601,
    "start_time": "2022-09-12T23:39:49.176Z"
   },
   {
    "duration": 52,
    "start_time": "2022-09-12T23:39:49.779Z"
   },
   {
    "duration": 18,
    "start_time": "2022-09-12T23:39:49.832Z"
   },
   {
    "duration": 13,
    "start_time": "2022-09-12T23:39:49.852Z"
   },
   {
    "duration": 896,
    "start_time": "2022-09-12T23:39:49.866Z"
   },
   {
    "duration": 3,
    "start_time": "2022-09-12T23:39:50.764Z"
   },
   {
    "duration": 17,
    "start_time": "2022-09-12T23:39:50.768Z"
   },
   {
    "duration": 6,
    "start_time": "2022-09-12T23:39:50.787Z"
   },
   {
    "duration": 5,
    "start_time": "2022-09-12T23:39:50.809Z"
   },
   {
    "duration": 6,
    "start_time": "2022-09-12T23:39:50.816Z"
   },
   {
    "duration": 20,
    "start_time": "2022-09-12T23:39:50.823Z"
   },
   {
    "duration": 2411,
    "start_time": "2022-09-12T23:39:50.845Z"
   },
   {
    "duration": 872,
    "start_time": "2022-09-12T23:39:53.257Z"
   },
   {
    "duration": 8,
    "start_time": "2022-09-12T23:39:54.130Z"
   },
   {
    "duration": 9,
    "start_time": "2022-09-12T23:39:54.139Z"
   },
   {
    "duration": 17,
    "start_time": "2022-09-12T23:39:54.149Z"
   },
   {
    "duration": 739,
    "start_time": "2022-09-13T07:18:34.269Z"
   },
   {
    "duration": 98,
    "start_time": "2022-09-13T07:18:35.009Z"
   },
   {
    "duration": 19,
    "start_time": "2022-09-13T07:18:35.108Z"
   },
   {
    "duration": 12,
    "start_time": "2022-09-13T07:18:35.129Z"
   },
   {
    "duration": 864,
    "start_time": "2022-09-13T07:18:35.143Z"
   },
   {
    "duration": 3,
    "start_time": "2022-09-13T07:18:36.009Z"
   },
   {
    "duration": 30,
    "start_time": "2022-09-13T07:18:36.014Z"
   },
   {
    "duration": 17,
    "start_time": "2022-09-13T07:18:36.045Z"
   },
   {
    "duration": 13,
    "start_time": "2022-09-13T07:18:36.064Z"
   },
   {
    "duration": 20,
    "start_time": "2022-09-13T07:18:36.079Z"
   },
   {
    "duration": 17,
    "start_time": "2022-09-13T07:18:36.100Z"
   },
   {
    "duration": 3205,
    "start_time": "2022-09-13T07:18:36.118Z"
   },
   {
    "duration": 825,
    "start_time": "2022-09-13T07:18:39.325Z"
   },
   {
    "duration": 8,
    "start_time": "2022-09-13T07:18:40.151Z"
   },
   {
    "duration": 6,
    "start_time": "2022-09-13T07:18:40.161Z"
   },
   {
    "duration": 13,
    "start_time": "2022-09-13T07:18:40.168Z"
   },
   {
    "duration": 109,
    "start_time": "2022-09-13T07:21:11.417Z"
   },
   {
    "duration": 12,
    "start_time": "2022-09-13T07:21:35.370Z"
   },
   {
    "duration": 86,
    "start_time": "2022-09-13T07:24:20.285Z"
   },
   {
    "duration": 14,
    "start_time": "2022-09-13T07:24:26.584Z"
   },
   {
    "duration": 572,
    "start_time": "2022-09-13T07:24:42.656Z"
   },
   {
    "duration": 52,
    "start_time": "2022-09-13T07:24:43.230Z"
   },
   {
    "duration": 17,
    "start_time": "2022-09-13T07:24:43.284Z"
   },
   {
    "duration": 13,
    "start_time": "2022-09-13T07:24:43.303Z"
   },
   {
    "duration": 853,
    "start_time": "2022-09-13T07:24:43.318Z"
   },
   {
    "duration": 4,
    "start_time": "2022-09-13T07:24:44.173Z"
   },
   {
    "duration": 15,
    "start_time": "2022-09-13T07:24:44.179Z"
   },
   {
    "duration": 7,
    "start_time": "2022-09-13T07:24:44.208Z"
   },
   {
    "duration": 6,
    "start_time": "2022-09-13T07:24:44.216Z"
   },
   {
    "duration": 11,
    "start_time": "2022-09-13T07:24:44.225Z"
   },
   {
    "duration": 9,
    "start_time": "2022-09-13T07:24:44.237Z"
   },
   {
    "duration": 2411,
    "start_time": "2022-09-13T07:24:44.248Z"
   },
   {
    "duration": 879,
    "start_time": "2022-09-13T07:24:46.660Z"
   },
   {
    "duration": 8,
    "start_time": "2022-09-13T07:24:47.540Z"
   },
   {
    "duration": 32,
    "start_time": "2022-09-13T07:24:47.549Z"
   },
   {
    "duration": 30,
    "start_time": "2022-09-13T07:24:47.582Z"
   },
   {
    "duration": 102,
    "start_time": "2022-09-13T07:26:29.601Z"
   },
   {
    "duration": 8,
    "start_time": "2022-09-13T07:26:42.164Z"
   },
   {
    "duration": 10,
    "start_time": "2022-09-13T07:26:52.570Z"
   },
   {
    "duration": 10,
    "start_time": "2022-09-13T07:27:14.634Z"
   },
   {
    "duration": 9,
    "start_time": "2022-09-13T07:27:29.392Z"
   },
   {
    "duration": 9,
    "start_time": "2022-09-13T07:27:39.828Z"
   },
   {
    "duration": 5,
    "start_time": "2022-09-13T07:28:14.224Z"
   },
   {
    "duration": 5,
    "start_time": "2022-09-13T07:28:27.283Z"
   },
   {
    "duration": 6,
    "start_time": "2022-09-13T07:28:33.072Z"
   },
   {
    "duration": 6,
    "start_time": "2022-09-13T07:28:38.700Z"
   },
   {
    "duration": 7,
    "start_time": "2022-09-13T07:28:43.319Z"
   },
   {
    "duration": 5,
    "start_time": "2022-09-13T07:28:54.310Z"
   },
   {
    "duration": 10,
    "start_time": "2022-09-13T07:29:08.171Z"
   },
   {
    "duration": 10,
    "start_time": "2022-09-13T07:34:05.634Z"
   },
   {
    "duration": 7,
    "start_time": "2022-09-13T07:34:26.355Z"
   },
   {
    "duration": 11,
    "start_time": "2022-09-13T07:34:35.624Z"
   },
   {
    "duration": 4,
    "start_time": "2022-09-13T07:43:07.280Z"
   },
   {
    "duration": 6,
    "start_time": "2022-09-13T07:43:26.956Z"
   },
   {
    "duration": 6,
    "start_time": "2022-09-13T07:43:47.724Z"
   },
   {
    "duration": 10,
    "start_time": "2022-09-13T07:45:13.263Z"
   },
   {
    "duration": 6,
    "start_time": "2022-09-13T07:45:33.837Z"
   },
   {
    "duration": 5,
    "start_time": "2022-09-13T07:45:44.701Z"
   },
   {
    "duration": 8,
    "start_time": "2022-09-13T07:48:01.540Z"
   },
   {
    "duration": 9,
    "start_time": "2022-09-13T07:48:14.271Z"
   },
   {
    "duration": 13,
    "start_time": "2022-09-13T07:48:38.340Z"
   },
   {
    "duration": 8,
    "start_time": "2022-09-13T07:49:18.048Z"
   },
   {
    "duration": 5,
    "start_time": "2022-09-13T07:49:27.095Z"
   },
   {
    "duration": 7,
    "start_time": "2022-09-13T07:54:07.813Z"
   },
   {
    "duration": 10,
    "start_time": "2022-09-13T07:54:35.523Z"
   },
   {
    "duration": 8,
    "start_time": "2022-09-13T07:54:40.463Z"
   },
   {
    "duration": 3,
    "start_time": "2022-09-13T08:01:28.362Z"
   },
   {
    "duration": 9,
    "start_time": "2022-09-13T08:01:38.895Z"
   },
   {
    "duration": 3,
    "start_time": "2022-09-13T08:01:47.201Z"
   },
   {
    "duration": 7,
    "start_time": "2022-09-13T08:02:27.904Z"
   },
   {
    "duration": 13,
    "start_time": "2022-09-13T08:02:30.906Z"
   },
   {
    "duration": 640,
    "start_time": "2022-09-13T08:03:54.279Z"
   },
   {
    "duration": 50,
    "start_time": "2022-09-13T08:03:54.921Z"
   },
   {
    "duration": 18,
    "start_time": "2022-09-13T08:03:54.973Z"
   },
   {
    "duration": 11,
    "start_time": "2022-09-13T08:03:54.993Z"
   },
   {
    "duration": 840,
    "start_time": "2022-09-13T08:03:55.005Z"
   },
   {
    "duration": 3,
    "start_time": "2022-09-13T08:03:55.847Z"
   },
   {
    "duration": 44,
    "start_time": "2022-09-13T08:03:55.851Z"
   },
   {
    "duration": 4,
    "start_time": "2022-09-13T08:03:55.896Z"
   },
   {
    "duration": 5,
    "start_time": "2022-09-13T08:03:55.902Z"
   },
   {
    "duration": 8,
    "start_time": "2022-09-13T08:03:55.909Z"
   },
   {
    "duration": 2353,
    "start_time": "2022-09-13T08:03:55.919Z"
   },
   {
    "duration": 855,
    "start_time": "2022-09-13T08:03:58.273Z"
   },
   {
    "duration": 8,
    "start_time": "2022-09-13T08:03:59.129Z"
   },
   {
    "duration": 9,
    "start_time": "2022-09-13T08:03:59.139Z"
   },
   {
    "duration": 13,
    "start_time": "2022-09-13T08:03:59.149Z"
   },
   {
    "duration": 7,
    "start_time": "2022-09-13T08:03:59.164Z"
   },
   {
    "duration": 36,
    "start_time": "2022-09-13T08:03:59.173Z"
   },
   {
    "duration": 4,
    "start_time": "2022-09-13T08:03:59.211Z"
   },
   {
    "duration": 15,
    "start_time": "2022-09-13T08:03:59.217Z"
   },
   {
    "duration": 129,
    "start_time": "2022-09-13T08:04:33.957Z"
   },
   {
    "duration": 244,
    "start_time": "2022-09-13T08:04:58.096Z"
   },
   {
    "duration": 292,
    "start_time": "2022-09-13T08:05:04.265Z"
   },
   {
    "duration": 216,
    "start_time": "2022-09-13T08:05:14.712Z"
   },
   {
    "duration": 168,
    "start_time": "2022-09-13T08:05:21.300Z"
   },
   {
    "duration": 209,
    "start_time": "2022-09-13T08:05:46.106Z"
   },
   {
    "duration": 131,
    "start_time": "2022-09-13T08:06:12.811Z"
   },
   {
    "duration": 12,
    "start_time": "2022-09-13T08:08:40.038Z"
   },
   {
    "duration": 885,
    "start_time": "2022-09-13T08:10:15.286Z"
   },
   {
    "duration": 635,
    "start_time": "2022-09-13T08:10:34.077Z"
   },
   {
    "duration": 51,
    "start_time": "2022-09-13T08:10:34.713Z"
   },
   {
    "duration": 18,
    "start_time": "2022-09-13T08:10:34.765Z"
   },
   {
    "duration": 23,
    "start_time": "2022-09-13T08:10:34.784Z"
   },
   {
    "duration": 901,
    "start_time": "2022-09-13T08:10:34.808Z"
   },
   {
    "duration": 3,
    "start_time": "2022-09-13T08:10:35.712Z"
   },
   {
    "duration": 23,
    "start_time": "2022-09-13T08:10:35.717Z"
   },
   {
    "duration": 6,
    "start_time": "2022-09-13T08:10:35.741Z"
   },
   {
    "duration": 8,
    "start_time": "2022-09-13T08:10:35.748Z"
   },
   {
    "duration": 7,
    "start_time": "2022-09-13T08:10:35.758Z"
   },
   {
    "duration": 2635,
    "start_time": "2022-09-13T08:10:35.767Z"
   },
   {
    "duration": 852,
    "start_time": "2022-09-13T08:10:38.404Z"
   },
   {
    "duration": 9,
    "start_time": "2022-09-13T08:10:39.257Z"
   },
   {
    "duration": 9,
    "start_time": "2022-09-13T08:10:39.267Z"
   },
   {
    "duration": 15,
    "start_time": "2022-09-13T08:10:39.277Z"
   },
   {
    "duration": 7,
    "start_time": "2022-09-13T08:10:39.308Z"
   },
   {
    "duration": 9,
    "start_time": "2022-09-13T08:10:39.316Z"
   },
   {
    "duration": 5,
    "start_time": "2022-09-13T08:10:39.326Z"
   },
   {
    "duration": 1242,
    "start_time": "2022-09-13T08:10:39.333Z"
   },
   {
    "duration": 157,
    "start_time": "2022-09-13T08:11:02.783Z"
   },
   {
    "duration": 161,
    "start_time": "2022-09-13T08:11:36.732Z"
   },
   {
    "duration": 50,
    "start_time": "2022-09-13T08:12:24.405Z"
   },
   {
    "duration": 232,
    "start_time": "2022-09-13T08:12:31.424Z"
   },
   {
    "duration": 164,
    "start_time": "2022-09-13T08:12:41.201Z"
   },
   {
    "duration": 150,
    "start_time": "2022-09-13T08:12:51.477Z"
   },
   {
    "duration": 154,
    "start_time": "2022-09-13T08:12:57.381Z"
   },
   {
    "duration": 25,
    "start_time": "2022-09-13T08:36:23.043Z"
   },
   {
    "duration": 9,
    "start_time": "2022-09-13T08:36:38.706Z"
   },
   {
    "duration": 14,
    "start_time": "2022-09-13T08:36:44.241Z"
   },
   {
    "duration": 16,
    "start_time": "2022-09-13T08:37:08.361Z"
   },
   {
    "duration": 13,
    "start_time": "2022-09-13T08:37:19.669Z"
   },
   {
    "duration": 15,
    "start_time": "2022-09-13T08:37:32.882Z"
   },
   {
    "duration": 13,
    "start_time": "2022-09-13T08:37:37.959Z"
   },
   {
    "duration": 16,
    "start_time": "2022-09-13T08:38:09.254Z"
   },
   {
    "duration": 17,
    "start_time": "2022-09-13T08:38:28.625Z"
   },
   {
    "duration": 13,
    "start_time": "2022-09-13T08:38:41.798Z"
   },
   {
    "duration": 18,
    "start_time": "2022-09-13T08:39:44.463Z"
   },
   {
    "duration": 151,
    "start_time": "2022-09-13T08:46:22.538Z"
   },
   {
    "duration": 130,
    "start_time": "2022-09-13T08:46:27.164Z"
   },
   {
    "duration": 11,
    "start_time": "2022-09-13T08:46:50.362Z"
   },
   {
    "duration": 12,
    "start_time": "2022-09-13T08:46:57.014Z"
   },
   {
    "duration": 61,
    "start_time": "2022-09-13T08:47:03.784Z"
   },
   {
    "duration": 18,
    "start_time": "2022-09-13T08:47:08.538Z"
   },
   {
    "duration": 64,
    "start_time": "2022-09-13T08:47:52.502Z"
   },
   {
    "duration": 3,
    "start_time": "2022-09-13T08:53:48.981Z"
   },
   {
    "duration": 20,
    "start_time": "2022-09-13T08:54:12.029Z"
   },
   {
    "duration": 417,
    "start_time": "2022-09-13T08:55:15.505Z"
   },
   {
    "duration": 80,
    "start_time": "2022-09-13T08:55:38.687Z"
   },
   {
    "duration": 86,
    "start_time": "2022-09-13T08:55:45.902Z"
   },
   {
    "duration": 109,
    "start_time": "2022-09-13T08:55:49.121Z"
   },
   {
    "duration": 432,
    "start_time": "2022-09-13T08:57:15.570Z"
   },
   {
    "duration": 847,
    "start_time": "2022-09-13T08:58:41.344Z"
   },
   {
    "duration": 811,
    "start_time": "2022-09-13T08:58:51.293Z"
   },
   {
    "duration": 820,
    "start_time": "2022-09-13T08:58:55.759Z"
   },
   {
    "duration": 884,
    "start_time": "2022-09-13T08:59:13.184Z"
   },
   {
    "duration": 401,
    "start_time": "2022-09-13T08:59:20.700Z"
   },
   {
    "duration": 800,
    "start_time": "2022-09-13T08:59:27.922Z"
   },
   {
    "duration": 275,
    "start_time": "2022-09-13T08:59:50.598Z"
   },
   {
    "duration": 810,
    "start_time": "2022-09-13T09:03:26.254Z"
   },
   {
    "duration": 831,
    "start_time": "2022-09-13T09:03:37.743Z"
   },
   {
    "duration": 1769,
    "start_time": "2022-09-13T09:05:32.688Z"
   },
   {
    "duration": 799,
    "start_time": "2022-09-13T09:05:43.123Z"
   },
   {
    "duration": 875,
    "start_time": "2022-09-13T09:06:27.030Z"
   },
   {
    "duration": 834,
    "start_time": "2022-09-13T09:06:33.609Z"
   },
   {
    "duration": 828,
    "start_time": "2022-09-13T09:06:44.421Z"
   },
   {
    "duration": 807,
    "start_time": "2022-09-13T09:06:48.600Z"
   },
   {
    "duration": 842,
    "start_time": "2022-09-13T09:08:07.558Z"
   },
   {
    "duration": 901,
    "start_time": "2022-09-13T09:08:34.334Z"
   },
   {
    "duration": 801,
    "start_time": "2022-09-13T09:08:40.330Z"
   },
   {
    "duration": 844,
    "start_time": "2022-09-13T09:08:48.075Z"
   },
   {
    "duration": 19,
    "start_time": "2022-09-13T09:40:05.615Z"
   },
   {
    "duration": 352,
    "start_time": "2022-09-13T09:42:54.886Z"
   },
   {
    "duration": 570,
    "start_time": "2022-09-13T09:43:16.800Z"
   },
   {
    "duration": 221,
    "start_time": "2022-09-13T09:45:54.706Z"
   },
   {
    "duration": 1457,
    "start_time": "2022-09-13T09:46:27.884Z"
   },
   {
    "duration": 221,
    "start_time": "2022-09-13T09:46:57.307Z"
   },
   {
    "duration": 19,
    "start_time": "2022-09-13T09:47:34.929Z"
   },
   {
    "duration": 12,
    "start_time": "2022-09-13T09:48:54.523Z"
   },
   {
    "duration": 19,
    "start_time": "2022-09-13T09:49:01.173Z"
   },
   {
    "duration": 150,
    "start_time": "2022-09-13T09:49:26.986Z"
   },
   {
    "duration": 69,
    "start_time": "2022-09-13T19:35:07.249Z"
   },
   {
    "duration": 1282,
    "start_time": "2022-09-13T19:35:16.418Z"
   },
   {
    "duration": 93,
    "start_time": "2022-09-13T19:35:17.702Z"
   },
   {
    "duration": 19,
    "start_time": "2022-09-13T19:35:17.797Z"
   },
   {
    "duration": 18,
    "start_time": "2022-09-13T19:35:17.817Z"
   },
   {
    "duration": 843,
    "start_time": "2022-09-13T19:35:17.837Z"
   },
   {
    "duration": 4,
    "start_time": "2022-09-13T19:35:18.682Z"
   },
   {
    "duration": 27,
    "start_time": "2022-09-13T19:35:18.688Z"
   },
   {
    "duration": 6,
    "start_time": "2022-09-13T19:35:18.717Z"
   },
   {
    "duration": 7,
    "start_time": "2022-09-13T19:35:18.724Z"
   },
   {
    "duration": 7,
    "start_time": "2022-09-13T19:35:18.734Z"
   },
   {
    "duration": 2953,
    "start_time": "2022-09-13T19:35:18.743Z"
   },
   {
    "duration": 829,
    "start_time": "2022-09-13T19:35:21.698Z"
   },
   {
    "duration": 9,
    "start_time": "2022-09-13T19:35:22.528Z"
   },
   {
    "duration": 11,
    "start_time": "2022-09-13T19:35:22.538Z"
   },
   {
    "duration": 15,
    "start_time": "2022-09-13T19:35:22.550Z"
   },
   {
    "duration": 11,
    "start_time": "2022-09-13T19:35:22.566Z"
   },
   {
    "duration": 31,
    "start_time": "2022-09-13T19:35:22.578Z"
   },
   {
    "duration": 4,
    "start_time": "2022-09-13T19:35:22.610Z"
   },
   {
    "duration": 161,
    "start_time": "2022-09-13T19:35:22.616Z"
   },
   {
    "duration": 123,
    "start_time": "2022-09-13T19:35:22.779Z"
   },
   {
    "duration": 0,
    "start_time": "2022-09-13T19:35:22.903Z"
   },
   {
    "duration": 0,
    "start_time": "2022-09-13T19:35:22.909Z"
   },
   {
    "duration": 0,
    "start_time": "2022-09-13T19:35:22.911Z"
   },
   {
    "duration": 941,
    "start_time": "2022-09-13T19:36:35.950Z"
   },
   {
    "duration": 1104,
    "start_time": "2022-09-13T19:36:44.944Z"
   },
   {
    "duration": 55,
    "start_time": "2022-09-13T19:36:46.050Z"
   },
   {
    "duration": 26,
    "start_time": "2022-09-13T19:36:46.107Z"
   },
   {
    "duration": 21,
    "start_time": "2022-09-13T19:36:46.135Z"
   },
   {
    "duration": 873,
    "start_time": "2022-09-13T19:36:46.158Z"
   },
   {
    "duration": 3,
    "start_time": "2022-09-13T19:36:47.033Z"
   },
   {
    "duration": 24,
    "start_time": "2022-09-13T19:36:47.037Z"
   },
   {
    "duration": 16,
    "start_time": "2022-09-13T19:36:47.062Z"
   },
   {
    "duration": 21,
    "start_time": "2022-09-13T19:36:47.079Z"
   },
   {
    "duration": 19,
    "start_time": "2022-09-13T19:36:47.102Z"
   },
   {
    "duration": 1990,
    "start_time": "2022-09-13T19:36:47.123Z"
   },
   {
    "duration": 831,
    "start_time": "2022-09-13T19:36:49.116Z"
   },
   {
    "duration": 10,
    "start_time": "2022-09-13T19:36:49.949Z"
   },
   {
    "duration": 9,
    "start_time": "2022-09-13T19:36:49.961Z"
   },
   {
    "duration": 37,
    "start_time": "2022-09-13T19:36:49.972Z"
   },
   {
    "duration": 7,
    "start_time": "2022-09-13T19:36:50.011Z"
   },
   {
    "duration": 36,
    "start_time": "2022-09-13T19:36:50.019Z"
   },
   {
    "duration": 4,
    "start_time": "2022-09-13T19:36:50.056Z"
   },
   {
    "duration": 166,
    "start_time": "2022-09-13T19:36:50.062Z"
   },
   {
    "duration": 864,
    "start_time": "2022-09-13T19:36:50.230Z"
   },
   {
    "duration": 31,
    "start_time": "2022-09-13T19:36:51.095Z"
   },
   {
    "duration": 19,
    "start_time": "2022-09-13T19:36:51.128Z"
   },
   {
    "duration": 367,
    "start_time": "2022-09-13T19:36:51.149Z"
   },
   {
    "duration": 163,
    "start_time": "2022-09-13T19:37:06.557Z"
   },
   {
    "duration": 93,
    "start_time": "2022-09-13T19:42:41.642Z"
   },
   {
    "duration": 105,
    "start_time": "2022-09-13T19:42:47.703Z"
   },
   {
    "duration": 23,
    "start_time": "2022-09-13T19:44:33.245Z"
   },
   {
    "duration": 758,
    "start_time": "2022-09-13T19:47:20.740Z"
   },
   {
    "duration": 359,
    "start_time": "2022-09-13T19:47:31.179Z"
   },
   {
    "duration": 385,
    "start_time": "2022-09-13T19:47:51.245Z"
   },
   {
    "duration": 621,
    "start_time": "2022-09-13T19:48:03.979Z"
   },
   {
    "duration": 289,
    "start_time": "2022-09-13T19:57:14.865Z"
   },
   {
    "duration": 25,
    "start_time": "2022-09-13T19:58:26.810Z"
   },
   {
    "duration": 26,
    "start_time": "2022-09-13T19:58:33.864Z"
   },
   {
    "duration": 24,
    "start_time": "2022-09-13T20:00:19.621Z"
   },
   {
    "duration": 13,
    "start_time": "2022-09-13T20:02:54.574Z"
   },
   {
    "duration": 13,
    "start_time": "2022-09-13T20:03:05.347Z"
   },
   {
    "duration": 21,
    "start_time": "2022-09-13T20:03:14.215Z"
   },
   {
    "duration": 258,
    "start_time": "2022-09-13T20:03:44.555Z"
   },
   {
    "duration": 309,
    "start_time": "2022-09-13T20:04:57.651Z"
   },
   {
    "duration": 303,
    "start_time": "2022-09-13T20:05:16.762Z"
   },
   {
    "duration": 345,
    "start_time": "2022-09-13T20:06:07.487Z"
   },
   {
    "duration": 341,
    "start_time": "2022-09-13T20:11:02.910Z"
   },
   {
    "duration": 205,
    "start_time": "2022-09-13T20:41:13.910Z"
   },
   {
    "duration": 323,
    "start_time": "2022-09-13T20:41:37.495Z"
   },
   {
    "duration": 237,
    "start_time": "2022-09-13T20:41:44.173Z"
   },
   {
    "duration": 16,
    "start_time": "2022-09-13T20:44:16.482Z"
   },
   {
    "duration": 207,
    "start_time": "2022-09-13T20:44:38.095Z"
   },
   {
    "duration": 99,
    "start_time": "2022-09-13T20:45:03.071Z"
   },
   {
    "duration": 98,
    "start_time": "2022-09-13T20:45:14.947Z"
   },
   {
    "duration": 258,
    "start_time": "2022-09-13T20:45:36.236Z"
   },
   {
    "duration": 103,
    "start_time": "2022-09-13T21:01:17.446Z"
   },
   {
    "duration": 179,
    "start_time": "2022-09-13T21:01:39.699Z"
   },
   {
    "duration": 159,
    "start_time": "2022-09-13T21:02:10.861Z"
   },
   {
    "duration": 278,
    "start_time": "2022-09-13T21:02:45.265Z"
   },
   {
    "duration": 8,
    "start_time": "2022-09-13T21:03:48.988Z"
   },
   {
    "duration": 2529,
    "start_time": "2022-09-13T21:03:53.649Z"
   },
   {
    "duration": 103,
    "start_time": "2022-09-13T21:05:14.545Z"
   },
   {
    "duration": 246,
    "start_time": "2022-09-13T21:05:18.711Z"
   },
   {
    "duration": 154,
    "start_time": "2022-09-13T21:06:29.562Z"
   },
   {
    "duration": 163,
    "start_time": "2022-09-13T21:07:01.147Z"
   },
   {
    "duration": 26,
    "start_time": "2022-09-13T21:20:32.791Z"
   },
   {
    "duration": 179,
    "start_time": "2022-09-13T21:20:42.705Z"
   },
   {
    "duration": 160,
    "start_time": "2022-09-13T21:21:02.377Z"
   },
   {
    "duration": 142,
    "start_time": "2022-09-13T21:21:08.064Z"
   },
   {
    "duration": 162,
    "start_time": "2022-09-13T21:25:20.809Z"
   },
   {
    "duration": 128,
    "start_time": "2022-09-13T21:25:32.815Z"
   },
   {
    "duration": 5,
    "start_time": "2022-09-13T21:28:26.478Z"
   },
   {
    "duration": 156,
    "start_time": "2022-09-13T21:28:36.861Z"
   },
   {
    "duration": 130,
    "start_time": "2022-09-13T21:28:46.764Z"
   },
   {
    "duration": 5,
    "start_time": "2022-09-13T21:29:37.579Z"
   },
   {
    "duration": 5,
    "start_time": "2022-09-13T21:30:13.950Z"
   },
   {
    "duration": 1338,
    "start_time": "2022-09-14T19:17:51.675Z"
   },
   {
    "duration": 198,
    "start_time": "2022-09-14T19:17:53.015Z"
   },
   {
    "duration": 22,
    "start_time": "2022-09-14T19:17:53.215Z"
   },
   {
    "duration": 14,
    "start_time": "2022-09-14T19:17:53.239Z"
   },
   {
    "duration": 4,
    "start_time": "2022-09-14T19:17:53.255Z"
   },
   {
    "duration": 30,
    "start_time": "2022-09-14T19:17:53.261Z"
   },
   {
    "duration": 14,
    "start_time": "2022-09-14T19:17:53.293Z"
   },
   {
    "duration": 8,
    "start_time": "2022-09-14T19:17:53.308Z"
   },
   {
    "duration": 7,
    "start_time": "2022-09-14T19:17:53.317Z"
   },
   {
    "duration": 2851,
    "start_time": "2022-09-14T19:17:53.328Z"
   },
   {
    "duration": 916,
    "start_time": "2022-09-14T19:17:56.181Z"
   },
   {
    "duration": 18,
    "start_time": "2022-09-14T19:17:57.099Z"
   },
   {
    "duration": 12,
    "start_time": "2022-09-14T19:17:57.119Z"
   },
   {
    "duration": 16,
    "start_time": "2022-09-14T19:17:57.133Z"
   },
   {
    "duration": 7,
    "start_time": "2022-09-14T19:17:57.150Z"
   },
   {
    "duration": 12,
    "start_time": "2022-09-14T19:17:57.158Z"
   },
   {
    "duration": 34,
    "start_time": "2022-09-14T19:17:57.171Z"
   },
   {
    "duration": 186,
    "start_time": "2022-09-14T19:17:57.207Z"
   },
   {
    "duration": 915,
    "start_time": "2022-09-14T19:17:57.395Z"
   },
   {
    "duration": 19,
    "start_time": "2022-09-14T19:17:58.312Z"
   },
   {
    "duration": 22,
    "start_time": "2022-09-14T19:17:58.333Z"
   },
   {
    "duration": 382,
    "start_time": "2022-09-14T19:17:58.356Z"
   },
   {
    "duration": 380,
    "start_time": "2022-09-14T19:17:58.740Z"
   },
   {
    "duration": 258,
    "start_time": "2022-09-14T19:17:59.122Z"
   },
   {
    "duration": 6,
    "start_time": "2022-09-14T19:17:59.383Z"
   },
   {
    "duration": 284,
    "start_time": "2022-09-14T19:17:59.391Z"
   },
   {
    "duration": 5,
    "start_time": "2022-09-14T19:17:59.678Z"
   },
   {
    "duration": 151,
    "start_time": "2022-09-14T19:17:59.706Z"
   },
   {
    "duration": 5,
    "start_time": "2022-09-14T19:17:59.860Z"
   },
   {
    "duration": 1619,
    "start_time": "2022-09-14T19:31:16.977Z"
   },
   {
    "duration": 1505,
    "start_time": "2022-09-14T19:31:53.751Z"
   },
   {
    "duration": 1333,
    "start_time": "2022-09-14T19:32:48.918Z"
   },
   {
    "duration": 1277,
    "start_time": "2022-09-14T19:33:06.181Z"
   },
   {
    "duration": 1292,
    "start_time": "2022-09-14T19:35:28.014Z"
   },
   {
    "duration": 1376,
    "start_time": "2022-09-14T19:35:40.648Z"
   },
   {
    "duration": 1249,
    "start_time": "2022-09-14T19:38:51.488Z"
   },
   {
    "duration": 1424,
    "start_time": "2022-09-14T19:39:21.903Z"
   },
   {
    "duration": 188,
    "start_time": "2022-09-14T19:40:00.093Z"
   },
   {
    "duration": 205,
    "start_time": "2022-09-14T19:40:20.312Z"
   },
   {
    "duration": 1361,
    "start_time": "2022-09-14T19:40:34.937Z"
   },
   {
    "duration": 94,
    "start_time": "2022-09-14T19:48:18.813Z"
   },
   {
    "duration": 6,
    "start_time": "2022-09-14T19:49:37.895Z"
   },
   {
    "duration": 7,
    "start_time": "2022-09-14T19:58:45.977Z"
   },
   {
    "duration": 20,
    "start_time": "2022-09-14T20:00:34.444Z"
   },
   {
    "duration": 5,
    "start_time": "2022-09-14T20:03:21.379Z"
   },
   {
    "duration": 7,
    "start_time": "2022-09-14T20:03:50.634Z"
   },
   {
    "duration": 8,
    "start_time": "2022-09-14T20:04:10.151Z"
   },
   {
    "duration": 7,
    "start_time": "2022-09-14T20:04:20.138Z"
   },
   {
    "duration": 14,
    "start_time": "2022-09-14T20:25:09.842Z"
   },
   {
    "duration": 8,
    "start_time": "2022-09-14T20:25:18.334Z"
   },
   {
    "duration": 9,
    "start_time": "2022-09-14T20:25:31.272Z"
   },
   {
    "duration": 163,
    "start_time": "2022-09-14T20:26:37.372Z"
   },
   {
    "duration": 207,
    "start_time": "2022-09-14T20:26:51.491Z"
   },
   {
    "duration": 9,
    "start_time": "2022-09-14T20:27:04.969Z"
   },
   {
    "duration": 7,
    "start_time": "2022-09-14T20:27:32.799Z"
   },
   {
    "duration": 8,
    "start_time": "2022-09-14T20:27:48.711Z"
   },
   {
    "duration": 8,
    "start_time": "2022-09-14T20:27:54.935Z"
   },
   {
    "duration": 7,
    "start_time": "2022-09-14T20:28:02.083Z"
   },
   {
    "duration": 5,
    "start_time": "2022-09-14T20:29:36.039Z"
   },
   {
    "duration": 6,
    "start_time": "2022-09-14T20:29:49.181Z"
   },
   {
    "duration": 7,
    "start_time": "2022-09-14T20:29:58.249Z"
   },
   {
    "duration": 6,
    "start_time": "2022-09-14T20:31:59.944Z"
   },
   {
    "duration": 5,
    "start_time": "2022-09-14T20:32:23.210Z"
   },
   {
    "duration": 5,
    "start_time": "2022-09-14T20:32:41.368Z"
   },
   {
    "duration": 8,
    "start_time": "2022-09-14T20:36:53.144Z"
   },
   {
    "duration": 8,
    "start_time": "2022-09-14T20:37:12.135Z"
   },
   {
    "duration": 15,
    "start_time": "2022-09-14T20:37:56.940Z"
   },
   {
    "duration": 318,
    "start_time": "2022-09-14T20:44:15.852Z"
   },
   {
    "duration": 329,
    "start_time": "2022-09-14T20:44:21.873Z"
   },
   {
    "duration": 11,
    "start_time": "2022-09-14T20:44:40.566Z"
   },
   {
    "duration": 8,
    "start_time": "2022-09-14T20:45:11.743Z"
   },
   {
    "duration": 8,
    "start_time": "2022-09-14T20:45:13.314Z"
   },
   {
    "duration": 7,
    "start_time": "2022-09-14T20:47:10.553Z"
   },
   {
    "duration": 16,
    "start_time": "2022-09-14T20:47:16.311Z"
   },
   {
    "duration": 10,
    "start_time": "2022-09-14T21:14:51.079Z"
   },
   {
    "duration": 248,
    "start_time": "2022-09-14T21:15:20.517Z"
   },
   {
    "duration": 139,
    "start_time": "2022-09-14T21:15:38.971Z"
   },
   {
    "duration": 179,
    "start_time": "2022-09-14T21:15:53.071Z"
   },
   {
    "duration": 1576,
    "start_time": "2022-09-14T21:16:43.259Z"
   },
   {
    "duration": 1271,
    "start_time": "2022-09-14T21:16:52.639Z"
   },
   {
    "duration": 11,
    "start_time": "2022-09-14T21:17:14.107Z"
   },
   {
    "duration": 10,
    "start_time": "2022-09-14T21:17:32.199Z"
   },
   {
    "duration": 15,
    "start_time": "2022-09-14T21:17:56.882Z"
   },
   {
    "duration": 1297,
    "start_time": "2022-09-14T21:18:01.935Z"
   },
   {
    "duration": 128,
    "start_time": "2022-09-14T21:20:57.880Z"
   },
   {
    "duration": 100,
    "start_time": "2022-09-14T21:21:15.120Z"
   },
   {
    "duration": 14,
    "start_time": "2022-09-14T21:21:36.062Z"
   },
   {
    "duration": 137,
    "start_time": "2022-09-14T21:22:43.875Z"
   },
   {
    "duration": 1355,
    "start_time": "2022-09-14T21:23:18.592Z"
   },
   {
    "duration": 242,
    "start_time": "2022-09-14T21:23:27.517Z"
   },
   {
    "duration": 130,
    "start_time": "2022-09-14T21:25:07.616Z"
   },
   {
    "duration": 143,
    "start_time": "2022-09-14T21:25:34.764Z"
   },
   {
    "duration": 204,
    "start_time": "2022-09-14T21:40:52.937Z"
   },
   {
    "duration": 132,
    "start_time": "2022-09-14T21:41:53.169Z"
   },
   {
    "duration": 158,
    "start_time": "2022-09-14T21:42:06.404Z"
   },
   {
    "duration": 74,
    "start_time": "2022-09-14T21:43:31.831Z"
   },
   {
    "duration": 12,
    "start_time": "2022-09-14T21:43:40.642Z"
   },
   {
    "duration": 11,
    "start_time": "2022-09-14T21:44:07.050Z"
   },
   {
    "duration": 114,
    "start_time": "2022-09-14T21:46:39.137Z"
   },
   {
    "duration": 168,
    "start_time": "2022-09-14T21:46:47.836Z"
   },
   {
    "duration": 219,
    "start_time": "2022-09-14T21:47:17.894Z"
   },
   {
    "duration": 229,
    "start_time": "2022-09-14T21:47:37.166Z"
   },
   {
    "duration": 68,
    "start_time": "2022-09-14T21:49:03.254Z"
   },
   {
    "duration": 174,
    "start_time": "2022-09-14T21:49:57.585Z"
   },
   {
    "duration": 185,
    "start_time": "2022-09-14T21:50:10.233Z"
   },
   {
    "duration": 13,
    "start_time": "2022-09-14T21:58:19.279Z"
   },
   {
    "duration": 171,
    "start_time": "2022-09-14T21:58:33.010Z"
   },
   {
    "duration": 18,
    "start_time": "2022-09-14T21:58:54.541Z"
   },
   {
    "duration": 15,
    "start_time": "2022-09-14T21:59:10.552Z"
   },
   {
    "duration": 250,
    "start_time": "2022-09-14T22:00:11.767Z"
   },
   {
    "duration": 10,
    "start_time": "2022-09-14T22:00:32.757Z"
   },
   {
    "duration": 139,
    "start_time": "2022-09-14T22:00:40.456Z"
   },
   {
    "duration": 137,
    "start_time": "2022-09-14T22:01:06.969Z"
   },
   {
    "duration": 13,
    "start_time": "2022-09-14T22:01:41.546Z"
   },
   {
    "duration": 7,
    "start_time": "2022-09-14T22:01:47.360Z"
   },
   {
    "duration": 7,
    "start_time": "2022-09-14T22:21:06.704Z"
   },
   {
    "duration": 8,
    "start_time": "2022-09-14T22:22:19.379Z"
   },
   {
    "duration": 6,
    "start_time": "2022-09-14T22:22:26.208Z"
   },
   {
    "duration": 6,
    "start_time": "2022-09-14T22:22:27.414Z"
   },
   {
    "duration": 5,
    "start_time": "2022-09-14T22:22:28.623Z"
   },
   {
    "duration": 15,
    "start_time": "2022-09-14T22:22:30.021Z"
   },
   {
    "duration": 8,
    "start_time": "2022-09-14T22:39:36.825Z"
   },
   {
    "duration": 7,
    "start_time": "2022-09-14T22:48:14.139Z"
   },
   {
    "duration": 109,
    "start_time": "2022-09-15T10:25:48.323Z"
   },
   {
    "duration": 7,
    "start_time": "2022-09-15T10:25:55.801Z"
   },
   {
    "duration": 5,
    "start_time": "2022-09-15T10:31:18.572Z"
   },
   {
    "duration": 6,
    "start_time": "2022-09-15T10:31:22.425Z"
   },
   {
    "duration": 6,
    "start_time": "2022-09-15T10:31:26.167Z"
   },
   {
    "duration": 11,
    "start_time": "2022-09-15T10:31:28.135Z"
   },
   {
    "duration": 5,
    "start_time": "2022-09-15T10:38:17.708Z"
   },
   {
    "duration": 5,
    "start_time": "2022-09-15T10:38:20.493Z"
   },
   {
    "duration": 6,
    "start_time": "2022-09-15T10:38:22.902Z"
   },
   {
    "duration": 11,
    "start_time": "2022-09-15T10:38:25.155Z"
   },
   {
    "duration": 6,
    "start_time": "2022-09-15T10:38:46.057Z"
   },
   {
    "duration": 5,
    "start_time": "2022-09-15T10:38:47.015Z"
   },
   {
    "duration": 7,
    "start_time": "2022-09-15T10:38:47.807Z"
   },
   {
    "duration": 10,
    "start_time": "2022-09-15T10:38:48.801Z"
   },
   {
    "duration": 7,
    "start_time": "2022-09-15T10:45:17.724Z"
   },
   {
    "duration": 9,
    "start_time": "2022-09-15T10:45:35.576Z"
   },
   {
    "duration": 6,
    "start_time": "2022-09-15T10:45:57.614Z"
   },
   {
    "duration": 138,
    "start_time": "2022-09-15T10:46:27.921Z"
   },
   {
    "duration": 121,
    "start_time": "2022-09-15T10:46:40.076Z"
   },
   {
    "duration": 10,
    "start_time": "2022-09-15T10:46:47.500Z"
   },
   {
    "duration": 21,
    "start_time": "2022-09-15T10:46:53.474Z"
   },
   {
    "duration": 115,
    "start_time": "2022-09-15T10:46:58.781Z"
   },
   {
    "duration": 19,
    "start_time": "2022-09-15T10:47:20.075Z"
   },
   {
    "duration": 13,
    "start_time": "2022-09-15T10:47:57.033Z"
   },
   {
    "duration": 14,
    "start_time": "2022-09-15T10:48:02.201Z"
   },
   {
    "duration": 5,
    "start_time": "2022-09-15T10:53:10.988Z"
   },
   {
    "duration": 12,
    "start_time": "2022-09-15T10:53:16.398Z"
   },
   {
    "duration": 2130,
    "start_time": "2022-09-15T10:55:16.109Z"
   },
   {
    "duration": 862,
    "start_time": "2022-09-15T10:55:18.241Z"
   },
   {
    "duration": 10,
    "start_time": "2022-09-15T10:55:19.105Z"
   },
   {
    "duration": 9,
    "start_time": "2022-09-15T10:55:19.116Z"
   },
   {
    "duration": 4,
    "start_time": "2022-09-15T10:55:19.127Z"
   },
   {
    "duration": 15,
    "start_time": "2022-09-15T10:55:19.132Z"
   },
   {
    "duration": 40,
    "start_time": "2022-09-15T10:55:19.149Z"
   },
   {
    "duration": 9,
    "start_time": "2022-09-15T10:55:19.193Z"
   },
   {
    "duration": 5,
    "start_time": "2022-09-15T10:55:19.203Z"
   },
   {
    "duration": 196,
    "start_time": "2022-09-15T10:55:19.209Z"
   },
   {
    "duration": 900,
    "start_time": "2022-09-15T10:55:19.407Z"
   },
   {
    "duration": 21,
    "start_time": "2022-09-15T10:55:20.309Z"
   },
   {
    "duration": 22,
    "start_time": "2022-09-15T10:55:20.331Z"
   },
   {
    "duration": 369,
    "start_time": "2022-09-15T10:55:20.355Z"
   },
   {
    "duration": 370,
    "start_time": "2022-09-15T10:55:20.726Z"
   },
   {
    "duration": 267,
    "start_time": "2022-09-15T10:55:21.097Z"
   },
   {
    "duration": 15,
    "start_time": "2022-09-15T10:55:21.366Z"
   },
   {
    "duration": 252,
    "start_time": "2022-09-15T10:55:21.386Z"
   },
   {
    "duration": 5,
    "start_time": "2022-09-15T10:55:21.641Z"
   },
   {
    "duration": 152,
    "start_time": "2022-09-15T10:55:21.648Z"
   },
   {
    "duration": 4,
    "start_time": "2022-09-15T10:55:21.802Z"
   },
   {
    "duration": 1483,
    "start_time": "2022-09-15T10:55:21.807Z"
   },
   {
    "duration": 6,
    "start_time": "2022-09-15T10:55:23.294Z"
   },
   {
    "duration": 14,
    "start_time": "2022-09-15T10:55:23.302Z"
   },
   {
    "duration": 6,
    "start_time": "2022-09-15T10:55:23.318Z"
   },
   {
    "duration": 9,
    "start_time": "2022-09-15T10:55:23.326Z"
   },
   {
    "duration": 6,
    "start_time": "2022-09-15T10:55:23.337Z"
   },
   {
    "duration": 15,
    "start_time": "2022-09-15T10:55:23.345Z"
   },
   {
    "duration": 22,
    "start_time": "2022-09-15T10:55:23.362Z"
   },
   {
    "duration": 9,
    "start_time": "2022-09-15T10:55:23.385Z"
   },
   {
    "duration": 7,
    "start_time": "2022-09-15T10:55:23.395Z"
   },
   {
    "duration": 13,
    "start_time": "2022-09-15T10:55:23.404Z"
   },
   {
    "duration": 27,
    "start_time": "2022-09-15T10:55:23.418Z"
   },
   {
    "duration": 101,
    "start_time": "2022-09-15T10:55:23.446Z"
   },
   {
    "duration": 0,
    "start_time": "2022-09-15T10:55:23.548Z"
   },
   {
    "duration": 0,
    "start_time": "2022-09-15T10:55:23.549Z"
   },
   {
    "duration": 7,
    "start_time": "2022-09-15T11:03:52.062Z"
   },
   {
    "duration": 129,
    "start_time": "2022-09-15T11:10:25.696Z"
   },
   {
    "duration": 9,
    "start_time": "2022-09-15T11:10:46.320Z"
   },
   {
    "duration": 12,
    "start_time": "2022-09-15T11:11:07.651Z"
   },
   {
    "duration": 83,
    "start_time": "2022-09-15T11:16:04.960Z"
   },
   {
    "duration": 15,
    "start_time": "2022-09-15T11:16:19.738Z"
   },
   {
    "duration": 127,
    "start_time": "2022-09-15T11:16:31.072Z"
   },
   {
    "duration": 89,
    "start_time": "2022-09-15T11:16:39.490Z"
   },
   {
    "duration": 121,
    "start_time": "2022-09-15T11:16:49.507Z"
   },
   {
    "duration": 8,
    "start_time": "2022-09-15T11:17:12.499Z"
   },
   {
    "duration": 6,
    "start_time": "2022-09-15T11:17:37.286Z"
   },
   {
    "duration": 5,
    "start_time": "2022-09-15T11:18:05.394Z"
   },
   {
    "duration": 5,
    "start_time": "2022-09-15T11:18:24.101Z"
   },
   {
    "duration": 10,
    "start_time": "2022-09-15T11:19:39.073Z"
   },
   {
    "duration": 5,
    "start_time": "2022-09-15T11:20:13.751Z"
   },
   {
    "duration": 5,
    "start_time": "2022-09-15T11:20:17.216Z"
   },
   {
    "duration": 5,
    "start_time": "2022-09-15T11:20:19.983Z"
   },
   {
    "duration": 10,
    "start_time": "2022-09-15T11:20:22.163Z"
   },
   {
    "duration": 1098,
    "start_time": "2022-09-15T19:45:12.397Z"
   },
   {
    "duration": 52,
    "start_time": "2022-09-15T19:45:13.497Z"
   },
   {
    "duration": 22,
    "start_time": "2022-09-15T19:45:13.550Z"
   },
   {
    "duration": 13,
    "start_time": "2022-09-15T19:45:13.575Z"
   },
   {
    "duration": 3,
    "start_time": "2022-09-15T19:45:13.590Z"
   },
   {
    "duration": 15,
    "start_time": "2022-09-15T19:45:13.594Z"
   },
   {
    "duration": 5,
    "start_time": "2022-09-15T19:45:13.610Z"
   },
   {
    "duration": 6,
    "start_time": "2022-09-15T19:45:13.616Z"
   },
   {
    "duration": 6,
    "start_time": "2022-09-15T19:45:13.624Z"
   },
   {
    "duration": 1940,
    "start_time": "2022-09-15T19:45:13.633Z"
   },
   {
    "duration": 846,
    "start_time": "2022-09-15T19:45:15.574Z"
   },
   {
    "duration": 12,
    "start_time": "2022-09-15T19:45:16.421Z"
   },
   {
    "duration": 11,
    "start_time": "2022-09-15T19:45:16.435Z"
   },
   {
    "duration": 4,
    "start_time": "2022-09-15T19:45:16.447Z"
   },
   {
    "duration": 33,
    "start_time": "2022-09-15T19:45:16.452Z"
   },
   {
    "duration": 6,
    "start_time": "2022-09-15T19:45:16.486Z"
   },
   {
    "duration": 13,
    "start_time": "2022-09-15T19:45:16.493Z"
   },
   {
    "duration": 5,
    "start_time": "2022-09-15T19:45:16.507Z"
   },
   {
    "duration": 182,
    "start_time": "2022-09-15T19:45:16.514Z"
   },
   {
    "duration": 808,
    "start_time": "2022-09-15T19:45:16.698Z"
   },
   {
    "duration": 20,
    "start_time": "2022-09-15T19:45:17.508Z"
   },
   {
    "duration": 21,
    "start_time": "2022-09-15T19:45:17.529Z"
   },
   {
    "duration": 412,
    "start_time": "2022-09-15T19:45:17.552Z"
   },
   {
    "duration": 378,
    "start_time": "2022-09-15T19:45:17.966Z"
   },
   {
    "duration": 250,
    "start_time": "2022-09-15T19:45:18.345Z"
   },
   {
    "duration": 6,
    "start_time": "2022-09-15T19:45:18.596Z"
   },
   {
    "duration": 239,
    "start_time": "2022-09-15T19:45:18.603Z"
   },
   {
    "duration": 5,
    "start_time": "2022-09-15T19:45:18.845Z"
   },
   {
    "duration": 141,
    "start_time": "2022-09-15T19:45:18.851Z"
   },
   {
    "duration": 4,
    "start_time": "2022-09-15T19:45:18.994Z"
   },
   {
    "duration": 1306,
    "start_time": "2022-09-15T19:45:18.999Z"
   },
   {
    "duration": 5,
    "start_time": "2022-09-15T19:45:20.307Z"
   },
   {
    "duration": 8,
    "start_time": "2022-09-15T19:45:20.314Z"
   },
   {
    "duration": 5,
    "start_time": "2022-09-15T19:45:20.323Z"
   },
   {
    "duration": 7,
    "start_time": "2022-09-15T19:45:20.329Z"
   },
   {
    "duration": 7,
    "start_time": "2022-09-15T19:45:20.338Z"
   },
   {
    "duration": 32,
    "start_time": "2022-09-15T19:45:20.347Z"
   },
   {
    "duration": 7,
    "start_time": "2022-09-15T19:45:20.380Z"
   },
   {
    "duration": 6,
    "start_time": "2022-09-15T19:45:20.388Z"
   },
   {
    "duration": 5,
    "start_time": "2022-09-15T19:45:20.396Z"
   },
   {
    "duration": 10,
    "start_time": "2022-09-15T19:45:20.402Z"
   },
   {
    "duration": 6,
    "start_time": "2022-09-15T19:45:20.413Z"
   },
   {
    "duration": 7,
    "start_time": "2022-09-15T19:45:20.420Z"
   },
   {
    "duration": 7,
    "start_time": "2022-09-15T19:45:20.429Z"
   },
   {
    "duration": 11,
    "start_time": "2022-09-15T19:45:20.438Z"
   },
   {
    "duration": 111,
    "start_time": "2022-09-15T20:00:40.156Z"
   },
   {
    "duration": 35,
    "start_time": "2022-09-15T20:00:50.370Z"
   },
   {
    "duration": 6,
    "start_time": "2022-09-15T20:01:05.043Z"
   },
   {
    "duration": 9,
    "start_time": "2022-09-15T20:01:30.385Z"
   },
   {
    "duration": 3,
    "start_time": "2022-09-15T20:02:42.047Z"
   },
   {
    "duration": 18,
    "start_time": "2022-09-15T20:06:34.953Z"
   },
   {
    "duration": 17,
    "start_time": "2022-09-15T20:06:53.948Z"
   },
   {
    "duration": 3,
    "start_time": "2022-09-15T20:07:33.753Z"
   },
   {
    "duration": 18,
    "start_time": "2022-09-15T20:07:39.096Z"
   },
   {
    "duration": 16,
    "start_time": "2022-09-15T20:07:59.919Z"
   },
   {
    "duration": 11,
    "start_time": "2022-09-15T20:08:15.815Z"
   },
   {
    "duration": 5,
    "start_time": "2022-09-15T20:12:52.434Z"
   },
   {
    "duration": 11,
    "start_time": "2022-09-15T20:15:22.703Z"
   },
   {
    "duration": 5,
    "start_time": "2022-09-15T20:15:25.644Z"
   },
   {
    "duration": 9,
    "start_time": "2022-09-15T20:17:50.497Z"
   },
   {
    "duration": 5,
    "start_time": "2022-09-15T20:17:52.686Z"
   },
   {
    "duration": 10,
    "start_time": "2022-09-15T20:18:09.578Z"
   },
   {
    "duration": 12,
    "start_time": "2022-09-15T20:23:45.239Z"
   },
   {
    "duration": 1094,
    "start_time": "2022-09-15T22:18:30.451Z"
   },
   {
    "duration": 50,
    "start_time": "2022-09-15T22:18:31.547Z"
   },
   {
    "duration": 19,
    "start_time": "2022-09-15T22:18:31.599Z"
   },
   {
    "duration": 13,
    "start_time": "2022-09-15T22:18:31.620Z"
   },
   {
    "duration": 8,
    "start_time": "2022-09-15T22:18:31.634Z"
   },
   {
    "duration": 16,
    "start_time": "2022-09-15T22:18:31.643Z"
   },
   {
    "duration": 18,
    "start_time": "2022-09-15T22:18:31.661Z"
   },
   {
    "duration": 10,
    "start_time": "2022-09-15T22:18:31.680Z"
   },
   {
    "duration": 15,
    "start_time": "2022-09-15T22:18:31.691Z"
   },
   {
    "duration": 1807,
    "start_time": "2022-09-15T22:18:31.709Z"
   },
   {
    "duration": 787,
    "start_time": "2022-09-15T22:18:33.518Z"
   },
   {
    "duration": 7,
    "start_time": "2022-09-15T22:18:34.307Z"
   },
   {
    "duration": 12,
    "start_time": "2022-09-15T22:18:34.316Z"
   },
   {
    "duration": 3,
    "start_time": "2022-09-15T22:18:34.329Z"
   },
   {
    "duration": 12,
    "start_time": "2022-09-15T22:18:34.334Z"
   },
   {
    "duration": 9,
    "start_time": "2022-09-15T22:18:34.347Z"
   },
   {
    "duration": 25,
    "start_time": "2022-09-15T22:18:34.357Z"
   },
   {
    "duration": 4,
    "start_time": "2022-09-15T22:18:34.383Z"
   },
   {
    "duration": 168,
    "start_time": "2022-09-15T22:18:34.388Z"
   },
   {
    "duration": 829,
    "start_time": "2022-09-15T22:18:34.557Z"
   },
   {
    "duration": 18,
    "start_time": "2022-09-15T22:18:35.388Z"
   },
   {
    "duration": 20,
    "start_time": "2022-09-15T22:18:35.408Z"
   },
   {
    "duration": 378,
    "start_time": "2022-09-15T22:18:35.429Z"
   },
   {
    "duration": 347,
    "start_time": "2022-09-15T22:18:35.808Z"
   },
   {
    "duration": 261,
    "start_time": "2022-09-15T22:18:36.157Z"
   },
   {
    "duration": 6,
    "start_time": "2022-09-15T22:18:36.419Z"
   },
   {
    "duration": 235,
    "start_time": "2022-09-15T22:18:36.427Z"
   },
   {
    "duration": 12,
    "start_time": "2022-09-15T22:18:36.666Z"
   },
   {
    "duration": 140,
    "start_time": "2022-09-15T22:18:36.679Z"
   },
   {
    "duration": 5,
    "start_time": "2022-09-15T22:18:36.821Z"
   },
   {
    "duration": 1293,
    "start_time": "2022-09-15T22:18:36.827Z"
   },
   {
    "duration": 12,
    "start_time": "2022-09-15T22:18:38.121Z"
   },
   {
    "duration": 10,
    "start_time": "2022-09-15T22:18:38.135Z"
   },
   {
    "duration": 5,
    "start_time": "2022-09-15T22:18:38.146Z"
   },
   {
    "duration": 5,
    "start_time": "2022-09-15T22:18:38.153Z"
   },
   {
    "duration": 19,
    "start_time": "2022-09-15T22:18:38.160Z"
   },
   {
    "duration": 10,
    "start_time": "2022-09-15T22:18:38.180Z"
   },
   {
    "duration": 6,
    "start_time": "2022-09-15T22:18:38.191Z"
   },
   {
    "duration": 5,
    "start_time": "2022-09-15T22:18:38.198Z"
   },
   {
    "duration": 4,
    "start_time": "2022-09-15T22:18:38.205Z"
   },
   {
    "duration": 10,
    "start_time": "2022-09-15T22:18:38.211Z"
   },
   {
    "duration": 7,
    "start_time": "2022-09-15T22:18:38.222Z"
   },
   {
    "duration": 4,
    "start_time": "2022-09-15T22:18:38.231Z"
   },
   {
    "duration": 5,
    "start_time": "2022-09-15T22:18:38.236Z"
   },
   {
    "duration": 36,
    "start_time": "2022-09-15T22:18:38.243Z"
   },
   {
    "duration": 10,
    "start_time": "2022-09-15T22:18:38.281Z"
   },
   {
    "duration": 10,
    "start_time": "2022-09-15T22:18:38.293Z"
   },
   {
    "duration": 48,
    "start_time": "2022-09-16T10:56:48.233Z"
   },
   {
    "duration": 1231,
    "start_time": "2022-09-16T10:56:50.788Z"
   },
   {
    "duration": 106,
    "start_time": "2022-09-16T10:56:52.025Z"
   },
   {
    "duration": 19,
    "start_time": "2022-09-16T10:56:52.133Z"
   },
   {
    "duration": 14,
    "start_time": "2022-09-16T10:56:52.154Z"
   },
   {
    "duration": 5,
    "start_time": "2022-09-16T10:56:52.169Z"
   },
   {
    "duration": 13,
    "start_time": "2022-09-16T10:56:52.176Z"
   },
   {
    "duration": 5,
    "start_time": "2022-09-16T10:56:52.190Z"
   },
   {
    "duration": 6,
    "start_time": "2022-09-16T10:56:52.197Z"
   },
   {
    "duration": 6,
    "start_time": "2022-09-16T10:56:52.232Z"
   },
   {
    "duration": 2792,
    "start_time": "2022-09-16T10:56:52.241Z"
   },
   {
    "duration": 861,
    "start_time": "2022-09-16T10:56:55.035Z"
   },
   {
    "duration": 616,
    "start_time": "2022-09-16T10:56:55.898Z"
   },
   {
    "duration": 15,
    "start_time": "2022-09-16T10:56:56.515Z"
   },
   {
    "duration": 20,
    "start_time": "2022-09-16T10:56:56.532Z"
   },
   {
    "duration": 5,
    "start_time": "2022-09-16T10:56:56.553Z"
   },
   {
    "duration": 19,
    "start_time": "2022-09-16T10:56:56.559Z"
   },
   {
    "duration": 7,
    "start_time": "2022-09-16T10:56:56.579Z"
   },
   {
    "duration": 10,
    "start_time": "2022-09-16T10:56:56.587Z"
   },
   {
    "duration": 4,
    "start_time": "2022-09-16T10:56:56.599Z"
   },
   {
    "duration": 186,
    "start_time": "2022-09-16T10:56:56.604Z"
   },
   {
    "duration": 912,
    "start_time": "2022-09-16T10:56:56.792Z"
   },
   {
    "duration": 31,
    "start_time": "2022-09-16T10:56:57.706Z"
   },
   {
    "duration": 20,
    "start_time": "2022-09-16T10:56:57.739Z"
   },
   {
    "duration": 381,
    "start_time": "2022-09-16T10:56:57.761Z"
   },
   {
    "duration": 393,
    "start_time": "2022-09-16T10:56:58.143Z"
   },
   {
    "duration": 377,
    "start_time": "2022-09-16T10:56:58.538Z"
   },
   {
    "duration": 7,
    "start_time": "2022-09-16T10:56:58.932Z"
   },
   {
    "duration": 218,
    "start_time": "2022-09-16T10:56:58.943Z"
   },
   {
    "duration": 5,
    "start_time": "2022-09-16T10:56:59.163Z"
   },
   {
    "duration": 166,
    "start_time": "2022-09-16T10:56:59.169Z"
   },
   {
    "duration": 5,
    "start_time": "2022-09-16T10:56:59.337Z"
   },
   {
    "duration": 1359,
    "start_time": "2022-09-16T10:56:59.344Z"
   },
   {
    "duration": 6,
    "start_time": "2022-09-16T10:57:00.705Z"
   },
   {
    "duration": 39,
    "start_time": "2022-09-16T10:57:00.712Z"
   },
   {
    "duration": 6,
    "start_time": "2022-09-16T10:57:00.753Z"
   },
   {
    "duration": 7,
    "start_time": "2022-09-16T10:57:00.761Z"
   },
   {
    "duration": 16,
    "start_time": "2022-09-16T10:57:00.770Z"
   },
   {
    "duration": 30,
    "start_time": "2022-09-16T10:57:00.787Z"
   },
   {
    "duration": 19,
    "start_time": "2022-09-16T10:57:00.819Z"
   },
   {
    "duration": 17,
    "start_time": "2022-09-16T10:57:00.840Z"
   },
   {
    "duration": 18,
    "start_time": "2022-09-16T10:57:00.858Z"
   },
   {
    "duration": 14,
    "start_time": "2022-09-16T10:57:00.878Z"
   },
   {
    "duration": 24,
    "start_time": "2022-09-16T10:57:00.894Z"
   },
   {
    "duration": 22,
    "start_time": "2022-09-16T10:57:00.920Z"
   },
   {
    "duration": 16,
    "start_time": "2022-09-16T10:57:00.943Z"
   },
   {
    "duration": 21,
    "start_time": "2022-09-16T10:57:00.961Z"
   },
   {
    "duration": 14,
    "start_time": "2022-09-16T10:57:00.984Z"
   },
   {
    "duration": 14,
    "start_time": "2022-09-16T10:57:00.999Z"
   },
   {
    "duration": 810,
    "start_time": "2022-09-16T10:57:29.198Z"
   },
   {
    "duration": 876,
    "start_time": "2022-09-16T10:57:53.035Z"
   },
   {
    "duration": 829,
    "start_time": "2022-09-16T10:59:51.158Z"
   },
   {
    "duration": 3,
    "start_time": "2022-09-16T11:00:12.280Z"
   },
   {
    "duration": 59,
    "start_time": "2022-09-16T11:00:12.285Z"
   },
   {
    "duration": 15,
    "start_time": "2022-09-16T11:00:12.347Z"
   },
   {
    "duration": 15,
    "start_time": "2022-09-16T11:00:12.364Z"
   },
   {
    "duration": 3,
    "start_time": "2022-09-16T11:00:12.381Z"
   },
   {
    "duration": 15,
    "start_time": "2022-09-16T11:00:12.385Z"
   },
   {
    "duration": 35,
    "start_time": "2022-09-16T11:00:12.402Z"
   },
   {
    "duration": 8,
    "start_time": "2022-09-16T11:00:12.439Z"
   },
   {
    "duration": 6,
    "start_time": "2022-09-16T11:00:12.449Z"
   },
   {
    "duration": 2118,
    "start_time": "2022-09-16T11:00:12.456Z"
   },
   {
    "duration": 898,
    "start_time": "2022-09-16T11:00:14.577Z"
   },
   {
    "duration": 794,
    "start_time": "2022-09-16T11:00:15.477Z"
   },
   {
    "duration": 9,
    "start_time": "2022-09-16T11:00:16.272Z"
   },
   {
    "duration": 33,
    "start_time": "2022-09-16T11:00:16.282Z"
   },
   {
    "duration": 32,
    "start_time": "2022-09-16T11:00:16.316Z"
   },
   {
    "duration": 18,
    "start_time": "2022-09-16T11:00:16.350Z"
   },
   {
    "duration": 7,
    "start_time": "2022-09-16T11:00:16.369Z"
   },
   {
    "duration": 18,
    "start_time": "2022-09-16T11:00:16.377Z"
   },
   {
    "duration": 4,
    "start_time": "2022-09-16T11:00:16.396Z"
   },
   {
    "duration": 179,
    "start_time": "2022-09-16T11:00:16.402Z"
   },
   {
    "duration": 891,
    "start_time": "2022-09-16T11:00:16.583Z"
   },
   {
    "duration": 24,
    "start_time": "2022-09-16T11:00:17.476Z"
   },
   {
    "duration": 38,
    "start_time": "2022-09-16T11:00:17.502Z"
   },
   {
    "duration": 331,
    "start_time": "2022-09-16T11:00:17.542Z"
   },
   {
    "duration": 454,
    "start_time": "2022-09-16T11:00:17.875Z"
   },
   {
    "duration": 270,
    "start_time": "2022-09-16T11:00:18.331Z"
   },
   {
    "duration": 6,
    "start_time": "2022-09-16T11:00:18.603Z"
   },
   {
    "duration": 157,
    "start_time": "2022-09-16T11:00:18.611Z"
   },
   {
    "duration": 6,
    "start_time": "2022-09-16T11:00:18.771Z"
   },
   {
    "duration": 221,
    "start_time": "2022-09-16T11:00:18.778Z"
   },
   {
    "duration": 6,
    "start_time": "2022-09-16T11:00:19.001Z"
   },
   {
    "duration": 1311,
    "start_time": "2022-09-16T11:00:19.008Z"
   },
   {
    "duration": 7,
    "start_time": "2022-09-16T11:00:20.322Z"
   },
   {
    "duration": 15,
    "start_time": "2022-09-16T11:00:20.330Z"
   },
   {
    "duration": 8,
    "start_time": "2022-09-16T11:00:20.346Z"
   },
   {
    "duration": 7,
    "start_time": "2022-09-16T11:00:20.355Z"
   },
   {
    "duration": 7,
    "start_time": "2022-09-16T11:00:20.364Z"
   },
   {
    "duration": 14,
    "start_time": "2022-09-16T11:00:20.372Z"
   },
   {
    "duration": 6,
    "start_time": "2022-09-16T11:00:20.387Z"
   },
   {
    "duration": 30,
    "start_time": "2022-09-16T11:00:20.394Z"
   },
   {
    "duration": 5,
    "start_time": "2022-09-16T11:00:20.426Z"
   },
   {
    "duration": 12,
    "start_time": "2022-09-16T11:00:20.432Z"
   },
   {
    "duration": 7,
    "start_time": "2022-09-16T11:00:20.446Z"
   },
   {
    "duration": 9,
    "start_time": "2022-09-16T11:00:20.454Z"
   },
   {
    "duration": 8,
    "start_time": "2022-09-16T11:00:20.464Z"
   },
   {
    "duration": 18,
    "start_time": "2022-09-16T11:00:20.473Z"
   },
   {
    "duration": 14,
    "start_time": "2022-09-16T11:00:20.492Z"
   },
   {
    "duration": 10,
    "start_time": "2022-09-16T11:00:20.522Z"
   },
   {
    "duration": 433,
    "start_time": "2022-09-16T11:09:01.495Z"
   },
   {
    "duration": 493,
    "start_time": "2022-09-16T11:09:12.069Z"
   },
   {
    "duration": 20,
    "start_time": "2022-09-16T11:13:58.498Z"
   },
   {
    "duration": 11,
    "start_time": "2022-09-16T11:40:28.143Z"
   },
   {
    "duration": 12,
    "start_time": "2022-09-16T11:40:58.034Z"
   },
   {
    "duration": 12,
    "start_time": "2022-09-16T11:41:58.208Z"
   },
   {
    "duration": 404,
    "start_time": "2022-09-16T11:44:49.284Z"
   },
   {
    "duration": 493,
    "start_time": "2022-09-16T11:44:56.052Z"
   },
   {
    "duration": 524,
    "start_time": "2022-09-16T11:45:02.600Z"
   },
   {
    "duration": 482,
    "start_time": "2022-09-16T11:45:10.307Z"
   },
   {
    "duration": 5,
    "start_time": "2022-09-16T11:49:26.935Z"
   },
   {
    "duration": 5,
    "start_time": "2022-09-16T11:49:36.163Z"
   },
   {
    "duration": 47,
    "start_time": "2022-09-16T14:53:09.684Z"
   },
   {
    "duration": 1235,
    "start_time": "2022-09-16T14:53:17.044Z"
   },
   {
    "duration": 97,
    "start_time": "2022-09-16T14:53:20.118Z"
   },
   {
    "duration": 1124,
    "start_time": "2022-09-16T14:53:45.000Z"
   },
   {
    "duration": 64,
    "start_time": "2022-09-16T14:53:46.126Z"
   },
   {
    "duration": 21,
    "start_time": "2022-09-16T14:53:46.192Z"
   },
   {
    "duration": 12,
    "start_time": "2022-09-16T14:53:46.215Z"
   },
   {
    "duration": 3,
    "start_time": "2022-09-16T14:53:46.229Z"
   },
   {
    "duration": 14,
    "start_time": "2022-09-16T14:53:46.233Z"
   },
   {
    "duration": 5,
    "start_time": "2022-09-16T14:53:46.248Z"
   },
   {
    "duration": 4,
    "start_time": "2022-09-16T14:53:46.255Z"
   },
   {
    "duration": 5,
    "start_time": "2022-09-16T14:53:46.325Z"
   },
   {
    "duration": 2529,
    "start_time": "2022-09-16T14:53:46.331Z"
   },
   {
    "duration": 870,
    "start_time": "2022-09-16T14:53:48.862Z"
   },
   {
    "duration": 817,
    "start_time": "2022-09-16T14:53:49.734Z"
   },
   {
    "duration": 10,
    "start_time": "2022-09-16T14:53:50.553Z"
   },
   {
    "duration": 14,
    "start_time": "2022-09-16T14:53:50.564Z"
   },
   {
    "duration": 15,
    "start_time": "2022-09-16T14:53:50.579Z"
   },
   {
    "duration": 22,
    "start_time": "2022-09-16T14:53:50.595Z"
   },
   {
    "duration": 6,
    "start_time": "2022-09-16T14:53:50.619Z"
   },
   {
    "duration": 23,
    "start_time": "2022-09-16T14:53:50.628Z"
   },
   {
    "duration": 21,
    "start_time": "2022-09-16T14:53:50.653Z"
   },
   {
    "duration": 168,
    "start_time": "2022-09-16T14:53:50.675Z"
   },
   {
    "duration": 377,
    "start_time": "2022-09-16T14:53:50.844Z"
   },
   {
    "duration": 825,
    "start_time": "2022-09-16T14:53:51.222Z"
   },
   {
    "duration": 21,
    "start_time": "2022-09-16T14:53:52.048Z"
   },
   {
    "duration": 34,
    "start_time": "2022-09-16T14:53:52.071Z"
   },
   {
    "duration": 352,
    "start_time": "2022-09-16T14:53:52.107Z"
   },
   {
    "duration": 415,
    "start_time": "2022-09-16T14:53:52.461Z"
   },
   {
    "duration": 291,
    "start_time": "2022-09-16T14:53:52.878Z"
   },
   {
    "duration": 5,
    "start_time": "2022-09-16T14:53:53.171Z"
   },
   {
    "duration": 155,
    "start_time": "2022-09-16T14:53:53.178Z"
   },
   {
    "duration": 5,
    "start_time": "2022-09-16T14:53:53.335Z"
   },
   {
    "duration": 149,
    "start_time": "2022-09-16T14:53:53.341Z"
   },
   {
    "duration": 11,
    "start_time": "2022-09-16T14:53:53.492Z"
   },
   {
    "duration": 1383,
    "start_time": "2022-09-16T14:53:53.504Z"
   },
   {
    "duration": 5,
    "start_time": "2022-09-16T14:53:54.889Z"
   },
   {
    "duration": 7,
    "start_time": "2022-09-16T14:53:54.900Z"
   },
   {
    "duration": 4,
    "start_time": "2022-09-16T14:53:54.910Z"
   },
   {
    "duration": 6,
    "start_time": "2022-09-16T14:53:54.916Z"
   },
   {
    "duration": 7,
    "start_time": "2022-09-16T14:53:54.923Z"
   },
   {
    "duration": 13,
    "start_time": "2022-09-16T14:53:54.931Z"
   },
   {
    "duration": 12,
    "start_time": "2022-09-16T14:53:54.946Z"
   },
   {
    "duration": 615,
    "start_time": "2022-09-16T14:53:54.960Z"
   },
   {
    "duration": 5,
    "start_time": "2022-09-16T14:53:55.578Z"
   },
   {
    "duration": 18,
    "start_time": "2022-09-16T14:53:55.584Z"
   },
   {
    "duration": 4,
    "start_time": "2022-09-16T14:53:55.603Z"
   },
   {
    "duration": 17,
    "start_time": "2022-09-16T14:53:55.609Z"
   },
   {
    "duration": 7,
    "start_time": "2022-09-16T14:53:55.627Z"
   },
   {
    "duration": 7,
    "start_time": "2022-09-16T14:53:55.635Z"
   },
   {
    "duration": 11,
    "start_time": "2022-09-16T14:53:55.643Z"
   },
   {
    "duration": 11,
    "start_time": "2022-09-16T14:53:55.656Z"
   },
   {
    "duration": 11,
    "start_time": "2022-09-16T14:53:55.669Z"
   },
   {
    "duration": 25,
    "start_time": "2022-09-16T14:53:55.682Z"
   },
   {
    "duration": 5,
    "start_time": "2022-09-16T14:53:55.709Z"
   },
   {
    "duration": 5,
    "start_time": "2022-09-16T15:03:13.541Z"
   },
   {
    "duration": 93,
    "start_time": "2022-09-16T15:03:27.937Z"
   },
   {
    "duration": 13,
    "start_time": "2022-09-16T15:03:36.459Z"
   },
   {
    "duration": 797,
    "start_time": "2022-09-16T15:08:27.399Z"
   },
   {
    "duration": 773,
    "start_time": "2022-09-16T15:11:26.681Z"
   },
   {
    "duration": 1110,
    "start_time": "2022-09-16T15:11:57.080Z"
   },
   {
    "duration": 55,
    "start_time": "2022-09-16T15:11:58.192Z"
   },
   {
    "duration": 17,
    "start_time": "2022-09-16T15:11:58.248Z"
   },
   {
    "duration": 15,
    "start_time": "2022-09-16T15:11:58.267Z"
   },
   {
    "duration": 2,
    "start_time": "2022-09-16T15:11:58.284Z"
   },
   {
    "duration": 16,
    "start_time": "2022-09-16T15:11:58.288Z"
   },
   {
    "duration": 3,
    "start_time": "2022-09-16T15:11:58.306Z"
   },
   {
    "duration": 11,
    "start_time": "2022-09-16T15:11:58.311Z"
   },
   {
    "duration": 1868,
    "start_time": "2022-09-16T15:11:58.323Z"
   },
   {
    "duration": 829,
    "start_time": "2022-09-16T15:12:00.194Z"
   },
   {
    "duration": 762,
    "start_time": "2022-09-16T15:12:01.025Z"
   },
   {
    "duration": 10,
    "start_time": "2022-09-16T15:12:01.789Z"
   },
   {
    "duration": 16,
    "start_time": "2022-09-16T15:12:01.801Z"
   },
   {
    "duration": 11,
    "start_time": "2022-09-16T15:12:01.818Z"
   },
   {
    "duration": 19,
    "start_time": "2022-09-16T15:12:01.831Z"
   },
   {
    "duration": 7,
    "start_time": "2022-09-16T15:12:01.852Z"
   },
   {
    "duration": 62,
    "start_time": "2022-09-16T15:12:01.860Z"
   },
   {
    "duration": 14,
    "start_time": "2022-09-16T15:12:01.924Z"
   },
   {
    "duration": 186,
    "start_time": "2022-09-16T15:12:01.940Z"
   },
   {
    "duration": 416,
    "start_time": "2022-09-16T15:12:02.128Z"
   },
   {
    "duration": 873,
    "start_time": "2022-09-16T15:12:02.545Z"
   },
   {
    "duration": 21,
    "start_time": "2022-09-16T15:12:03.419Z"
   },
   {
    "duration": 39,
    "start_time": "2022-09-16T15:12:03.442Z"
   },
   {
    "duration": 369,
    "start_time": "2022-09-16T15:12:03.483Z"
   },
   {
    "duration": 439,
    "start_time": "2022-09-16T15:12:03.854Z"
   },
   {
    "duration": 315,
    "start_time": "2022-09-16T15:12:04.300Z"
   },
   {
    "duration": 5,
    "start_time": "2022-09-16T15:12:04.617Z"
   },
   {
    "duration": 194,
    "start_time": "2022-09-16T15:12:04.624Z"
   },
   {
    "duration": 5,
    "start_time": "2022-09-16T15:12:04.820Z"
   },
   {
    "duration": 175,
    "start_time": "2022-09-16T15:12:04.826Z"
   },
   {
    "duration": 4,
    "start_time": "2022-09-16T15:12:05.003Z"
   },
   {
    "duration": 1359,
    "start_time": "2022-09-16T15:12:05.008Z"
   },
   {
    "duration": 5,
    "start_time": "2022-09-16T15:12:06.369Z"
   },
   {
    "duration": 28,
    "start_time": "2022-09-16T15:12:06.375Z"
   },
   {
    "duration": 13,
    "start_time": "2022-09-16T15:12:06.405Z"
   },
   {
    "duration": 13,
    "start_time": "2022-09-16T15:12:06.420Z"
   },
   {
    "duration": 6,
    "start_time": "2022-09-16T15:12:06.434Z"
   },
   {
    "duration": 16,
    "start_time": "2022-09-16T15:12:06.441Z"
   },
   {
    "duration": 11,
    "start_time": "2022-09-16T15:12:06.458Z"
   },
   {
    "duration": 552,
    "start_time": "2022-09-16T15:12:06.471Z"
   },
   {
    "duration": 6,
    "start_time": "2022-09-16T15:12:07.025Z"
   },
   {
    "duration": 7,
    "start_time": "2022-09-16T15:12:07.033Z"
   },
   {
    "duration": 6,
    "start_time": "2022-09-16T15:12:07.041Z"
   },
   {
    "duration": 10,
    "start_time": "2022-09-16T15:12:07.048Z"
   },
   {
    "duration": 7,
    "start_time": "2022-09-16T15:12:07.059Z"
   },
   {
    "duration": 5,
    "start_time": "2022-09-16T15:12:07.067Z"
   },
   {
    "duration": 27,
    "start_time": "2022-09-16T15:12:07.074Z"
   },
   {
    "duration": 13,
    "start_time": "2022-09-16T15:12:07.103Z"
   },
   {
    "duration": 12,
    "start_time": "2022-09-16T15:12:07.117Z"
   },
   {
    "duration": 9,
    "start_time": "2022-09-16T15:12:07.131Z"
   },
   {
    "duration": 15,
    "start_time": "2022-09-16T15:12:07.142Z"
   },
   {
    "duration": 18,
    "start_time": "2022-09-16T15:29:48.811Z"
   },
   {
    "duration": 21,
    "start_time": "2022-09-16T15:30:10.457Z"
   },
   {
    "duration": 349,
    "start_time": "2022-09-16T15:30:21.292Z"
   },
   {
    "duration": 111,
    "start_time": "2022-09-16T15:31:09.568Z"
   },
   {
    "duration": 28,
    "start_time": "2022-09-16T15:31:26.478Z"
   },
   {
    "duration": 26,
    "start_time": "2022-09-16T15:31:49.113Z"
   },
   {
    "duration": 25,
    "start_time": "2022-09-16T15:33:54.808Z"
   },
   {
    "duration": 22,
    "start_time": "2022-09-16T15:34:29.707Z"
   },
   {
    "duration": 20,
    "start_time": "2022-09-16T15:34:45.778Z"
   },
   {
    "duration": 29,
    "start_time": "2022-09-16T15:34:57.317Z"
   },
   {
    "duration": 280,
    "start_time": "2022-09-16T15:39:33.863Z"
   },
   {
    "duration": 154,
    "start_time": "2022-09-16T15:39:51.923Z"
   },
   {
    "duration": 21,
    "start_time": "2022-09-16T15:40:02.228Z"
   },
   {
    "duration": 19,
    "start_time": "2022-09-16T15:41:36.289Z"
   },
   {
    "duration": 300,
    "start_time": "2022-09-16T15:41:49.255Z"
   },
   {
    "duration": 25,
    "start_time": "2022-09-16T15:46:11.895Z"
   },
   {
    "duration": 25,
    "start_time": "2022-09-16T15:47:00.464Z"
   },
   {
    "duration": 28,
    "start_time": "2022-09-16T15:47:15.655Z"
   },
   {
    "duration": 146,
    "start_time": "2022-09-16T15:48:06.535Z"
   },
   {
    "duration": 26,
    "start_time": "2022-09-16T15:48:29.010Z"
   },
   {
    "duration": 137,
    "start_time": "2022-09-16T15:48:40.606Z"
   },
   {
    "duration": 22,
    "start_time": "2022-09-16T15:50:00.989Z"
   },
   {
    "duration": 339,
    "start_time": "2022-09-16T15:50:12.791Z"
   },
   {
    "duration": 23,
    "start_time": "2022-09-16T15:50:26.461Z"
   },
   {
    "duration": 22,
    "start_time": "2022-09-16T15:50:42.896Z"
   },
   {
    "duration": 295,
    "start_time": "2022-09-16T15:55:31.730Z"
   },
   {
    "duration": 568,
    "start_time": "2022-09-16T15:57:36.303Z"
   },
   {
    "duration": 448,
    "start_time": "2022-09-16T15:57:52.456Z"
   },
   {
    "duration": 541,
    "start_time": "2022-09-16T15:58:47.020Z"
   },
   {
    "duration": 523,
    "start_time": "2022-09-16T15:59:01.502Z"
   },
   {
    "duration": 503,
    "start_time": "2022-09-16T19:47:30.452Z"
   },
   {
    "duration": 513,
    "start_time": "2022-09-16T19:47:39.109Z"
   },
   {
    "duration": 207,
    "start_time": "2022-09-16T19:54:56.021Z"
   },
   {
    "duration": 12,
    "start_time": "2022-09-16T19:56:48.395Z"
   },
   {
    "duration": 186,
    "start_time": "2022-09-16T19:56:57.541Z"
   },
   {
    "duration": 15,
    "start_time": "2022-09-16T19:57:35.829Z"
   },
   {
    "duration": 14,
    "start_time": "2022-09-16T19:57:52.139Z"
   },
   {
    "duration": 486,
    "start_time": "2022-09-16T20:00:29.237Z"
   },
   {
    "duration": 820,
    "start_time": "2022-09-16T20:01:36.512Z"
   },
   {
    "duration": 214,
    "start_time": "2022-09-16T20:03:59.666Z"
   },
   {
    "duration": 205,
    "start_time": "2022-09-16T20:05:41.746Z"
   },
   {
    "duration": 116,
    "start_time": "2022-09-16T20:05:51.976Z"
   },
   {
    "duration": 16,
    "start_time": "2022-09-16T20:06:30.688Z"
   },
   {
    "duration": 141,
    "start_time": "2022-09-16T20:14:42.748Z"
   },
   {
    "duration": 15,
    "start_time": "2022-09-16T20:14:55.714Z"
   },
   {
    "duration": 14,
    "start_time": "2022-09-16T20:15:55.125Z"
   },
   {
    "duration": 19,
    "start_time": "2022-09-16T20:16:32.878Z"
   },
   {
    "duration": 127,
    "start_time": "2022-09-16T20:16:46.311Z"
   },
   {
    "duration": 14,
    "start_time": "2022-09-16T20:22:18.488Z"
   },
   {
    "duration": 313,
    "start_time": "2022-09-16T20:54:34.546Z"
   },
   {
    "duration": 241,
    "start_time": "2022-09-16T20:55:35.385Z"
   },
   {
    "duration": 257,
    "start_time": "2022-09-16T20:55:41.447Z"
   },
   {
    "duration": 295,
    "start_time": "2022-09-16T20:55:54.383Z"
   },
   {
    "duration": 275,
    "start_time": "2022-09-16T20:56:39.698Z"
   },
   {
    "duration": 267,
    "start_time": "2022-09-16T20:56:49.991Z"
   },
   {
    "duration": 19,
    "start_time": "2022-09-16T21:06:04.357Z"
   },
   {
    "duration": 377,
    "start_time": "2022-09-16T21:06:14.307Z"
   },
   {
    "duration": 15,
    "start_time": "2022-09-16T21:07:34.095Z"
   },
   {
    "duration": 15,
    "start_time": "2022-09-16T21:07:44.537Z"
   },
   {
    "duration": 7,
    "start_time": "2022-09-16T21:08:16.307Z"
   },
   {
    "duration": 8,
    "start_time": "2022-09-16T21:09:43.442Z"
   },
   {
    "duration": 149,
    "start_time": "2022-09-16T21:10:05.135Z"
   },
   {
    "duration": 15,
    "start_time": "2022-09-16T21:11:25.601Z"
   },
   {
    "duration": 15,
    "start_time": "2022-09-16T21:11:29.935Z"
   },
   {
    "duration": 277,
    "start_time": "2022-09-16T21:12:12.273Z"
   },
   {
    "duration": 279,
    "start_time": "2022-09-16T21:13:21.752Z"
   },
   {
    "duration": 271,
    "start_time": "2022-09-16T21:13:33.658Z"
   },
   {
    "duration": 362,
    "start_time": "2022-09-16T21:14:31.073Z"
   },
   {
    "duration": 288,
    "start_time": "2022-09-16T21:14:43.157Z"
   },
   {
    "duration": 5,
    "start_time": "2022-09-16T21:40:23.699Z"
   },
   {
    "duration": 145,
    "start_time": "2022-09-16T21:40:25.596Z"
   },
   {
    "duration": 4,
    "start_time": "2022-09-16T21:40:37.348Z"
   },
   {
    "duration": 5,
    "start_time": "2022-09-16T21:40:46.056Z"
   },
   {
    "duration": 139,
    "start_time": "2022-09-16T21:40:57.206Z"
   },
   {
    "duration": 4,
    "start_time": "2022-09-16T21:41:12.446Z"
   },
   {
    "duration": 1256,
    "start_time": "2022-09-16T21:42:04.763Z"
   },
   {
    "duration": 10,
    "start_time": "2022-09-16T21:46:34.504Z"
   },
   {
    "duration": 11,
    "start_time": "2022-09-16T21:46:54.488Z"
   },
   {
    "duration": 10,
    "start_time": "2022-09-16T21:47:10.892Z"
   },
   {
    "duration": 10,
    "start_time": "2022-09-16T21:47:32.149Z"
   },
   {
    "duration": 1062,
    "start_time": "2022-09-16T21:48:19.492Z"
   },
   {
    "duration": 51,
    "start_time": "2022-09-16T21:48:20.556Z"
   },
   {
    "duration": 17,
    "start_time": "2022-09-16T21:48:20.608Z"
   },
   {
    "duration": 15,
    "start_time": "2022-09-16T21:48:20.628Z"
   },
   {
    "duration": 3,
    "start_time": "2022-09-16T21:48:20.644Z"
   },
   {
    "duration": 14,
    "start_time": "2022-09-16T21:48:20.648Z"
   },
   {
    "duration": 5,
    "start_time": "2022-09-16T21:48:20.663Z"
   },
   {
    "duration": 10,
    "start_time": "2022-09-16T21:48:20.669Z"
   },
   {
    "duration": 1758,
    "start_time": "2022-09-16T21:48:20.700Z"
   },
   {
    "duration": 856,
    "start_time": "2022-09-16T21:48:22.461Z"
   },
   {
    "duration": 732,
    "start_time": "2022-09-16T21:48:23.319Z"
   },
   {
    "duration": 8,
    "start_time": "2022-09-16T21:48:24.053Z"
   },
   {
    "duration": 20,
    "start_time": "2022-09-16T21:48:24.062Z"
   },
   {
    "duration": 5,
    "start_time": "2022-09-16T21:48:24.084Z"
   },
   {
    "duration": 22,
    "start_time": "2022-09-16T21:48:24.090Z"
   },
   {
    "duration": 7,
    "start_time": "2022-09-16T21:48:24.113Z"
   },
   {
    "duration": 9,
    "start_time": "2022-09-16T21:48:24.122Z"
   },
   {
    "duration": 5,
    "start_time": "2022-09-16T21:48:24.132Z"
   },
   {
    "duration": 189,
    "start_time": "2022-09-16T21:48:24.138Z"
   },
   {
    "duration": 379,
    "start_time": "2022-09-16T21:48:24.328Z"
   },
   {
    "duration": 780,
    "start_time": "2022-09-16T21:48:24.708Z"
   },
   {
    "duration": 25,
    "start_time": "2022-09-16T21:48:25.489Z"
   },
   {
    "duration": 20,
    "start_time": "2022-09-16T21:48:25.515Z"
   },
   {
    "duration": 508,
    "start_time": "2022-09-16T21:48:25.536Z"
   },
   {
    "duration": 343,
    "start_time": "2022-09-16T21:48:26.046Z"
   },
   {
    "duration": 11,
    "start_time": "2022-09-16T21:48:26.391Z"
   },
   {
    "duration": 148,
    "start_time": "2022-09-16T21:48:26.403Z"
   },
   {
    "duration": 5,
    "start_time": "2022-09-16T21:48:26.555Z"
   },
   {
    "duration": 140,
    "start_time": "2022-09-16T21:48:26.562Z"
   },
   {
    "duration": 5,
    "start_time": "2022-09-16T21:48:26.704Z"
   },
   {
    "duration": 1250,
    "start_time": "2022-09-16T21:48:26.710Z"
   },
   {
    "duration": 10,
    "start_time": "2022-09-16T21:48:27.962Z"
   },
   {
    "duration": 5,
    "start_time": "2022-09-16T21:48:27.974Z"
   },
   {
    "duration": 25,
    "start_time": "2022-09-16T21:48:27.980Z"
   },
   {
    "duration": 6,
    "start_time": "2022-09-16T21:48:28.006Z"
   },
   {
    "duration": 7,
    "start_time": "2022-09-16T21:48:28.013Z"
   },
   {
    "duration": 10,
    "start_time": "2022-09-16T21:48:28.021Z"
   },
   {
    "duration": 11,
    "start_time": "2022-09-16T21:48:28.033Z"
   },
   {
    "duration": 19,
    "start_time": "2022-09-16T21:48:28.046Z"
   },
   {
    "duration": 463,
    "start_time": "2022-09-16T21:48:28.066Z"
   },
   {
    "duration": 5,
    "start_time": "2022-09-16T21:48:28.530Z"
   },
   {
    "duration": 6,
    "start_time": "2022-09-16T21:48:28.537Z"
   },
   {
    "duration": 7,
    "start_time": "2022-09-16T21:48:28.544Z"
   },
   {
    "duration": 11,
    "start_time": "2022-09-16T21:48:28.552Z"
   },
   {
    "duration": 4,
    "start_time": "2022-09-16T21:48:28.565Z"
   },
   {
    "duration": 6,
    "start_time": "2022-09-16T21:48:28.570Z"
   },
   {
    "duration": 24,
    "start_time": "2022-09-16T21:48:28.578Z"
   },
   {
    "duration": 9,
    "start_time": "2022-09-16T21:48:28.603Z"
   },
   {
    "duration": 112,
    "start_time": "2022-09-16T21:48:28.614Z"
   },
   {
    "duration": 13,
    "start_time": "2022-09-16T21:48:28.727Z"
   },
   {
    "duration": 4,
    "start_time": "2022-09-16T21:48:28.741Z"
   },
   {
    "duration": 21,
    "start_time": "2022-09-16T22:11:38.358Z"
   },
   {
    "duration": 5,
    "start_time": "2022-09-16T22:18:13.910Z"
   },
   {
    "duration": 6,
    "start_time": "2022-09-16T22:18:15.291Z"
   },
   {
    "duration": 5,
    "start_time": "2022-09-16T22:18:16.393Z"
   },
   {
    "duration": 10,
    "start_time": "2022-09-16T22:18:18.157Z"
   },
   {
    "duration": 1086,
    "start_time": "2022-09-16T22:33:36.405Z"
   },
   {
    "duration": 52,
    "start_time": "2022-09-16T22:33:37.493Z"
   },
   {
    "duration": 19,
    "start_time": "2022-09-16T22:33:37.546Z"
   },
   {
    "duration": 12,
    "start_time": "2022-09-16T22:33:37.567Z"
   },
   {
    "duration": 3,
    "start_time": "2022-09-16T22:33:37.580Z"
   },
   {
    "duration": 17,
    "start_time": "2022-09-16T22:33:37.584Z"
   },
   {
    "duration": 4,
    "start_time": "2022-09-16T22:33:37.602Z"
   },
   {
    "duration": 7,
    "start_time": "2022-09-16T22:33:37.608Z"
   },
   {
    "duration": 1864,
    "start_time": "2022-09-16T22:33:37.617Z"
   },
   {
    "duration": 829,
    "start_time": "2022-09-16T22:33:39.484Z"
   },
   {
    "duration": 724,
    "start_time": "2022-09-16T22:33:40.315Z"
   },
   {
    "duration": 8,
    "start_time": "2022-09-16T22:33:41.041Z"
   },
   {
    "duration": 11,
    "start_time": "2022-09-16T22:33:41.050Z"
   },
   {
    "duration": 4,
    "start_time": "2022-09-16T22:33:41.063Z"
   },
   {
    "duration": 13,
    "start_time": "2022-09-16T22:33:41.068Z"
   },
   {
    "duration": 6,
    "start_time": "2022-09-16T22:33:41.083Z"
   },
   {
    "duration": 8,
    "start_time": "2022-09-16T22:33:41.099Z"
   },
   {
    "duration": 4,
    "start_time": "2022-09-16T22:33:41.109Z"
   },
   {
    "duration": 170,
    "start_time": "2022-09-16T22:33:41.114Z"
   },
   {
    "duration": 389,
    "start_time": "2022-09-16T22:33:41.285Z"
   },
   {
    "duration": 864,
    "start_time": "2022-09-16T22:33:41.675Z"
   },
   {
    "duration": 19,
    "start_time": "2022-09-16T22:33:42.541Z"
   },
   {
    "duration": 38,
    "start_time": "2022-09-16T22:33:42.562Z"
   },
   {
    "duration": 591,
    "start_time": "2022-09-16T22:33:42.602Z"
   },
   {
    "duration": 349,
    "start_time": "2022-09-16T22:33:43.195Z"
   },
   {
    "duration": 5,
    "start_time": "2022-09-16T22:33:43.545Z"
   },
   {
    "duration": 158,
    "start_time": "2022-09-16T22:33:43.552Z"
   },
   {
    "duration": 4,
    "start_time": "2022-09-16T22:33:43.714Z"
   },
   {
    "duration": 142,
    "start_time": "2022-09-16T22:33:43.720Z"
   },
   {
    "duration": 5,
    "start_time": "2022-09-16T22:33:43.864Z"
   },
   {
    "duration": 1345,
    "start_time": "2022-09-16T22:33:43.870Z"
   },
   {
    "duration": 21,
    "start_time": "2022-09-16T22:33:45.216Z"
   },
   {
    "duration": 5,
    "start_time": "2022-09-16T22:33:45.238Z"
   },
   {
    "duration": 9,
    "start_time": "2022-09-16T22:33:45.244Z"
   },
   {
    "duration": 8,
    "start_time": "2022-09-16T22:33:45.254Z"
   },
   {
    "duration": 9,
    "start_time": "2022-09-16T22:33:45.264Z"
   },
   {
    "duration": 28,
    "start_time": "2022-09-16T22:33:45.275Z"
   },
   {
    "duration": 14,
    "start_time": "2022-09-16T22:33:45.305Z"
   },
   {
    "duration": 18,
    "start_time": "2022-09-16T22:33:45.320Z"
   },
   {
    "duration": 472,
    "start_time": "2022-09-16T22:33:45.339Z"
   },
   {
    "duration": 5,
    "start_time": "2022-09-16T22:33:45.813Z"
   },
   {
    "duration": 12,
    "start_time": "2022-09-16T22:33:45.819Z"
   },
   {
    "duration": 12,
    "start_time": "2022-09-16T22:33:45.833Z"
   },
   {
    "duration": 23,
    "start_time": "2022-09-16T22:33:45.846Z"
   },
   {
    "duration": 13,
    "start_time": "2022-09-16T22:33:45.870Z"
   },
   {
    "duration": 6,
    "start_time": "2022-09-16T22:33:45.885Z"
   },
   {
    "duration": 7,
    "start_time": "2022-09-16T22:33:45.893Z"
   },
   {
    "duration": 12,
    "start_time": "2022-09-16T22:33:45.901Z"
   },
   {
    "duration": 109,
    "start_time": "2022-09-16T22:33:45.914Z"
   },
   {
    "duration": 9,
    "start_time": "2022-09-16T22:33:46.025Z"
   },
   {
    "duration": 6,
    "start_time": "2022-09-16T22:33:46.036Z"
   },
   {
    "duration": 10019,
    "start_time": "2022-09-16T22:42:09.772Z"
   },
   {
    "duration": 291,
    "start_time": "2022-09-16T22:47:46.014Z"
   },
   {
    "duration": 203,
    "start_time": "2022-09-16T22:48:22.920Z"
   },
   {
    "duration": 211,
    "start_time": "2022-09-16T22:49:33.994Z"
   },
   {
    "duration": 372,
    "start_time": "2022-09-16T22:49:58.272Z"
   },
   {
    "duration": 261,
    "start_time": "2022-09-16T22:57:30.748Z"
   },
   {
    "duration": 191,
    "start_time": "2022-09-16T22:57:59.629Z"
   },
   {
    "duration": 200,
    "start_time": "2022-09-16T22:58:19.937Z"
   },
   {
    "duration": 201,
    "start_time": "2022-09-16T22:58:27.850Z"
   },
   {
    "duration": 2265,
    "start_time": "2022-09-16T23:00:04.077Z"
   },
   {
    "duration": 2019,
    "start_time": "2022-09-16T23:00:23.157Z"
   },
   {
    "duration": 197,
    "start_time": "2022-09-16T23:21:10.091Z"
   },
   {
    "duration": 219,
    "start_time": "2022-09-16T23:21:44.567Z"
   },
   {
    "duration": 314,
    "start_time": "2022-09-16T23:22:22.340Z"
   },
   {
    "duration": 21,
    "start_time": "2022-09-16T23:23:30.476Z"
   },
   {
    "duration": 411,
    "start_time": "2022-09-16T23:23:42.666Z"
   },
   {
    "duration": 316,
    "start_time": "2022-09-16T23:24:10.791Z"
   },
   {
    "duration": 376,
    "start_time": "2022-09-16T23:25:15.198Z"
   },
   {
    "duration": 381,
    "start_time": "2022-09-16T23:25:36.604Z"
   },
   {
    "duration": 407,
    "start_time": "2022-09-16T23:25:55.543Z"
   },
   {
    "duration": 385,
    "start_time": "2022-09-16T23:26:10.004Z"
   },
   {
    "duration": 374,
    "start_time": "2022-09-16T23:26:17.720Z"
   },
   {
    "duration": 1004,
    "start_time": "2022-09-16T23:27:57.052Z"
   },
   {
    "duration": 49,
    "start_time": "2022-09-16T23:27:58.058Z"
   },
   {
    "duration": 18,
    "start_time": "2022-09-16T23:27:58.108Z"
   },
   {
    "duration": 12,
    "start_time": "2022-09-16T23:27:58.128Z"
   },
   {
    "duration": 6,
    "start_time": "2022-09-16T23:27:58.142Z"
   },
   {
    "duration": 13,
    "start_time": "2022-09-16T23:27:58.149Z"
   },
   {
    "duration": 4,
    "start_time": "2022-09-16T23:27:58.163Z"
   },
   {
    "duration": 9,
    "start_time": "2022-09-16T23:27:58.168Z"
   },
   {
    "duration": 1773,
    "start_time": "2022-09-16T23:27:58.200Z"
   },
   {
    "duration": 846,
    "start_time": "2022-09-16T23:27:59.977Z"
   },
   {
    "duration": 746,
    "start_time": "2022-09-16T23:28:00.825Z"
   },
   {
    "duration": 8,
    "start_time": "2022-09-16T23:28:01.573Z"
   },
   {
    "duration": 18,
    "start_time": "2022-09-16T23:28:01.582Z"
   },
   {
    "duration": 4,
    "start_time": "2022-09-16T23:28:01.601Z"
   },
   {
    "duration": 17,
    "start_time": "2022-09-16T23:28:01.607Z"
   },
   {
    "duration": 8,
    "start_time": "2022-09-16T23:28:01.625Z"
   },
   {
    "duration": 19,
    "start_time": "2022-09-16T23:28:01.635Z"
   },
   {
    "duration": 4,
    "start_time": "2022-09-16T23:28:01.655Z"
   },
   {
    "duration": 155,
    "start_time": "2022-09-16T23:28:01.661Z"
   },
   {
    "duration": 359,
    "start_time": "2022-09-16T23:28:01.818Z"
   },
   {
    "duration": 789,
    "start_time": "2022-09-16T23:28:02.179Z"
   },
   {
    "duration": 18,
    "start_time": "2022-09-16T23:28:02.969Z"
   },
   {
    "duration": 30,
    "start_time": "2022-09-16T23:28:02.988Z"
   },
   {
    "duration": 366,
    "start_time": "2022-09-16T23:28:03.020Z"
   },
   {
    "duration": 338,
    "start_time": "2022-09-16T23:28:03.388Z"
   },
   {
    "duration": 4,
    "start_time": "2022-09-16T23:28:03.728Z"
   },
   {
    "duration": 152,
    "start_time": "2022-09-16T23:28:03.734Z"
   },
   {
    "duration": 13,
    "start_time": "2022-09-16T23:28:03.889Z"
   },
   {
    "duration": 134,
    "start_time": "2022-09-16T23:28:03.903Z"
   },
   {
    "duration": 4,
    "start_time": "2022-09-16T23:28:04.039Z"
   },
   {
    "duration": 1291,
    "start_time": "2022-09-16T23:28:04.045Z"
   },
   {
    "duration": 21,
    "start_time": "2022-09-16T23:28:05.338Z"
   },
   {
    "duration": 5,
    "start_time": "2022-09-16T23:28:05.360Z"
   },
   {
    "duration": 7,
    "start_time": "2022-09-16T23:28:05.367Z"
   },
   {
    "duration": 6,
    "start_time": "2022-09-16T23:28:05.400Z"
   },
   {
    "duration": 9,
    "start_time": "2022-09-16T23:28:05.407Z"
   },
   {
    "duration": 12,
    "start_time": "2022-09-16T23:28:05.418Z"
   },
   {
    "duration": 11,
    "start_time": "2022-09-16T23:28:05.431Z"
   },
   {
    "duration": 12,
    "start_time": "2022-09-16T23:28:05.444Z"
   },
   {
    "duration": 460,
    "start_time": "2022-09-16T23:28:05.458Z"
   },
   {
    "duration": 5,
    "start_time": "2022-09-16T23:28:05.920Z"
   },
   {
    "duration": 14,
    "start_time": "2022-09-16T23:28:05.926Z"
   },
   {
    "duration": 10,
    "start_time": "2022-09-16T23:28:05.941Z"
   },
   {
    "duration": 12,
    "start_time": "2022-09-16T23:28:05.952Z"
   },
   {
    "duration": 5,
    "start_time": "2022-09-16T23:28:05.966Z"
   },
   {
    "duration": 7,
    "start_time": "2022-09-16T23:28:05.973Z"
   },
   {
    "duration": 8,
    "start_time": "2022-09-16T23:28:05.981Z"
   },
   {
    "duration": 12,
    "start_time": "2022-09-16T23:28:05.991Z"
   },
   {
    "duration": 105,
    "start_time": "2022-09-16T23:28:06.005Z"
   },
   {
    "duration": 24,
    "start_time": "2022-09-16T23:28:06.111Z"
   },
   {
    "duration": 4,
    "start_time": "2022-09-16T23:28:06.136Z"
   },
   {
    "duration": 47,
    "start_time": "2022-09-17T17:17:47.498Z"
   },
   {
    "duration": 1177,
    "start_time": "2022-09-17T17:17:50.597Z"
   },
   {
    "duration": 53,
    "start_time": "2022-09-17T17:17:51.776Z"
   },
   {
    "duration": 20,
    "start_time": "2022-09-17T17:17:51.831Z"
   },
   {
    "duration": 21,
    "start_time": "2022-09-17T17:17:51.853Z"
   },
   {
    "duration": 3,
    "start_time": "2022-09-17T17:17:51.876Z"
   },
   {
    "duration": 24,
    "start_time": "2022-09-17T17:17:51.880Z"
   },
   {
    "duration": 7,
    "start_time": "2022-09-17T17:17:51.906Z"
   },
   {
    "duration": 30,
    "start_time": "2022-09-17T17:17:51.915Z"
   },
   {
    "duration": 2648,
    "start_time": "2022-09-17T17:17:51.947Z"
   },
   {
    "duration": 902,
    "start_time": "2022-09-17T17:17:54.598Z"
   },
   {
    "duration": 844,
    "start_time": "2022-09-17T17:17:55.502Z"
   },
   {
    "duration": 9,
    "start_time": "2022-09-17T17:17:56.354Z"
   },
   {
    "duration": 12,
    "start_time": "2022-09-17T17:17:56.365Z"
   },
   {
    "duration": 5,
    "start_time": "2022-09-17T17:17:56.378Z"
   },
   {
    "duration": 15,
    "start_time": "2022-09-17T17:17:56.385Z"
   },
   {
    "duration": 7,
    "start_time": "2022-09-17T17:17:56.402Z"
   },
   {
    "duration": 44,
    "start_time": "2022-09-17T17:17:56.410Z"
   },
   {
    "duration": 5,
    "start_time": "2022-09-17T17:17:56.456Z"
   },
   {
    "duration": 202,
    "start_time": "2022-09-17T17:17:56.463Z"
   },
   {
    "duration": 408,
    "start_time": "2022-09-17T17:17:56.668Z"
   },
   {
    "duration": 886,
    "start_time": "2022-09-17T17:17:57.078Z"
   },
   {
    "duration": 22,
    "start_time": "2022-09-17T17:17:57.966Z"
   },
   {
    "duration": 24,
    "start_time": "2022-09-17T17:17:57.990Z"
   },
   {
    "duration": 435,
    "start_time": "2022-09-17T17:17:58.015Z"
   },
   {
    "duration": 406,
    "start_time": "2022-09-17T17:17:58.452Z"
   },
   {
    "duration": 100,
    "start_time": "2022-09-17T17:17:58.860Z"
   },
   {
    "duration": 6,
    "start_time": "2022-09-17T17:17:58.962Z"
   },
   {
    "duration": 184,
    "start_time": "2022-09-17T17:17:58.972Z"
   },
   {
    "duration": 6,
    "start_time": "2022-09-17T17:17:59.158Z"
   },
   {
    "duration": 162,
    "start_time": "2022-09-17T17:17:59.165Z"
   },
   {
    "duration": 5,
    "start_time": "2022-09-17T17:17:59.329Z"
   },
   {
    "duration": 1449,
    "start_time": "2022-09-17T17:17:59.335Z"
   },
   {
    "duration": 24,
    "start_time": "2022-09-17T17:18:00.786Z"
   },
   {
    "duration": 10,
    "start_time": "2022-09-17T17:18:00.811Z"
   },
   {
    "duration": 39,
    "start_time": "2022-09-17T17:18:00.823Z"
   },
   {
    "duration": 36,
    "start_time": "2022-09-17T17:18:00.864Z"
   },
   {
    "duration": 12,
    "start_time": "2022-09-17T17:18:00.902Z"
   },
   {
    "duration": 22,
    "start_time": "2022-09-17T17:18:00.916Z"
   },
   {
    "duration": 33,
    "start_time": "2022-09-17T17:18:00.940Z"
   },
   {
    "duration": 18,
    "start_time": "2022-09-17T17:18:00.975Z"
   },
   {
    "duration": 751,
    "start_time": "2022-09-17T17:18:00.995Z"
   },
   {
    "duration": 7,
    "start_time": "2022-09-17T17:18:01.755Z"
   },
   {
    "duration": 11,
    "start_time": "2022-09-17T17:18:01.764Z"
   },
   {
    "duration": 17,
    "start_time": "2022-09-17T17:18:01.777Z"
   },
   {
    "duration": 20,
    "start_time": "2022-09-17T17:18:01.795Z"
   },
   {
    "duration": 10,
    "start_time": "2022-09-17T17:18:01.817Z"
   },
   {
    "duration": 9,
    "start_time": "2022-09-17T17:18:01.829Z"
   },
   {
    "duration": 22,
    "start_time": "2022-09-17T17:18:01.840Z"
   },
   {
    "duration": 19,
    "start_time": "2022-09-17T17:18:01.864Z"
   },
   {
    "duration": 13,
    "start_time": "2022-09-17T17:18:01.885Z"
   },
   {
    "duration": 12,
    "start_time": "2022-09-17T17:18:01.900Z"
   },
   {
    "duration": 5,
    "start_time": "2022-09-17T17:18:01.914Z"
   },
   {
    "duration": 364,
    "start_time": "2022-09-17T17:18:32.609Z"
   },
   {
    "duration": 40,
    "start_time": "2022-09-17T17:22:29.999Z"
   }
  ],
  "kernelspec": {
   "display_name": "Python 3",
   "language": "python",
   "name": "python3"
  },
  "language_info": {
   "codemirror_mode": {
    "name": "ipython",
    "version": 3
   },
   "file_extension": ".py",
   "mimetype": "text/x-python",
   "name": "python",
   "nbconvert_exporter": "python",
   "pygments_lexer": "ipython3",
   "version": "3.7.0"
  },
  "toc": {
   "base_numbering": 1,
   "nav_menu": {},
   "number_sections": true,
   "sideBar": true,
   "skip_h1_title": true,
   "title_cell": "Table of Contents",
   "title_sidebar": "Contents",
   "toc_cell": false,
   "toc_position": {
    "height": "calc(100% - 180px)",
    "left": "10px",
    "top": "150px",
    "width": "351.944px"
   },
   "toc_section_display": true,
   "toc_window_display": true
  }
 },
 "nbformat": 4,
 "nbformat_minor": 2
}
